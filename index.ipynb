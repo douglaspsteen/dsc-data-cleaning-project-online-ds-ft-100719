{
 "cells": [
  {
   "cell_type": "markdown",
   "metadata": {},
   "source": [
    "# Project - Data Cleaning\n",
    "\n",
    "## Introduction\n",
    "In this lab, we'll make use of everything we've learned about pandas, data cleaning, and Exploratory Data Analysis. In order to complete this lab, you'll have to make import, clean, combine, reshape, and visualize data to answer questions provided, as well as your own questions!\n",
    "\n",
    "## Objectives\n",
    "You will be able to:\n",
    "* Show mastery of the content covered in this section\n",
    "\n",
    "## The Dataset\n",
    "In this lab, we'll work with the comprehensive [Super Heroes Dataset](https://www.kaggle.com/claudiodavi/superhero-set/data), which can be found on Kaggle!\n",
    "\n",
    "## Goals\n",
    "* Use all available pandas knowledge to clean the dataset and deal with null values\n",
    "* Use Queries and aggregations to group the data into interesting subsets as needed\n",
    "* Use descriptive statistics and data visualization to find answers to questions we may have about the data. \n",
    "\n",
    "## Getting Started\n",
    "\n",
    "In the cell below:\n",
    "\n",
    "* Import and alias pandas as `pd`\n",
    "* Import and alias numpy as `np`\n",
    "* Import and alias seaborn as `sns`\n",
    "* Import and alias matplotlib.pyplot as `plt`\n",
    "* Set matplotlib visualizations to display inline in the notebook"
   ]
  },
  {
   "cell_type": "code",
   "execution_count": 1,
   "metadata": {},
   "outputs": [],
   "source": [
    "import pandas as pd\n",
    "import numpy as np\n",
    "import seaborn as sns\n",
    "import matplotlib.pyplot as plt\n",
    "%matplotlib inline"
   ]
  },
  {
   "cell_type": "markdown",
   "metadata": {},
   "source": [
    "For this lab, our dataset is split among two different sources--`heroes_information.csv` and `super_hero_powers.csv`.\n",
    "\n",
    "Use pandas to read in each file and store them in DataFrames in the appropriate variables below. Then, display the head of each to ensure that everything loaded correctly.  "
   ]
  },
  {
   "cell_type": "code",
   "execution_count": 2,
   "metadata": {},
   "outputs": [
    {
     "data": {
      "text/html": [
       "<div>\n",
       "<style scoped>\n",
       "    .dataframe tbody tr th:only-of-type {\n",
       "        vertical-align: middle;\n",
       "    }\n",
       "\n",
       "    .dataframe tbody tr th {\n",
       "        vertical-align: top;\n",
       "    }\n",
       "\n",
       "    .dataframe thead th {\n",
       "        text-align: right;\n",
       "    }\n",
       "</style>\n",
       "<table border=\"1\" class=\"dataframe\">\n",
       "  <thead>\n",
       "    <tr style=\"text-align: right;\">\n",
       "      <th></th>\n",
       "      <th>Unnamed: 0</th>\n",
       "      <th>name</th>\n",
       "      <th>Gender</th>\n",
       "      <th>Eye color</th>\n",
       "      <th>Race</th>\n",
       "      <th>Hair color</th>\n",
       "      <th>Height</th>\n",
       "      <th>Publisher</th>\n",
       "      <th>Skin color</th>\n",
       "      <th>Alignment</th>\n",
       "      <th>Weight</th>\n",
       "    </tr>\n",
       "  </thead>\n",
       "  <tbody>\n",
       "    <tr>\n",
       "      <th>0</th>\n",
       "      <td>0</td>\n",
       "      <td>A-Bomb</td>\n",
       "      <td>Male</td>\n",
       "      <td>yellow</td>\n",
       "      <td>Human</td>\n",
       "      <td>No Hair</td>\n",
       "      <td>203.0</td>\n",
       "      <td>Marvel Comics</td>\n",
       "      <td>-</td>\n",
       "      <td>good</td>\n",
       "      <td>441.0</td>\n",
       "    </tr>\n",
       "    <tr>\n",
       "      <th>1</th>\n",
       "      <td>1</td>\n",
       "      <td>Abe Sapien</td>\n",
       "      <td>Male</td>\n",
       "      <td>blue</td>\n",
       "      <td>Icthyo Sapien</td>\n",
       "      <td>No Hair</td>\n",
       "      <td>191.0</td>\n",
       "      <td>Dark Horse Comics</td>\n",
       "      <td>blue</td>\n",
       "      <td>good</td>\n",
       "      <td>65.0</td>\n",
       "    </tr>\n",
       "    <tr>\n",
       "      <th>2</th>\n",
       "      <td>2</td>\n",
       "      <td>Abin Sur</td>\n",
       "      <td>Male</td>\n",
       "      <td>blue</td>\n",
       "      <td>Ungaran</td>\n",
       "      <td>No Hair</td>\n",
       "      <td>185.0</td>\n",
       "      <td>DC Comics</td>\n",
       "      <td>red</td>\n",
       "      <td>good</td>\n",
       "      <td>90.0</td>\n",
       "    </tr>\n",
       "    <tr>\n",
       "      <th>3</th>\n",
       "      <td>3</td>\n",
       "      <td>Abomination</td>\n",
       "      <td>Male</td>\n",
       "      <td>green</td>\n",
       "      <td>Human / Radiation</td>\n",
       "      <td>No Hair</td>\n",
       "      <td>203.0</td>\n",
       "      <td>Marvel Comics</td>\n",
       "      <td>-</td>\n",
       "      <td>bad</td>\n",
       "      <td>441.0</td>\n",
       "    </tr>\n",
       "    <tr>\n",
       "      <th>4</th>\n",
       "      <td>4</td>\n",
       "      <td>Abraxas</td>\n",
       "      <td>Male</td>\n",
       "      <td>blue</td>\n",
       "      <td>Cosmic Entity</td>\n",
       "      <td>Black</td>\n",
       "      <td>-99.0</td>\n",
       "      <td>Marvel Comics</td>\n",
       "      <td>-</td>\n",
       "      <td>bad</td>\n",
       "      <td>-99.0</td>\n",
       "    </tr>\n",
       "  </tbody>\n",
       "</table>\n",
       "</div>"
      ],
      "text/plain": [
       "   Unnamed: 0         name Gender Eye color               Race Hair color  \\\n",
       "0           0       A-Bomb   Male    yellow              Human    No Hair   \n",
       "1           1   Abe Sapien   Male      blue      Icthyo Sapien    No Hair   \n",
       "2           2     Abin Sur   Male      blue            Ungaran    No Hair   \n",
       "3           3  Abomination   Male     green  Human / Radiation    No Hair   \n",
       "4           4      Abraxas   Male      blue      Cosmic Entity      Black   \n",
       "\n",
       "   Height          Publisher Skin color Alignment  Weight  \n",
       "0   203.0      Marvel Comics          -      good   441.0  \n",
       "1   191.0  Dark Horse Comics       blue      good    65.0  \n",
       "2   185.0          DC Comics        red      good    90.0  \n",
       "3   203.0      Marvel Comics          -       bad   441.0  \n",
       "4   -99.0      Marvel Comics          -       bad   -99.0  "
      ]
     },
     "metadata": {},
     "output_type": "display_data"
    },
    {
     "data": {
      "text/html": [
       "<div>\n",
       "<style scoped>\n",
       "    .dataframe tbody tr th:only-of-type {\n",
       "        vertical-align: middle;\n",
       "    }\n",
       "\n",
       "    .dataframe tbody tr th {\n",
       "        vertical-align: top;\n",
       "    }\n",
       "\n",
       "    .dataframe thead th {\n",
       "        text-align: right;\n",
       "    }\n",
       "</style>\n",
       "<table border=\"1\" class=\"dataframe\">\n",
       "  <thead>\n",
       "    <tr style=\"text-align: right;\">\n",
       "      <th></th>\n",
       "      <th>hero_names</th>\n",
       "      <th>Agility</th>\n",
       "      <th>Accelerated Healing</th>\n",
       "      <th>Lantern Power Ring</th>\n",
       "      <th>Dimensional Awareness</th>\n",
       "      <th>Cold Resistance</th>\n",
       "      <th>Durability</th>\n",
       "      <th>Stealth</th>\n",
       "      <th>Energy Absorption</th>\n",
       "      <th>Flight</th>\n",
       "      <th>...</th>\n",
       "      <th>Web Creation</th>\n",
       "      <th>Reality Warping</th>\n",
       "      <th>Odin Force</th>\n",
       "      <th>Symbiote Costume</th>\n",
       "      <th>Speed Force</th>\n",
       "      <th>Phoenix Force</th>\n",
       "      <th>Molecular Dissipation</th>\n",
       "      <th>Vision - Cryo</th>\n",
       "      <th>Omnipresent</th>\n",
       "      <th>Omniscient</th>\n",
       "    </tr>\n",
       "  </thead>\n",
       "  <tbody>\n",
       "    <tr>\n",
       "      <th>0</th>\n",
       "      <td>3-D Man</td>\n",
       "      <td>True</td>\n",
       "      <td>False</td>\n",
       "      <td>False</td>\n",
       "      <td>False</td>\n",
       "      <td>False</td>\n",
       "      <td>False</td>\n",
       "      <td>False</td>\n",
       "      <td>False</td>\n",
       "      <td>False</td>\n",
       "      <td>...</td>\n",
       "      <td>False</td>\n",
       "      <td>False</td>\n",
       "      <td>False</td>\n",
       "      <td>False</td>\n",
       "      <td>False</td>\n",
       "      <td>False</td>\n",
       "      <td>False</td>\n",
       "      <td>False</td>\n",
       "      <td>False</td>\n",
       "      <td>False</td>\n",
       "    </tr>\n",
       "    <tr>\n",
       "      <th>1</th>\n",
       "      <td>A-Bomb</td>\n",
       "      <td>False</td>\n",
       "      <td>True</td>\n",
       "      <td>False</td>\n",
       "      <td>False</td>\n",
       "      <td>False</td>\n",
       "      <td>True</td>\n",
       "      <td>False</td>\n",
       "      <td>False</td>\n",
       "      <td>False</td>\n",
       "      <td>...</td>\n",
       "      <td>False</td>\n",
       "      <td>False</td>\n",
       "      <td>False</td>\n",
       "      <td>False</td>\n",
       "      <td>False</td>\n",
       "      <td>False</td>\n",
       "      <td>False</td>\n",
       "      <td>False</td>\n",
       "      <td>False</td>\n",
       "      <td>False</td>\n",
       "    </tr>\n",
       "    <tr>\n",
       "      <th>2</th>\n",
       "      <td>Abe Sapien</td>\n",
       "      <td>True</td>\n",
       "      <td>True</td>\n",
       "      <td>False</td>\n",
       "      <td>False</td>\n",
       "      <td>True</td>\n",
       "      <td>True</td>\n",
       "      <td>False</td>\n",
       "      <td>False</td>\n",
       "      <td>False</td>\n",
       "      <td>...</td>\n",
       "      <td>False</td>\n",
       "      <td>False</td>\n",
       "      <td>False</td>\n",
       "      <td>False</td>\n",
       "      <td>False</td>\n",
       "      <td>False</td>\n",
       "      <td>False</td>\n",
       "      <td>False</td>\n",
       "      <td>False</td>\n",
       "      <td>False</td>\n",
       "    </tr>\n",
       "    <tr>\n",
       "      <th>3</th>\n",
       "      <td>Abin Sur</td>\n",
       "      <td>False</td>\n",
       "      <td>False</td>\n",
       "      <td>True</td>\n",
       "      <td>False</td>\n",
       "      <td>False</td>\n",
       "      <td>False</td>\n",
       "      <td>False</td>\n",
       "      <td>False</td>\n",
       "      <td>False</td>\n",
       "      <td>...</td>\n",
       "      <td>False</td>\n",
       "      <td>False</td>\n",
       "      <td>False</td>\n",
       "      <td>False</td>\n",
       "      <td>False</td>\n",
       "      <td>False</td>\n",
       "      <td>False</td>\n",
       "      <td>False</td>\n",
       "      <td>False</td>\n",
       "      <td>False</td>\n",
       "    </tr>\n",
       "    <tr>\n",
       "      <th>4</th>\n",
       "      <td>Abomination</td>\n",
       "      <td>False</td>\n",
       "      <td>True</td>\n",
       "      <td>False</td>\n",
       "      <td>False</td>\n",
       "      <td>False</td>\n",
       "      <td>False</td>\n",
       "      <td>False</td>\n",
       "      <td>False</td>\n",
       "      <td>False</td>\n",
       "      <td>...</td>\n",
       "      <td>False</td>\n",
       "      <td>False</td>\n",
       "      <td>False</td>\n",
       "      <td>False</td>\n",
       "      <td>False</td>\n",
       "      <td>False</td>\n",
       "      <td>False</td>\n",
       "      <td>False</td>\n",
       "      <td>False</td>\n",
       "      <td>False</td>\n",
       "    </tr>\n",
       "  </tbody>\n",
       "</table>\n",
       "<p>5 rows × 168 columns</p>\n",
       "</div>"
      ],
      "text/plain": [
       "    hero_names  Agility  Accelerated Healing  Lantern Power Ring  \\\n",
       "0      3-D Man     True                False               False   \n",
       "1       A-Bomb    False                 True               False   \n",
       "2   Abe Sapien     True                 True               False   \n",
       "3     Abin Sur    False                False                True   \n",
       "4  Abomination    False                 True               False   \n",
       "\n",
       "   Dimensional Awareness  Cold Resistance  Durability  Stealth  \\\n",
       "0                  False            False       False    False   \n",
       "1                  False            False        True    False   \n",
       "2                  False             True        True    False   \n",
       "3                  False            False       False    False   \n",
       "4                  False            False       False    False   \n",
       "\n",
       "   Energy Absorption  Flight     ...      Web Creation  Reality Warping  \\\n",
       "0              False   False     ...             False            False   \n",
       "1              False   False     ...             False            False   \n",
       "2              False   False     ...             False            False   \n",
       "3              False   False     ...             False            False   \n",
       "4              False   False     ...             False            False   \n",
       "\n",
       "   Odin Force  Symbiote Costume  Speed Force  Phoenix Force  \\\n",
       "0       False             False        False          False   \n",
       "1       False             False        False          False   \n",
       "2       False             False        False          False   \n",
       "3       False             False        False          False   \n",
       "4       False             False        False          False   \n",
       "\n",
       "   Molecular Dissipation  Vision - Cryo  Omnipresent  Omniscient  \n",
       "0                  False          False        False       False  \n",
       "1                  False          False        False       False  \n",
       "2                  False          False        False       False  \n",
       "3                  False          False        False       False  \n",
       "4                  False          False        False       False  \n",
       "\n",
       "[5 rows x 168 columns]"
      ]
     },
     "metadata": {},
     "output_type": "display_data"
    }
   ],
   "source": [
    "heroes_df = pd.read_csv('heroes_information.csv')\n",
    "powers_df = pd.read_csv('super_hero_powers.csv')\n",
    "display(heroes_df.head())\n",
    "display(powers_df.head())"
   ]
  },
  {
   "cell_type": "markdown",
   "metadata": {},
   "source": [
    "It looks as if the heroes information dataset contained an index column.  We did not specify that this dataset contained an index column, because we hadn't seen it yet. Pandas does not know how to tell apart an index column from any other data, so it stored it with the column name `Unnamed: 0`.  \n",
    "\n",
    "Our DataFrame provided row indices by default, so this column is not needed.  Drop it from the DataFrame in place in the cell below, and then display the head of `heroes_df` to ensure that it worked properly. "
   ]
  },
  {
   "cell_type": "code",
   "execution_count": 3,
   "metadata": {},
   "outputs": [
    {
     "data": {
      "text/html": [
       "<div>\n",
       "<style scoped>\n",
       "    .dataframe tbody tr th:only-of-type {\n",
       "        vertical-align: middle;\n",
       "    }\n",
       "\n",
       "    .dataframe tbody tr th {\n",
       "        vertical-align: top;\n",
       "    }\n",
       "\n",
       "    .dataframe thead th {\n",
       "        text-align: right;\n",
       "    }\n",
       "</style>\n",
       "<table border=\"1\" class=\"dataframe\">\n",
       "  <thead>\n",
       "    <tr style=\"text-align: right;\">\n",
       "      <th></th>\n",
       "      <th>name</th>\n",
       "      <th>Gender</th>\n",
       "      <th>Eye color</th>\n",
       "      <th>Race</th>\n",
       "      <th>Hair color</th>\n",
       "      <th>Height</th>\n",
       "      <th>Publisher</th>\n",
       "      <th>Skin color</th>\n",
       "      <th>Alignment</th>\n",
       "      <th>Weight</th>\n",
       "    </tr>\n",
       "  </thead>\n",
       "  <tbody>\n",
       "    <tr>\n",
       "      <th>0</th>\n",
       "      <td>A-Bomb</td>\n",
       "      <td>Male</td>\n",
       "      <td>yellow</td>\n",
       "      <td>Human</td>\n",
       "      <td>No Hair</td>\n",
       "      <td>203.0</td>\n",
       "      <td>Marvel Comics</td>\n",
       "      <td>-</td>\n",
       "      <td>good</td>\n",
       "      <td>441.0</td>\n",
       "    </tr>\n",
       "    <tr>\n",
       "      <th>1</th>\n",
       "      <td>Abe Sapien</td>\n",
       "      <td>Male</td>\n",
       "      <td>blue</td>\n",
       "      <td>Icthyo Sapien</td>\n",
       "      <td>No Hair</td>\n",
       "      <td>191.0</td>\n",
       "      <td>Dark Horse Comics</td>\n",
       "      <td>blue</td>\n",
       "      <td>good</td>\n",
       "      <td>65.0</td>\n",
       "    </tr>\n",
       "    <tr>\n",
       "      <th>2</th>\n",
       "      <td>Abin Sur</td>\n",
       "      <td>Male</td>\n",
       "      <td>blue</td>\n",
       "      <td>Ungaran</td>\n",
       "      <td>No Hair</td>\n",
       "      <td>185.0</td>\n",
       "      <td>DC Comics</td>\n",
       "      <td>red</td>\n",
       "      <td>good</td>\n",
       "      <td>90.0</td>\n",
       "    </tr>\n",
       "    <tr>\n",
       "      <th>3</th>\n",
       "      <td>Abomination</td>\n",
       "      <td>Male</td>\n",
       "      <td>green</td>\n",
       "      <td>Human / Radiation</td>\n",
       "      <td>No Hair</td>\n",
       "      <td>203.0</td>\n",
       "      <td>Marvel Comics</td>\n",
       "      <td>-</td>\n",
       "      <td>bad</td>\n",
       "      <td>441.0</td>\n",
       "    </tr>\n",
       "    <tr>\n",
       "      <th>4</th>\n",
       "      <td>Abraxas</td>\n",
       "      <td>Male</td>\n",
       "      <td>blue</td>\n",
       "      <td>Cosmic Entity</td>\n",
       "      <td>Black</td>\n",
       "      <td>-99.0</td>\n",
       "      <td>Marvel Comics</td>\n",
       "      <td>-</td>\n",
       "      <td>bad</td>\n",
       "      <td>-99.0</td>\n",
       "    </tr>\n",
       "  </tbody>\n",
       "</table>\n",
       "</div>"
      ],
      "text/plain": [
       "          name Gender Eye color               Race Hair color  Height  \\\n",
       "0       A-Bomb   Male    yellow              Human    No Hair   203.0   \n",
       "1   Abe Sapien   Male      blue      Icthyo Sapien    No Hair   191.0   \n",
       "2     Abin Sur   Male      blue            Ungaran    No Hair   185.0   \n",
       "3  Abomination   Male     green  Human / Radiation    No Hair   203.0   \n",
       "4      Abraxas   Male      blue      Cosmic Entity      Black   -99.0   \n",
       "\n",
       "           Publisher Skin color Alignment  Weight  \n",
       "0      Marvel Comics          -      good   441.0  \n",
       "1  Dark Horse Comics       blue      good    65.0  \n",
       "2          DC Comics        red      good    90.0  \n",
       "3      Marvel Comics          -       bad   441.0  \n",
       "4      Marvel Comics          -       bad   -99.0  "
      ]
     },
     "execution_count": 3,
     "metadata": {},
     "output_type": "execute_result"
    }
   ],
   "source": [
    "heroes_df.drop(columns=['Unnamed: 0'], inplace=True)\n",
    "heroes_df.head()"
   ]
  },
  {
   "cell_type": "markdown",
   "metadata": {},
   "source": [
    "## Familiarize Yourself With the Dataset\n",
    "\n",
    "The first step in our Exploratory Data Analysis will be to get familiar with the data.  This step includes:\n",
    "\n",
    "* Understanding the dimensionality of your dataset\n",
    "* Investigating what type of data it contains, and the data types used to store it\n",
    "* Discovering how missing values are encoded, and how many there are\n",
    "* Getting a feel for what information it does and doesn't contain\n",
    "\n",
    "In the cell below, get the descriptive statistics of each DataFrame.  "
   ]
  },
  {
   "cell_type": "code",
   "execution_count": 4,
   "metadata": {},
   "outputs": [
    {
     "name": "stdout",
     "output_type": "stream",
     "text": [
      "<class 'pandas.core.frame.DataFrame'>\n",
      "RangeIndex: 734 entries, 0 to 733\n",
      "Data columns (total 10 columns):\n",
      "name          734 non-null object\n",
      "Gender        734 non-null object\n",
      "Eye color     734 non-null object\n",
      "Race          734 non-null object\n",
      "Hair color    734 non-null object\n",
      "Height        734 non-null float64\n",
      "Publisher     719 non-null object\n",
      "Skin color    734 non-null object\n",
      "Alignment     734 non-null object\n",
      "Weight        732 non-null float64\n",
      "dtypes: float64(2), object(8)\n",
      "memory usage: 57.4+ KB\n"
     ]
    },
    {
     "data": {
      "text/html": [
       "<div>\n",
       "<style scoped>\n",
       "    .dataframe tbody tr th:only-of-type {\n",
       "        vertical-align: middle;\n",
       "    }\n",
       "\n",
       "    .dataframe tbody tr th {\n",
       "        vertical-align: top;\n",
       "    }\n",
       "\n",
       "    .dataframe thead th {\n",
       "        text-align: right;\n",
       "    }\n",
       "</style>\n",
       "<table border=\"1\" class=\"dataframe\">\n",
       "  <thead>\n",
       "    <tr style=\"text-align: right;\">\n",
       "      <th></th>\n",
       "      <th>Height</th>\n",
       "      <th>Weight</th>\n",
       "    </tr>\n",
       "  </thead>\n",
       "  <tbody>\n",
       "    <tr>\n",
       "      <th>count</th>\n",
       "      <td>734.000000</td>\n",
       "      <td>732.000000</td>\n",
       "    </tr>\n",
       "    <tr>\n",
       "      <th>mean</th>\n",
       "      <td>102.254087</td>\n",
       "      <td>43.855191</td>\n",
       "    </tr>\n",
       "    <tr>\n",
       "      <th>std</th>\n",
       "      <td>139.624543</td>\n",
       "      <td>130.823733</td>\n",
       "    </tr>\n",
       "    <tr>\n",
       "      <th>min</th>\n",
       "      <td>-99.000000</td>\n",
       "      <td>-99.000000</td>\n",
       "    </tr>\n",
       "    <tr>\n",
       "      <th>25%</th>\n",
       "      <td>-99.000000</td>\n",
       "      <td>-99.000000</td>\n",
       "    </tr>\n",
       "    <tr>\n",
       "      <th>50%</th>\n",
       "      <td>175.000000</td>\n",
       "      <td>62.000000</td>\n",
       "    </tr>\n",
       "    <tr>\n",
       "      <th>75%</th>\n",
       "      <td>185.000000</td>\n",
       "      <td>90.000000</td>\n",
       "    </tr>\n",
       "    <tr>\n",
       "      <th>max</th>\n",
       "      <td>975.000000</td>\n",
       "      <td>900.000000</td>\n",
       "    </tr>\n",
       "  </tbody>\n",
       "</table>\n",
       "</div>"
      ],
      "text/plain": [
       "           Height      Weight\n",
       "count  734.000000  732.000000\n",
       "mean   102.254087   43.855191\n",
       "std    139.624543  130.823733\n",
       "min    -99.000000  -99.000000\n",
       "25%    -99.000000  -99.000000\n",
       "50%    175.000000   62.000000\n",
       "75%    185.000000   90.000000\n",
       "max    975.000000  900.000000"
      ]
     },
     "metadata": {},
     "output_type": "display_data"
    },
    {
     "data": {
      "text/plain": [
       "None"
      ]
     },
     "metadata": {},
     "output_type": "display_data"
    },
    {
     "name": "stdout",
     "output_type": "stream",
     "text": [
      "<class 'pandas.core.frame.DataFrame'>\n",
      "RangeIndex: 667 entries, 0 to 666\n",
      "Columns: 168 entries, hero_names to Omniscient\n",
      "dtypes: bool(167), object(1)\n",
      "memory usage: 114.1+ KB\n"
     ]
    },
    {
     "data": {
      "text/html": [
       "<div>\n",
       "<style scoped>\n",
       "    .dataframe tbody tr th:only-of-type {\n",
       "        vertical-align: middle;\n",
       "    }\n",
       "\n",
       "    .dataframe tbody tr th {\n",
       "        vertical-align: top;\n",
       "    }\n",
       "\n",
       "    .dataframe thead th {\n",
       "        text-align: right;\n",
       "    }\n",
       "</style>\n",
       "<table border=\"1\" class=\"dataframe\">\n",
       "  <thead>\n",
       "    <tr style=\"text-align: right;\">\n",
       "      <th></th>\n",
       "      <th>hero_names</th>\n",
       "      <th>Agility</th>\n",
       "      <th>Accelerated Healing</th>\n",
       "      <th>Lantern Power Ring</th>\n",
       "      <th>Dimensional Awareness</th>\n",
       "      <th>Cold Resistance</th>\n",
       "      <th>Durability</th>\n",
       "      <th>Stealth</th>\n",
       "      <th>Energy Absorption</th>\n",
       "      <th>Flight</th>\n",
       "      <th>...</th>\n",
       "      <th>Web Creation</th>\n",
       "      <th>Reality Warping</th>\n",
       "      <th>Odin Force</th>\n",
       "      <th>Symbiote Costume</th>\n",
       "      <th>Speed Force</th>\n",
       "      <th>Phoenix Force</th>\n",
       "      <th>Molecular Dissipation</th>\n",
       "      <th>Vision - Cryo</th>\n",
       "      <th>Omnipresent</th>\n",
       "      <th>Omniscient</th>\n",
       "    </tr>\n",
       "  </thead>\n",
       "  <tbody>\n",
       "    <tr>\n",
       "      <th>count</th>\n",
       "      <td>667</td>\n",
       "      <td>667</td>\n",
       "      <td>667</td>\n",
       "      <td>667</td>\n",
       "      <td>667</td>\n",
       "      <td>667</td>\n",
       "      <td>667</td>\n",
       "      <td>667</td>\n",
       "      <td>667</td>\n",
       "      <td>667</td>\n",
       "      <td>...</td>\n",
       "      <td>667</td>\n",
       "      <td>667</td>\n",
       "      <td>667</td>\n",
       "      <td>667</td>\n",
       "      <td>667</td>\n",
       "      <td>667</td>\n",
       "      <td>667</td>\n",
       "      <td>667</td>\n",
       "      <td>667</td>\n",
       "      <td>667</td>\n",
       "    </tr>\n",
       "    <tr>\n",
       "      <th>unique</th>\n",
       "      <td>667</td>\n",
       "      <td>2</td>\n",
       "      <td>2</td>\n",
       "      <td>2</td>\n",
       "      <td>2</td>\n",
       "      <td>2</td>\n",
       "      <td>2</td>\n",
       "      <td>2</td>\n",
       "      <td>2</td>\n",
       "      <td>2</td>\n",
       "      <td>...</td>\n",
       "      <td>2</td>\n",
       "      <td>2</td>\n",
       "      <td>2</td>\n",
       "      <td>2</td>\n",
       "      <td>2</td>\n",
       "      <td>2</td>\n",
       "      <td>2</td>\n",
       "      <td>2</td>\n",
       "      <td>2</td>\n",
       "      <td>2</td>\n",
       "    </tr>\n",
       "    <tr>\n",
       "      <th>top</th>\n",
       "      <td>The Comedian</td>\n",
       "      <td>False</td>\n",
       "      <td>False</td>\n",
       "      <td>False</td>\n",
       "      <td>False</td>\n",
       "      <td>False</td>\n",
       "      <td>False</td>\n",
       "      <td>False</td>\n",
       "      <td>False</td>\n",
       "      <td>False</td>\n",
       "      <td>...</td>\n",
       "      <td>False</td>\n",
       "      <td>False</td>\n",
       "      <td>False</td>\n",
       "      <td>False</td>\n",
       "      <td>False</td>\n",
       "      <td>False</td>\n",
       "      <td>False</td>\n",
       "      <td>False</td>\n",
       "      <td>False</td>\n",
       "      <td>False</td>\n",
       "    </tr>\n",
       "    <tr>\n",
       "      <th>freq</th>\n",
       "      <td>1</td>\n",
       "      <td>425</td>\n",
       "      <td>489</td>\n",
       "      <td>656</td>\n",
       "      <td>642</td>\n",
       "      <td>620</td>\n",
       "      <td>410</td>\n",
       "      <td>541</td>\n",
       "      <td>590</td>\n",
       "      <td>455</td>\n",
       "      <td>...</td>\n",
       "      <td>653</td>\n",
       "      <td>651</td>\n",
       "      <td>665</td>\n",
       "      <td>658</td>\n",
       "      <td>666</td>\n",
       "      <td>666</td>\n",
       "      <td>666</td>\n",
       "      <td>665</td>\n",
       "      <td>665</td>\n",
       "      <td>665</td>\n",
       "    </tr>\n",
       "  </tbody>\n",
       "</table>\n",
       "<p>4 rows × 168 columns</p>\n",
       "</div>"
      ],
      "text/plain": [
       "          hero_names Agility Accelerated Healing Lantern Power Ring  \\\n",
       "count            667     667                 667                667   \n",
       "unique           667       2                   2                  2   \n",
       "top     The Comedian   False               False              False   \n",
       "freq               1     425                 489                656   \n",
       "\n",
       "       Dimensional Awareness Cold Resistance Durability Stealth  \\\n",
       "count                    667             667        667     667   \n",
       "unique                     2               2          2       2   \n",
       "top                    False           False      False   False   \n",
       "freq                     642             620        410     541   \n",
       "\n",
       "       Energy Absorption Flight    ...     Web Creation Reality Warping  \\\n",
       "count                667    667    ...              667             667   \n",
       "unique                 2      2    ...                2               2   \n",
       "top                False  False    ...            False           False   \n",
       "freq                 590    455    ...              653             651   \n",
       "\n",
       "       Odin Force Symbiote Costume Speed Force Phoenix Force  \\\n",
       "count         667              667         667           667   \n",
       "unique          2                2           2             2   \n",
       "top         False            False       False         False   \n",
       "freq          665              658         666           666   \n",
       "\n",
       "       Molecular Dissipation Vision - Cryo Omnipresent Omniscient  \n",
       "count                    667           667         667        667  \n",
       "unique                     2             2           2          2  \n",
       "top                    False         False       False      False  \n",
       "freq                     666           665         665        665  \n",
       "\n",
       "[4 rows x 168 columns]"
      ]
     },
     "metadata": {},
     "output_type": "display_data"
    },
    {
     "data": {
      "text/plain": [
       "None"
      ]
     },
     "metadata": {},
     "output_type": "display_data"
    }
   ],
   "source": [
    "display(heroes_df.describe(), heroes_df.info())\n",
    "display(powers_df.describe(), powers_df.info())"
   ]
  },
  {
   "cell_type": "markdown",
   "metadata": {},
   "source": [
    "## Dealing with Null Values\n",
    "\n",
    "Starting in the cell below, detect and deal with any null values in either data frame.  Then, explain your methodology for detecting and dealing with outliers in the markdown section below.  Be sure to explain your strategy for dealing with null values in numeric columns, as well as your strategy for dealing with null values in non-numeric columns.  \n",
    "\n",
    "Note that if you need to add more cells to write code in, you can do this by:\n",
    "\n",
    "**1.** Highlighting a cell and then pressing `ESC` to enter command mode.  \n",
    "**2.** Press `A` to add a cell above the highlighted cell, or `B` to add a cell below the highlighted cell. \n",
    "\n",
    "Describe your strategy below this line:\n",
    "____________________________________________________________________________________________________________________________\n",
    "\n",
    "\n"
   ]
  },
  {
   "cell_type": "markdown",
   "metadata": {},
   "source": [
    "## In heroes_df:\n",
    "    #### Idenfity the number of null values for each variable\n",
    "    #### Identify any placeholder values for each variable\n",
    "    #### Clean data set appropriately with respect to each variable and entire data set\n",
    "## In powers_df:\n",
    "    #### Idenfity the number of null values for each variable\n",
    "    #### Identify any placeholder values for each variable\n",
    "    #### Clean data set appropriately with respect to each variable and entire data set"
   ]
  },
  {
   "cell_type": "code",
   "execution_count": 5,
   "metadata": {},
   "outputs": [
    {
     "data": {
      "text/plain": [
       "name           0\n",
       "Gender         0\n",
       "Eye color      0\n",
       "Race           0\n",
       "Hair color     0\n",
       "Height         0\n",
       "Publisher     15\n",
       "Skin color     0\n",
       "Alignment      0\n",
       "Weight         2\n",
       "dtype: int64"
      ]
     },
     "execution_count": 5,
     "metadata": {},
     "output_type": "execute_result"
    }
   ],
   "source": [
    "# Identifying null values in heroes_df\n",
    "\n",
    "# Checking entire dataset against isna.().sum()\n",
    "heroes_df.isna().sum()"
   ]
  },
  {
   "cell_type": "code",
   "execution_count": 6,
   "metadata": {},
   "outputs": [
    {
     "name": "stdout",
     "output_type": "stream",
     "text": [
      "name\n"
     ]
    },
    {
     "data": {
      "text/plain": [
       "Spider-Man        3\n",
       "Goliath           3\n",
       "Atlas             2\n",
       "Nova              2\n",
       "Firestorm         2\n",
       "Blue Beetle       2\n",
       "Black Canary      2\n",
       "Batman            2\n",
       "Captain Marvel    2\n",
       "Batgirl           2\n",
       "Namor             2\n",
       "Toxin             2\n",
       "Angel             2\n",
       "Blizzard          2\n",
       "Atom              2\n",
       "Vindicator        2\n",
       "Speedy            2\n",
       "Vagabond          1\n",
       "Brainiac          1\n",
       "Blackout          1\n",
       "Goblin Queen      1\n",
       "Joker             1\n",
       "Maya Herrera      1\n",
       "Huntress          1\n",
       "Angela            1\n",
       "One-Above-All     1\n",
       "Walrus            1\n",
       "Elektra           1\n",
       "Predator          1\n",
       "Scorpia           1\n",
       "                 ..\n",
       "Ardina            1\n",
       "Wondra            1\n",
       "Penance           1\n",
       "Black Adam        1\n",
       "Superman          1\n",
       "Corsair           1\n",
       "Sif               1\n",
       "Dazzler           1\n",
       "Rachel Pirzad     1\n",
       "Batman II         1\n",
       "Batgirl IV        1\n",
       "Ghost Rider       1\n",
       "Yellowjacket      1\n",
       "Agent Zero        1\n",
       "Doc Samson        1\n",
       "Domino            1\n",
       "Gravity           1\n",
       "Nightcrawler      1\n",
       "Hybrid            1\n",
       "Genesis           1\n",
       "Lightning Lad     1\n",
       "Battlestar        1\n",
       "Luke Cage         1\n",
       "Captain Epic      1\n",
       "Venompool         1\n",
       "Trickster         1\n",
       "Bird-Man II       1\n",
       "Plantman          1\n",
       "Question          1\n",
       "Shadowcat         1\n",
       "Name: name, Length: 715, dtype: int64"
      ]
     },
     "metadata": {},
     "output_type": "display_data"
    },
    {
     "name": "stdout",
     "output_type": "stream",
     "text": [
      "\n",
      "\n",
      "\n",
      "\n",
      "Gender\n"
     ]
    },
    {
     "data": {
      "text/plain": [
       "Male      505\n",
       "Female    200\n",
       "-          29\n",
       "Name: Gender, dtype: int64"
      ]
     },
     "metadata": {},
     "output_type": "display_data"
    },
    {
     "name": "stdout",
     "output_type": "stream",
     "text": [
      "\n",
      "\n",
      "\n",
      "\n",
      "Eye color\n"
     ]
    },
    {
     "data": {
      "text/plain": [
       "blue                       225\n",
       "-                          172\n",
       "brown                      126\n",
       "green                       73\n",
       "red                         46\n",
       "black                       23\n",
       "yellow                      19\n",
       "white                       17\n",
       "hazel                        6\n",
       "grey                         6\n",
       "purple                       4\n",
       "gold                         3\n",
       "violet                       2\n",
       "amber                        2\n",
       "yellow (without irises)      2\n",
       "silver                       1\n",
       "yellow / blue                1\n",
       "white / red                  1\n",
       "yellow / red                 1\n",
       "blue / white                 1\n",
       "bown                         1\n",
       "indigo                       1\n",
       "green / blue                 1\n",
       "Name: Eye color, dtype: int64"
      ]
     },
     "metadata": {},
     "output_type": "display_data"
    },
    {
     "name": "stdout",
     "output_type": "stream",
     "text": [
      "\n",
      "\n",
      "\n",
      "\n",
      "Race\n"
     ]
    },
    {
     "data": {
      "text/plain": [
       "-                     304\n",
       "Human                 208\n",
       "Mutant                 63\n",
       "God / Eternal          14\n",
       "Human / Radiation      11\n",
       "Cyborg                 11\n",
       "Symbiote                9\n",
       "Android                 9\n",
       "Kryptonian              7\n",
       "Alien                   7\n",
       "Demon                   6\n",
       "Atlantean               5\n",
       "Alpha                   5\n",
       "Asgardian               5\n",
       "Animal                  4\n",
       "Inhuman                 4\n",
       "Cosmic Entity           4\n",
       "Human / Altered         3\n",
       "New God                 3\n",
       "Metahuman               2\n",
       "Saiyan                  2\n",
       "Human-Kree              2\n",
       "Human / Cosmic          2\n",
       "Amazon                  2\n",
       "Frost Giant             2\n",
       "Demi-God                2\n",
       "Eternal                 2\n",
       "Vampire                 2\n",
       "Clone                   1\n",
       "Neyaphem                1\n",
       "                     ... \n",
       "Bizarro                 1\n",
       "Spartoi                 1\n",
       "Human / Clone           1\n",
       "Planet                  1\n",
       "Tamaranean              1\n",
       "Yautja                  1\n",
       "Ungaran                 1\n",
       "Gorilla                 1\n",
       "Talokite                1\n",
       "Strontian               1\n",
       "Gungan                  1\n",
       "Rodian                  1\n",
       "Dathomirian Zabrak      1\n",
       "Korugaran               1\n",
       "Luphomoid               1\n",
       "Kaiju                   1\n",
       "Human-Vulcan            1\n",
       "Zombie                  1\n",
       "Maiar                   1\n",
       "Human-Vuldarian         1\n",
       "Xenomorph XX121         1\n",
       "Martian                 1\n",
       "Flora Colossus          1\n",
       "Yoda's species          1\n",
       "Parademon               1\n",
       "Kakarantharaian         1\n",
       "Bolovaxian              1\n",
       "Mutant / Clone          1\n",
       "Zen-Whoberian           1\n",
       "Human-Spartoi           1\n",
       "Name: Race, Length: 62, dtype: int64"
      ]
     },
     "metadata": {},
     "output_type": "display_data"
    },
    {
     "name": "stdout",
     "output_type": "stream",
     "text": [
      "\n",
      "\n",
      "\n",
      "\n",
      "Hair color\n"
     ]
    },
    {
     "data": {
      "text/plain": [
       "-                   172\n",
       "Black               158\n",
       "Blond                99\n",
       "Brown                86\n",
       "No Hair              75\n",
       "Red                  51\n",
       "White                23\n",
       "Auburn               13\n",
       "Green                 8\n",
       "Strawberry Blond      7\n",
       "Purple                5\n",
       "Grey                  5\n",
       "Silver                4\n",
       "Brown / White         4\n",
       "blond                 3\n",
       "Blue                  3\n",
       "black                 3\n",
       "Yellow                2\n",
       "Orange                2\n",
       "Pink                  1\n",
       "Black / Blue          1\n",
       "Orange / White        1\n",
       "Magenta               1\n",
       "Red / Orange          1\n",
       "Brownn                1\n",
       "Red / Grey            1\n",
       "Indigo                1\n",
       "Brown / Black         1\n",
       "Gold                  1\n",
       "Red / White           1\n",
       "Name: Hair color, dtype: int64"
      ]
     },
     "metadata": {},
     "output_type": "display_data"
    },
    {
     "name": "stdout",
     "output_type": "stream",
     "text": [
      "\n",
      "\n",
      "\n",
      "\n",
      "Height\n"
     ]
    },
    {
     "data": {
      "text/plain": [
       "-99.0     217\n",
       " 183.0     59\n",
       " 188.0     51\n",
       " 178.0     39\n",
       " 180.0     38\n",
       " 185.0     35\n",
       " 175.0     34\n",
       " 168.0     29\n",
       " 170.0     26\n",
       " 165.0     26\n",
       " 191.0     21\n",
       " 193.0     21\n",
       " 198.0     18\n",
       " 173.0     17\n",
       " 201.0     11\n",
       " 196.0     11\n",
       " 163.0      8\n",
       " 213.0      7\n",
       " 203.0      5\n",
       " 211.0      5\n",
       " 157.0      5\n",
       " 244.0      4\n",
       " 229.0      3\n",
       " 155.0      3\n",
       " 218.0      3\n",
       " 226.0      3\n",
       " 122.0      2\n",
       " 206.0      2\n",
       " 279.0      2\n",
       " 366.0      2\n",
       " 137.0      2\n",
       " 30.5       2\n",
       " 305.0      2\n",
       " 61.0       1\n",
       " 975.0      1\n",
       " 142.0      1\n",
       " 287.0      1\n",
       " 267.0      1\n",
       " 304.8      1\n",
       " 701.0      1\n",
       " 876.0      1\n",
       " 259.0      1\n",
       " 15.2       1\n",
       " 297.0      1\n",
       " 257.0      1\n",
       " 62.5       1\n",
       " 66.0       1\n",
       " 160.0      1\n",
       " 140.0      1\n",
       " 234.0      1\n",
       " 71.0       1\n",
       " 79.0       1\n",
       " 108.0      1\n",
       " 64.0       1\n",
       "Name: Height, dtype: int64"
      ]
     },
     "metadata": {},
     "output_type": "display_data"
    },
    {
     "name": "stdout",
     "output_type": "stream",
     "text": [
      "\n",
      "\n",
      "\n",
      "\n",
      "Publisher\n"
     ]
    },
    {
     "data": {
      "text/plain": [
       "Marvel Comics        388\n",
       "DC Comics            215\n",
       "NBC - Heroes          19\n",
       "Dark Horse Comics     18\n",
       "Image Comics          14\n",
       "George Lucas          14\n",
       "HarperCollins          6\n",
       "Star Trek              6\n",
       "Team Epic TV           5\n",
       "SyFy                   5\n",
       "IDW Publishing         4\n",
       "ABC Studios            4\n",
       "Icon Comics            4\n",
       "Shueisha               4\n",
       "Wildstorm              3\n",
       "Sony Pictures          2\n",
       "Microsoft              1\n",
       "Hanna-Barbera          1\n",
       "Rebellion              1\n",
       "South Park             1\n",
       "Universal Studios      1\n",
       "J. K. Rowling          1\n",
       "J. R. R. Tolkien       1\n",
       "Titan Books            1\n",
       "Name: Publisher, dtype: int64"
      ]
     },
     "metadata": {},
     "output_type": "display_data"
    },
    {
     "name": "stdout",
     "output_type": "stream",
     "text": [
      "\n",
      "\n",
      "\n",
      "\n",
      "Skin color\n"
     ]
    },
    {
     "data": {
      "text/plain": [
       "-                 662\n",
       "green              21\n",
       "red                 9\n",
       "blue                9\n",
       "white               7\n",
       "silver              5\n",
       "grey                5\n",
       "purple              3\n",
       "gold                3\n",
       "pink                2\n",
       "yellow              2\n",
       "red / black         1\n",
       "gray                1\n",
       "orange              1\n",
       "orange / white      1\n",
       "black               1\n",
       "blue-white          1\n",
       "Name: Skin color, dtype: int64"
      ]
     },
     "metadata": {},
     "output_type": "display_data"
    },
    {
     "name": "stdout",
     "output_type": "stream",
     "text": [
      "\n",
      "\n",
      "\n",
      "\n",
      "Alignment\n"
     ]
    },
    {
     "data": {
      "text/plain": [
       "good       496\n",
       "bad        207\n",
       "neutral     24\n",
       "-            7\n",
       "Name: Alignment, dtype: int64"
      ]
     },
     "metadata": {},
     "output_type": "display_data"
    },
    {
     "name": "stdout",
     "output_type": "stream",
     "text": [
      "\n",
      "\n",
      "\n",
      "\n",
      "Weight\n"
     ]
    },
    {
     "data": {
      "text/plain": [
       "-99.0     237\n",
       " 79.0      23\n",
       " 54.0      23\n",
       " 81.0      22\n",
       " 90.0      19\n",
       " 52.0      15\n",
       " 86.0      15\n",
       " 59.0      14\n",
       " 56.0      13\n",
       " 77.0      13\n",
       " 61.0      13\n",
       " 101.0     12\n",
       " 50.0      12\n",
       " 88.0      11\n",
       " 63.0      11\n",
       " 83.0      10\n",
       " 95.0      10\n",
       " 74.0      10\n",
       " 65.0       9\n",
       " 72.0       8\n",
       " 68.0       8\n",
       " 104.0      8\n",
       " 135.0      8\n",
       " 57.0       7\n",
       " 97.0       7\n",
       " 99.0       7\n",
       " 117.0      6\n",
       " 108.0      6\n",
       " 55.0       5\n",
       " 70.0       5\n",
       "         ... \n",
       " 14.0       1\n",
       " 356.0      1\n",
       " 105.0      1\n",
       " 324.0      1\n",
       " 360.0      1\n",
       " 236.0      1\n",
       " 36.0       1\n",
       " 140.0      1\n",
       " 128.0      1\n",
       " 248.0      1\n",
       " 16.0       1\n",
       " 45.0       1\n",
       " 234.0      1\n",
       " 96.0       1\n",
       " 82.0       1\n",
       " 76.0       1\n",
       " 198.0      1\n",
       " 116.0      1\n",
       " 176.0      1\n",
       " 170.0      1\n",
       " 47.0       1\n",
       " 78.0       1\n",
       " 27.0       1\n",
       " 25.0       1\n",
       " 178.0      1\n",
       " 132.0      1\n",
       " 38.0       1\n",
       " 412.0      1\n",
       " 320.0      1\n",
       " 855.0      1\n",
       "Name: Weight, Length: 135, dtype: int64"
      ]
     },
     "metadata": {},
     "output_type": "display_data"
    },
    {
     "name": "stdout",
     "output_type": "stream",
     "text": [
      "\n",
      "\n",
      "\n",
      "\n"
     ]
    }
   ],
   "source": [
    "# Also, want to check value counts in all columns for placeholder values\n",
    "for column in heroes_df.columns:\n",
    "    print(column)\n",
    "    display(heroes_df[column].value_counts())\n",
    "    print('\\n\\n\\n')\n",
    "\n"
   ]
  },
  {
   "cell_type": "code",
   "execution_count": 7,
   "metadata": {},
   "outputs": [],
   "source": [
    "# Replace -99.0 and ' ' with np.nan\n",
    "# Replace '-' with unknown\n",
    "\n",
    "heroes_df.replace(to_replace=[-99.0, ' '], value=np.nan, inplace=True)\n",
    "heroes_df.replace(to_replace='-', value='Unknown', inplace=True)"
   ]
  },
  {
   "cell_type": "code",
   "execution_count": 8,
   "metadata": {},
   "outputs": [],
   "source": [
    "# Deciding to replace null 'Publisher' values with the string 'Unknown'\n",
    "heroes_df.Publisher.fillna('Unknown', inplace=True)"
   ]
  },
  {
   "cell_type": "code",
   "execution_count": 10,
   "metadata": {},
   "outputs": [
    {
     "name": "stdout",
     "output_type": "stream",
     "text": [
      "<class 'pandas.core.frame.DataFrame'>\n",
      "RangeIndex: 734 entries, 0 to 733\n",
      "Data columns (total 10 columns):\n",
      "name          734 non-null object\n",
      "Gender        734 non-null object\n",
      "Eye color     734 non-null object\n",
      "Race          734 non-null object\n",
      "Hair color    734 non-null object\n",
      "Height        517 non-null float64\n",
      "Publisher     734 non-null object\n",
      "Skin color    734 non-null object\n",
      "Alignment     734 non-null object\n",
      "Weight        495 non-null float64\n",
      "dtypes: float64(2), object(8)\n",
      "memory usage: 57.4+ KB\n",
      "name\n"
     ]
    },
    {
     "data": {
      "text/plain": [
       "Spider-Man        3\n",
       "Goliath           3\n",
       "Atlas             2\n",
       "Nova              2\n",
       "Firestorm         2\n",
       "Blue Beetle       2\n",
       "Black Canary      2\n",
       "Batman            2\n",
       "Captain Marvel    2\n",
       "Batgirl           2\n",
       "Namor             2\n",
       "Toxin             2\n",
       "Angel             2\n",
       "Blizzard          2\n",
       "Atom              2\n",
       "Vindicator        2\n",
       "Speedy            2\n",
       "Vagabond          1\n",
       "Brainiac          1\n",
       "Blackout          1\n",
       "Goblin Queen      1\n",
       "Joker             1\n",
       "Maya Herrera      1\n",
       "Huntress          1\n",
       "Angela            1\n",
       "One-Above-All     1\n",
       "Walrus            1\n",
       "Elektra           1\n",
       "Predator          1\n",
       "Scorpia           1\n",
       "                 ..\n",
       "Ardina            1\n",
       "Wondra            1\n",
       "Penance           1\n",
       "Black Adam        1\n",
       "Superman          1\n",
       "Corsair           1\n",
       "Sif               1\n",
       "Dazzler           1\n",
       "Rachel Pirzad     1\n",
       "Batman II         1\n",
       "Batgirl IV        1\n",
       "Ghost Rider       1\n",
       "Yellowjacket      1\n",
       "Agent Zero        1\n",
       "Doc Samson        1\n",
       "Domino            1\n",
       "Gravity           1\n",
       "Nightcrawler      1\n",
       "Hybrid            1\n",
       "Genesis           1\n",
       "Lightning Lad     1\n",
       "Battlestar        1\n",
       "Luke Cage         1\n",
       "Captain Epic      1\n",
       "Venompool         1\n",
       "Trickster         1\n",
       "Bird-Man II       1\n",
       "Plantman          1\n",
       "Question          1\n",
       "Shadowcat         1\n",
       "Name: name, Length: 715, dtype: int64"
      ]
     },
     "metadata": {},
     "output_type": "display_data"
    },
    {
     "name": "stdout",
     "output_type": "stream",
     "text": [
      "\n",
      "\n",
      "\n",
      "\n",
      "Gender\n"
     ]
    },
    {
     "data": {
      "text/plain": [
       "Male       505\n",
       "Female     200\n",
       "Unknown     29\n",
       "Name: Gender, dtype: int64"
      ]
     },
     "metadata": {},
     "output_type": "display_data"
    },
    {
     "name": "stdout",
     "output_type": "stream",
     "text": [
      "\n",
      "\n",
      "\n",
      "\n",
      "Eye color\n"
     ]
    },
    {
     "data": {
      "text/plain": [
       "blue                       225\n",
       "Unknown                    172\n",
       "brown                      126\n",
       "green                       73\n",
       "red                         46\n",
       "black                       23\n",
       "yellow                      19\n",
       "white                       17\n",
       "grey                         6\n",
       "hazel                        6\n",
       "purple                       4\n",
       "gold                         3\n",
       "violet                       2\n",
       "amber                        2\n",
       "yellow (without irises)      2\n",
       "yellow / blue                1\n",
       "yellow / red                 1\n",
       "silver                       1\n",
       "blue / white                 1\n",
       "bown                         1\n",
       "indigo                       1\n",
       "green / blue                 1\n",
       "white / red                  1\n",
       "Name: Eye color, dtype: int64"
      ]
     },
     "metadata": {},
     "output_type": "display_data"
    },
    {
     "name": "stdout",
     "output_type": "stream",
     "text": [
      "\n",
      "\n",
      "\n",
      "\n",
      "Race\n"
     ]
    },
    {
     "data": {
      "text/plain": [
       "Unknown               304\n",
       "Human                 208\n",
       "Mutant                 63\n",
       "God / Eternal          14\n",
       "Cyborg                 11\n",
       "Human / Radiation      11\n",
       "Android                 9\n",
       "Symbiote                9\n",
       "Kryptonian              7\n",
       "Alien                   7\n",
       "Demon                   6\n",
       "Alpha                   5\n",
       "Atlantean               5\n",
       "Asgardian               5\n",
       "Cosmic Entity           4\n",
       "Animal                  4\n",
       "Inhuman                 4\n",
       "Human / Altered         3\n",
       "New God                 3\n",
       "Metahuman               2\n",
       "Saiyan                  2\n",
       "Human-Kree              2\n",
       "Human / Cosmic          2\n",
       "Amazon                  2\n",
       "Frost Giant             2\n",
       "Demi-God                2\n",
       "Eternal                 2\n",
       "Vampire                 2\n",
       "Spartoi                 1\n",
       "Neyaphem                1\n",
       "                     ... \n",
       "Bizarro                 1\n",
       "Human / Clone           1\n",
       "Clone                   1\n",
       "Planet                  1\n",
       "Tamaranean              1\n",
       "Yautja                  1\n",
       "Ungaran                 1\n",
       "Gorilla                 1\n",
       "Talokite                1\n",
       "Strontian               1\n",
       "Gungan                  1\n",
       "Rodian                  1\n",
       "Dathomirian Zabrak      1\n",
       "Korugaran               1\n",
       "Luphomoid               1\n",
       "Kaiju                   1\n",
       "Human-Vulcan            1\n",
       "Zombie                  1\n",
       "Maiar                   1\n",
       "Human-Vuldarian         1\n",
       "Xenomorph XX121         1\n",
       "Martian                 1\n",
       "Flora Colossus          1\n",
       "Yoda's species          1\n",
       "Parademon               1\n",
       "Kakarantharaian         1\n",
       "Bolovaxian              1\n",
       "Mutant / Clone          1\n",
       "Zen-Whoberian           1\n",
       "Human-Spartoi           1\n",
       "Name: Race, Length: 62, dtype: int64"
      ]
     },
     "metadata": {},
     "output_type": "display_data"
    },
    {
     "name": "stdout",
     "output_type": "stream",
     "text": [
      "\n",
      "\n",
      "\n",
      "\n",
      "Hair color\n"
     ]
    },
    {
     "data": {
      "text/plain": [
       "Unknown             172\n",
       "Black               158\n",
       "Blond                99\n",
       "Brown                86\n",
       "No Hair              75\n",
       "Red                  51\n",
       "White                23\n",
       "Auburn               13\n",
       "Green                 8\n",
       "Strawberry Blond      7\n",
       "Grey                  5\n",
       "Purple                5\n",
       "Silver                4\n",
       "Brown / White         4\n",
       "blond                 3\n",
       "Blue                  3\n",
       "black                 3\n",
       "Yellow                2\n",
       "Orange                2\n",
       "Orange / White        1\n",
       "Pink                  1\n",
       "Magenta               1\n",
       "Black / Blue          1\n",
       "Red / Orange          1\n",
       "Brownn                1\n",
       "Red / Grey            1\n",
       "Indigo                1\n",
       "Brown / Black         1\n",
       "Gold                  1\n",
       "Red / White           1\n",
       "Name: Hair color, dtype: int64"
      ]
     },
     "metadata": {},
     "output_type": "display_data"
    },
    {
     "name": "stdout",
     "output_type": "stream",
     "text": [
      "\n",
      "\n",
      "\n",
      "\n",
      "Height\n"
     ]
    },
    {
     "data": {
      "text/plain": [
       "183.0    59\n",
       "188.0    51\n",
       "178.0    39\n",
       "180.0    38\n",
       "185.0    35\n",
       "175.0    34\n",
       "168.0    29\n",
       "170.0    26\n",
       "165.0    26\n",
       "191.0    21\n",
       "193.0    21\n",
       "198.0    18\n",
       "173.0    17\n",
       "196.0    11\n",
       "201.0    11\n",
       "163.0     8\n",
       "213.0     7\n",
       "203.0     5\n",
       "211.0     5\n",
       "157.0     5\n",
       "244.0     4\n",
       "229.0     3\n",
       "155.0     3\n",
       "218.0     3\n",
       "226.0     3\n",
       "122.0     2\n",
       "30.5      2\n",
       "206.0     2\n",
       "305.0     2\n",
       "137.0     2\n",
       "279.0     2\n",
       "366.0     2\n",
       "234.0     1\n",
       "297.0     1\n",
       "267.0     1\n",
       "304.8     1\n",
       "701.0     1\n",
       "61.0      1\n",
       "876.0     1\n",
       "259.0     1\n",
       "15.2      1\n",
       "287.0     1\n",
       "71.0      1\n",
       "257.0     1\n",
       "66.0      1\n",
       "160.0     1\n",
       "140.0     1\n",
       "64.0      1\n",
       "142.0     1\n",
       "62.5      1\n",
       "108.0     1\n",
       "79.0      1\n",
       "975.0     1\n",
       "Name: Height, dtype: int64"
      ]
     },
     "metadata": {},
     "output_type": "display_data"
    },
    {
     "name": "stdout",
     "output_type": "stream",
     "text": [
      "\n",
      "\n",
      "\n",
      "\n",
      "Publisher\n"
     ]
    },
    {
     "data": {
      "text/plain": [
       "Marvel Comics        388\n",
       "DC Comics            215\n",
       "NBC - Heroes          19\n",
       "Dark Horse Comics     18\n",
       "Unknown               15\n",
       "Image Comics          14\n",
       "George Lucas          14\n",
       "HarperCollins          6\n",
       "Star Trek              6\n",
       "Team Epic TV           5\n",
       "SyFy                   5\n",
       "IDW Publishing         4\n",
       "ABC Studios            4\n",
       "Icon Comics            4\n",
       "Shueisha               4\n",
       "Wildstorm              3\n",
       "Sony Pictures          2\n",
       "Microsoft              1\n",
       "Hanna-Barbera          1\n",
       "South Park             1\n",
       "Rebellion              1\n",
       "Universal Studios      1\n",
       "J. K. Rowling          1\n",
       "Titan Books            1\n",
       "J. R. R. Tolkien       1\n",
       "Name: Publisher, dtype: int64"
      ]
     },
     "metadata": {},
     "output_type": "display_data"
    },
    {
     "name": "stdout",
     "output_type": "stream",
     "text": [
      "\n",
      "\n",
      "\n",
      "\n",
      "Skin color\n"
     ]
    },
    {
     "data": {
      "text/plain": [
       "Unknown           662\n",
       "green              21\n",
       "blue                9\n",
       "red                 9\n",
       "white               7\n",
       "silver              5\n",
       "grey                5\n",
       "purple              3\n",
       "gold                3\n",
       "yellow              2\n",
       "pink                2\n",
       "red / black         1\n",
       "black               1\n",
       "gray                1\n",
       "orange              1\n",
       "orange / white      1\n",
       "blue-white          1\n",
       "Name: Skin color, dtype: int64"
      ]
     },
     "metadata": {},
     "output_type": "display_data"
    },
    {
     "name": "stdout",
     "output_type": "stream",
     "text": [
      "\n",
      "\n",
      "\n",
      "\n",
      "Alignment\n"
     ]
    },
    {
     "data": {
      "text/plain": [
       "good       496\n",
       "bad        207\n",
       "neutral     24\n",
       "Unknown      7\n",
       "Name: Alignment, dtype: int64"
      ]
     },
     "metadata": {},
     "output_type": "display_data"
    },
    {
     "name": "stdout",
     "output_type": "stream",
     "text": [
      "\n",
      "\n",
      "\n",
      "\n",
      "Weight\n"
     ]
    },
    {
     "data": {
      "text/plain": [
       "54.0     23\n",
       "79.0     23\n",
       "81.0     22\n",
       "90.0     19\n",
       "52.0     15\n",
       "86.0     15\n",
       "59.0     14\n",
       "77.0     13\n",
       "56.0     13\n",
       "61.0     13\n",
       "101.0    12\n",
       "50.0     12\n",
       "63.0     11\n",
       "88.0     11\n",
       "95.0     10\n",
       "74.0     10\n",
       "83.0     10\n",
       "65.0      9\n",
       "104.0     8\n",
       "68.0      8\n",
       "72.0      8\n",
       "135.0     8\n",
       "57.0      7\n",
       "97.0      7\n",
       "99.0      7\n",
       "117.0     6\n",
       "108.0     6\n",
       "158.0     5\n",
       "70.0      5\n",
       "55.0      5\n",
       "         ..\n",
       "356.0     1\n",
       "360.0     1\n",
       "82.0      1\n",
       "234.0     1\n",
       "236.0     1\n",
       "36.0      1\n",
       "140.0     1\n",
       "128.0     1\n",
       "248.0     1\n",
       "125.0     1\n",
       "115.0     1\n",
       "268.0     1\n",
       "16.0      1\n",
       "45.0      1\n",
       "76.0      1\n",
       "116.0     1\n",
       "198.0     1\n",
       "170.0     1\n",
       "176.0     1\n",
       "78.0      1\n",
       "27.0      1\n",
       "47.0      1\n",
       "178.0     1\n",
       "132.0     1\n",
       "25.0      1\n",
       "412.0     1\n",
       "38.0      1\n",
       "96.0      1\n",
       "320.0     1\n",
       "855.0     1\n",
       "Name: Weight, Length: 134, dtype: int64"
      ]
     },
     "metadata": {},
     "output_type": "display_data"
    },
    {
     "name": "stdout",
     "output_type": "stream",
     "text": [
      "\n",
      "\n",
      "\n",
      "\n"
     ]
    }
   ],
   "source": [
    "# Check data set\n",
    "heroes_df.info()\n",
    "for column in heroes_df.columns:\n",
    "    print(column)\n",
    "    display(heroes_df[column].value_counts())\n",
    "    print('\\n\\n\\n')\n"
   ]
  },
  {
   "cell_type": "code",
   "execution_count": 11,
   "metadata": {},
   "outputs": [
    {
     "data": {
      "text/plain": [
       "hero_names               0\n",
       "Agility                  0\n",
       "Accelerated Healing      0\n",
       "Lantern Power Ring       0\n",
       "Dimensional Awareness    0\n",
       "Cold Resistance          0\n",
       "Durability               0\n",
       "Stealth                  0\n",
       "Energy Absorption        0\n",
       "Flight                   0\n",
       "Danger Sense             0\n",
       "Underwater breathing     0\n",
       "Marksmanship             0\n",
       "Weapons Master           0\n",
       "Power Augmentation       0\n",
       "Animal Attributes        0\n",
       "Longevity                0\n",
       "Intelligence             0\n",
       "Super Strength           0\n",
       "Cryokinesis              0\n",
       "Telepathy                0\n",
       "Energy Armor             0\n",
       "Energy Blasts            0\n",
       "Duplication              0\n",
       "Size Changing            0\n",
       "Density Control          0\n",
       "Stamina                  0\n",
       "Astral Travel            0\n",
       "Audio Control            0\n",
       "Dexterity                0\n",
       "                        ..\n",
       "Intuitive aptitude       0\n",
       "Vision - Microscopic     0\n",
       "Melting                  0\n",
       "Wind Control             0\n",
       "Super Breath             0\n",
       "Wallcrawling             0\n",
       "Vision - Night           0\n",
       "Vision - Infrared        0\n",
       "Grim Reaping             0\n",
       "Matter Absorption        0\n",
       "The Force                0\n",
       "Resurrection             0\n",
       "Terrakinesis             0\n",
       "Vision - Heat            0\n",
       "Vitakinesis              0\n",
       "Radar Sense              0\n",
       "Qwardian Power Ring      0\n",
       "Weather Control          0\n",
       "Vision - X-Ray           0\n",
       "Vision - Thermal         0\n",
       "Web Creation             0\n",
       "Reality Warping          0\n",
       "Odin Force               0\n",
       "Symbiote Costume         0\n",
       "Speed Force              0\n",
       "Phoenix Force            0\n",
       "Molecular Dissipation    0\n",
       "Vision - Cryo            0\n",
       "Omnipresent              0\n",
       "Omniscient               0\n",
       "Length: 168, dtype: int64"
      ]
     },
     "execution_count": 11,
     "metadata": {},
     "output_type": "execute_result"
    }
   ],
   "source": [
    "# Now, identifying null values in powers_df\n",
    "powers_df.isna().sum()"
   ]
  },
  {
   "cell_type": "code",
   "execution_count": 13,
   "metadata": {},
   "outputs": [
    {
     "name": "stdout",
     "output_type": "stream",
     "text": [
      "hero_names\n"
     ]
    },
    {
     "data": {
      "text/plain": [
       "The Comedian         1\n",
       "Gambit               1\n",
       "Alex Mercer          1\n",
       "Predator             1\n",
       "Blackout             1\n",
       "Goblin Queen         1\n",
       "Huntress             1\n",
       "Maya Herrera         1\n",
       "One-Above-All        1\n",
       "Elektra              1\n",
       "Scorpia              1\n",
       "Angela               1\n",
       "Brainiac             1\n",
       "Joker                1\n",
       "Peek-a-Boo           1\n",
       "Beast                1\n",
       "Aztar                1\n",
       "Fighting Spirit      1\n",
       "Crystal              1\n",
       "Wonder Girl          1\n",
       "Silk Spectre         1\n",
       "Jim Powell           1\n",
       "Doctor Doom          1\n",
       "Silk                 1\n",
       "Scarlet Spider II    1\n",
       "Toad                 1\n",
       "Red Arrow            1\n",
       "Iceman               1\n",
       "Firebird             1\n",
       "Plastic Man          1\n",
       "                    ..\n",
       "Green Goblin         1\n",
       "Ink                  1\n",
       "Dormammu             1\n",
       "Metron               1\n",
       "Red Hood             1\n",
       "Bird-Brain           1\n",
       "Darkstar             1\n",
       "Blue Beetle II       1\n",
       "Raven                1\n",
       "Clayface             1\n",
       "Trickster            1\n",
       "Hellgramite          1\n",
       "Doc Samson           1\n",
       "Katniss Everdeen     1\n",
       "Ben 10               1\n",
       "Space Ghost          1\n",
       "Batman II            1\n",
       "Ghost Rider          1\n",
       "Yellowjacket         1\n",
       "Agent Zero           1\n",
       "Domino               1\n",
       "Captain Epic         1\n",
       "Gravity              1\n",
       "Nightcrawler         1\n",
       "Hybrid               1\n",
       "Batgirl IV           1\n",
       "Genesis              1\n",
       "Battlestar           1\n",
       "Luke Cage            1\n",
       "Marvel Girl          1\n",
       "Name: hero_names, Length: 667, dtype: int64"
      ]
     },
     "metadata": {},
     "output_type": "display_data"
    },
    {
     "name": "stdout",
     "output_type": "stream",
     "text": [
      "\n",
      "\n",
      "\n",
      "\n",
      "Agility\n"
     ]
    },
    {
     "data": {
      "text/plain": [
       "False    425\n",
       "True     242\n",
       "Name: Agility, dtype: int64"
      ]
     },
     "metadata": {},
     "output_type": "display_data"
    },
    {
     "name": "stdout",
     "output_type": "stream",
     "text": [
      "\n",
      "\n",
      "\n",
      "\n",
      "Accelerated Healing\n"
     ]
    },
    {
     "data": {
      "text/plain": [
       "False    489\n",
       "True     178\n",
       "Name: Accelerated Healing, dtype: int64"
      ]
     },
     "metadata": {},
     "output_type": "display_data"
    },
    {
     "name": "stdout",
     "output_type": "stream",
     "text": [
      "\n",
      "\n",
      "\n",
      "\n",
      "Lantern Power Ring\n"
     ]
    },
    {
     "data": {
      "text/plain": [
       "False    656\n",
       "True      11\n",
       "Name: Lantern Power Ring, dtype: int64"
      ]
     },
     "metadata": {},
     "output_type": "display_data"
    },
    {
     "name": "stdout",
     "output_type": "stream",
     "text": [
      "\n",
      "\n",
      "\n",
      "\n",
      "Dimensional Awareness\n"
     ]
    },
    {
     "data": {
      "text/plain": [
       "False    642\n",
       "True      25\n",
       "Name: Dimensional Awareness, dtype: int64"
      ]
     },
     "metadata": {},
     "output_type": "display_data"
    },
    {
     "name": "stdout",
     "output_type": "stream",
     "text": [
      "\n",
      "\n",
      "\n",
      "\n",
      "Cold Resistance\n"
     ]
    },
    {
     "data": {
      "text/plain": [
       "False    620\n",
       "True      47\n",
       "Name: Cold Resistance, dtype: int64"
      ]
     },
     "metadata": {},
     "output_type": "display_data"
    },
    {
     "name": "stdout",
     "output_type": "stream",
     "text": [
      "\n",
      "\n",
      "\n",
      "\n",
      "Durability\n"
     ]
    },
    {
     "data": {
      "text/plain": [
       "False    410\n",
       "True     257\n",
       "Name: Durability, dtype: int64"
      ]
     },
     "metadata": {},
     "output_type": "display_data"
    },
    {
     "name": "stdout",
     "output_type": "stream",
     "text": [
      "\n",
      "\n",
      "\n",
      "\n",
      "Stealth\n"
     ]
    },
    {
     "data": {
      "text/plain": [
       "False    541\n",
       "True     126\n",
       "Name: Stealth, dtype: int64"
      ]
     },
     "metadata": {},
     "output_type": "display_data"
    },
    {
     "name": "stdout",
     "output_type": "stream",
     "text": [
      "\n",
      "\n",
      "\n",
      "\n",
      "Energy Absorption\n"
     ]
    },
    {
     "data": {
      "text/plain": [
       "False    590\n",
       "True      77\n",
       "Name: Energy Absorption, dtype: int64"
      ]
     },
     "metadata": {},
     "output_type": "display_data"
    },
    {
     "name": "stdout",
     "output_type": "stream",
     "text": [
      "\n",
      "\n",
      "\n",
      "\n",
      "Flight\n"
     ]
    },
    {
     "data": {
      "text/plain": [
       "False    455\n",
       "True     212\n",
       "Name: Flight, dtype: int64"
      ]
     },
     "metadata": {},
     "output_type": "display_data"
    },
    {
     "name": "stdout",
     "output_type": "stream",
     "text": [
      "\n",
      "\n",
      "\n",
      "\n",
      "Danger Sense\n"
     ]
    },
    {
     "data": {
      "text/plain": [
       "False    637\n",
       "True      30\n",
       "Name: Danger Sense, dtype: int64"
      ]
     },
     "metadata": {},
     "output_type": "display_data"
    },
    {
     "name": "stdout",
     "output_type": "stream",
     "text": [
      "\n",
      "\n",
      "\n",
      "\n",
      "Underwater breathing\n"
     ]
    },
    {
     "data": {
      "text/plain": [
       "False    646\n",
       "True      21\n",
       "Name: Underwater breathing, dtype: int64"
      ]
     },
     "metadata": {},
     "output_type": "display_data"
    },
    {
     "name": "stdout",
     "output_type": "stream",
     "text": [
      "\n",
      "\n",
      "\n",
      "\n",
      "Marksmanship\n"
     ]
    },
    {
     "data": {
      "text/plain": [
       "False    548\n",
       "True     119\n",
       "Name: Marksmanship, dtype: int64"
      ]
     },
     "metadata": {},
     "output_type": "display_data"
    },
    {
     "name": "stdout",
     "output_type": "stream",
     "text": [
      "\n",
      "\n",
      "\n",
      "\n",
      "Weapons Master\n"
     ]
    },
    {
     "data": {
      "text/plain": [
       "False    562\n",
       "True     105\n",
       "Name: Weapons Master, dtype: int64"
      ]
     },
     "metadata": {},
     "output_type": "display_data"
    },
    {
     "name": "stdout",
     "output_type": "stream",
     "text": [
      "\n",
      "\n",
      "\n",
      "\n",
      "Power Augmentation\n"
     ]
    },
    {
     "data": {
      "text/plain": [
       "False    659\n",
       "True       8\n",
       "Name: Power Augmentation, dtype: int64"
      ]
     },
     "metadata": {},
     "output_type": "display_data"
    },
    {
     "name": "stdout",
     "output_type": "stream",
     "text": [
      "\n",
      "\n",
      "\n",
      "\n",
      "Animal Attributes\n"
     ]
    },
    {
     "data": {
      "text/plain": [
       "False    642\n",
       "True      25\n",
       "Name: Animal Attributes, dtype: int64"
      ]
     },
     "metadata": {},
     "output_type": "display_data"
    },
    {
     "name": "stdout",
     "output_type": "stream",
     "text": [
      "\n",
      "\n",
      "\n",
      "\n",
      "Longevity\n"
     ]
    },
    {
     "data": {
      "text/plain": [
       "False    554\n",
       "True     113\n",
       "Name: Longevity, dtype: int64"
      ]
     },
     "metadata": {},
     "output_type": "display_data"
    },
    {
     "name": "stdout",
     "output_type": "stream",
     "text": [
      "\n",
      "\n",
      "\n",
      "\n",
      "Intelligence\n"
     ]
    },
    {
     "data": {
      "text/plain": [
       "False    509\n",
       "True     158\n",
       "Name: Intelligence, dtype: int64"
      ]
     },
     "metadata": {},
     "output_type": "display_data"
    },
    {
     "name": "stdout",
     "output_type": "stream",
     "text": [
      "\n",
      "\n",
      "\n",
      "\n",
      "Super Strength\n"
     ]
    },
    {
     "data": {
      "text/plain": [
       "True     360\n",
       "False    307\n",
       "Name: Super Strength, dtype: int64"
      ]
     },
     "metadata": {},
     "output_type": "display_data"
    },
    {
     "name": "stdout",
     "output_type": "stream",
     "text": [
      "\n",
      "\n",
      "\n",
      "\n",
      "Cryokinesis\n"
     ]
    },
    {
     "data": {
      "text/plain": [
       "False    648\n",
       "True      19\n",
       "Name: Cryokinesis, dtype: int64"
      ]
     },
     "metadata": {},
     "output_type": "display_data"
    },
    {
     "name": "stdout",
     "output_type": "stream",
     "text": [
      "\n",
      "\n",
      "\n",
      "\n",
      "Telepathy\n"
     ]
    },
    {
     "data": {
      "text/plain": [
       "False    575\n",
       "True      92\n",
       "Name: Telepathy, dtype: int64"
      ]
     },
     "metadata": {},
     "output_type": "display_data"
    },
    {
     "name": "stdout",
     "output_type": "stream",
     "text": [
      "\n",
      "\n",
      "\n",
      "\n",
      "Energy Armor\n"
     ]
    },
    {
     "data": {
      "text/plain": [
       "False    659\n",
       "True       8\n",
       "Name: Energy Armor, dtype: int64"
      ]
     },
     "metadata": {},
     "output_type": "display_data"
    },
    {
     "name": "stdout",
     "output_type": "stream",
     "text": [
      "\n",
      "\n",
      "\n",
      "\n",
      "Energy Blasts\n"
     ]
    },
    {
     "data": {
      "text/plain": [
       "False    520\n",
       "True     147\n",
       "Name: Energy Blasts, dtype: int64"
      ]
     },
     "metadata": {},
     "output_type": "display_data"
    },
    {
     "name": "stdout",
     "output_type": "stream",
     "text": [
      "\n",
      "\n",
      "\n",
      "\n",
      "Duplication\n"
     ]
    },
    {
     "data": {
      "text/plain": [
       "False    651\n",
       "True      16\n",
       "Name: Duplication, dtype: int64"
      ]
     },
     "metadata": {},
     "output_type": "display_data"
    },
    {
     "name": "stdout",
     "output_type": "stream",
     "text": [
      "\n",
      "\n",
      "\n",
      "\n",
      "Size Changing\n"
     ]
    },
    {
     "data": {
      "text/plain": [
       "False    612\n",
       "True      55\n",
       "Name: Size Changing, dtype: int64"
      ]
     },
     "metadata": {},
     "output_type": "display_data"
    },
    {
     "name": "stdout",
     "output_type": "stream",
     "text": [
      "\n",
      "\n",
      "\n",
      "\n",
      "Density Control\n"
     ]
    },
    {
     "data": {
      "text/plain": [
       "False    652\n",
       "True      15\n",
       "Name: Density Control, dtype: int64"
      ]
     },
     "metadata": {},
     "output_type": "display_data"
    },
    {
     "name": "stdout",
     "output_type": "stream",
     "text": [
      "\n",
      "\n",
      "\n",
      "\n",
      "Stamina\n"
     ]
    },
    {
     "data": {
      "text/plain": [
       "False    378\n",
       "True     289\n",
       "Name: Stamina, dtype: int64"
      ]
     },
     "metadata": {},
     "output_type": "display_data"
    },
    {
     "name": "stdout",
     "output_type": "stream",
     "text": [
      "\n",
      "\n",
      "\n",
      "\n",
      "Astral Travel\n"
     ]
    },
    {
     "data": {
      "text/plain": [
       "False    663\n",
       "True       4\n",
       "Name: Astral Travel, dtype: int64"
      ]
     },
     "metadata": {},
     "output_type": "display_data"
    },
    {
     "name": "stdout",
     "output_type": "stream",
     "text": [
      "\n",
      "\n",
      "\n",
      "\n",
      "Audio Control\n"
     ]
    },
    {
     "data": {
      "text/plain": [
       "False    660\n",
       "True       7\n",
       "Name: Audio Control, dtype: int64"
      ]
     },
     "metadata": {},
     "output_type": "display_data"
    },
    {
     "name": "stdout",
     "output_type": "stream",
     "text": [
      "\n",
      "\n",
      "\n",
      "\n",
      "Dexterity\n"
     ]
    },
    {
     "data": {
      "text/plain": [
       "False    661\n",
       "True       6\n",
       "Name: Dexterity, dtype: int64"
      ]
     },
     "metadata": {},
     "output_type": "display_data"
    },
    {
     "name": "stdout",
     "output_type": "stream",
     "text": [
      "\n",
      "\n",
      "\n",
      "\n",
      "Omnitrix\n"
     ]
    },
    {
     "data": {
      "text/plain": [
       "False    666\n",
       "True       1\n",
       "Name: Omnitrix, dtype: int64"
      ]
     },
     "metadata": {},
     "output_type": "display_data"
    },
    {
     "name": "stdout",
     "output_type": "stream",
     "text": [
      "\n",
      "\n",
      "\n",
      "\n",
      "Super Speed\n"
     ]
    },
    {
     "data": {
      "text/plain": [
       "False    418\n",
       "True     249\n",
       "Name: Super Speed, dtype: int64"
      ]
     },
     "metadata": {},
     "output_type": "display_data"
    },
    {
     "name": "stdout",
     "output_type": "stream",
     "text": [
      "\n",
      "\n",
      "\n",
      "\n",
      "Possession\n"
     ]
    },
    {
     "data": {
      "text/plain": [
       "False    659\n",
       "True       8\n",
       "Name: Possession, dtype: int64"
      ]
     },
     "metadata": {},
     "output_type": "display_data"
    },
    {
     "name": "stdout",
     "output_type": "stream",
     "text": [
      "\n",
      "\n",
      "\n",
      "\n",
      "Animal Oriented Powers\n"
     ]
    },
    {
     "data": {
      "text/plain": [
       "False    627\n",
       "True      40\n",
       "Name: Animal Oriented Powers, dtype: int64"
      ]
     },
     "metadata": {},
     "output_type": "display_data"
    },
    {
     "name": "stdout",
     "output_type": "stream",
     "text": [
      "\n",
      "\n",
      "\n",
      "\n",
      "Weapon-based Powers\n"
     ]
    },
    {
     "data": {
      "text/plain": [
       "False    609\n",
       "True      58\n",
       "Name: Weapon-based Powers, dtype: int64"
      ]
     },
     "metadata": {},
     "output_type": "display_data"
    },
    {
     "name": "stdout",
     "output_type": "stream",
     "text": [
      "\n",
      "\n",
      "\n",
      "\n",
      "Electrokinesis\n"
     ]
    },
    {
     "data": {
      "text/plain": [
       "False    645\n",
       "True      22\n",
       "Name: Electrokinesis, dtype: int64"
      ]
     },
     "metadata": {},
     "output_type": "display_data"
    },
    {
     "name": "stdout",
     "output_type": "stream",
     "text": [
      "\n",
      "\n",
      "\n",
      "\n",
      "Darkforce Manipulation\n"
     ]
    },
    {
     "data": {
      "text/plain": [
       "False    657\n",
       "True      10\n",
       "Name: Darkforce Manipulation, dtype: int64"
      ]
     },
     "metadata": {},
     "output_type": "display_data"
    },
    {
     "name": "stdout",
     "output_type": "stream",
     "text": [
      "\n",
      "\n",
      "\n",
      "\n",
      "Death Touch\n"
     ]
    },
    {
     "data": {
      "text/plain": [
       "False    660\n",
       "True       7\n",
       "Name: Death Touch, dtype: int64"
      ]
     },
     "metadata": {},
     "output_type": "display_data"
    },
    {
     "name": "stdout",
     "output_type": "stream",
     "text": [
      "\n",
      "\n",
      "\n",
      "\n",
      "Teleportation\n"
     ]
    },
    {
     "data": {
      "text/plain": [
       "False    595\n",
       "True      72\n",
       "Name: Teleportation, dtype: int64"
      ]
     },
     "metadata": {},
     "output_type": "display_data"
    },
    {
     "name": "stdout",
     "output_type": "stream",
     "text": [
      "\n",
      "\n",
      "\n",
      "\n",
      "Enhanced Senses\n"
     ]
    },
    {
     "data": {
      "text/plain": [
       "False    578\n",
       "True      89\n",
       "Name: Enhanced Senses, dtype: int64"
      ]
     },
     "metadata": {},
     "output_type": "display_data"
    },
    {
     "name": "stdout",
     "output_type": "stream",
     "text": [
      "\n",
      "\n",
      "\n",
      "\n",
      "Telekinesis\n"
     ]
    },
    {
     "data": {
      "text/plain": [
       "False    606\n",
       "True      61\n",
       "Name: Telekinesis, dtype: int64"
      ]
     },
     "metadata": {},
     "output_type": "display_data"
    },
    {
     "name": "stdout",
     "output_type": "stream",
     "text": [
      "\n",
      "\n",
      "\n",
      "\n",
      "Energy Beams\n"
     ]
    },
    {
     "data": {
      "text/plain": [
       "False    625\n",
       "True      42\n",
       "Name: Energy Beams, dtype: int64"
      ]
     },
     "metadata": {},
     "output_type": "display_data"
    },
    {
     "name": "stdout",
     "output_type": "stream",
     "text": [
      "\n",
      "\n",
      "\n",
      "\n",
      "Magic\n"
     ]
    },
    {
     "data": {
      "text/plain": [
       "False    623\n",
       "True      44\n",
       "Name: Magic, dtype: int64"
      ]
     },
     "metadata": {},
     "output_type": "display_data"
    },
    {
     "name": "stdout",
     "output_type": "stream",
     "text": [
      "\n",
      "\n",
      "\n",
      "\n",
      "Hyperkinesis\n"
     ]
    },
    {
     "data": {
      "text/plain": [
       "False    666\n",
       "True       1\n",
       "Name: Hyperkinesis, dtype: int64"
      ]
     },
     "metadata": {},
     "output_type": "display_data"
    },
    {
     "name": "stdout",
     "output_type": "stream",
     "text": [
      "\n",
      "\n",
      "\n",
      "\n",
      "Jump\n"
     ]
    },
    {
     "data": {
      "text/plain": [
       "False    602\n",
       "True      65\n",
       "Name: Jump, dtype: int64"
      ]
     },
     "metadata": {},
     "output_type": "display_data"
    },
    {
     "name": "stdout",
     "output_type": "stream",
     "text": [
      "\n",
      "\n",
      "\n",
      "\n",
      "Clairvoyance\n"
     ]
    },
    {
     "data": {
      "text/plain": [
       "False    663\n",
       "True       4\n",
       "Name: Clairvoyance, dtype: int64"
      ]
     },
     "metadata": {},
     "output_type": "display_data"
    },
    {
     "name": "stdout",
     "output_type": "stream",
     "text": [
      "\n",
      "\n",
      "\n",
      "\n",
      "Dimensional Travel\n"
     ]
    },
    {
     "data": {
      "text/plain": [
       "False    644\n",
       "True      23\n",
       "Name: Dimensional Travel, dtype: int64"
      ]
     },
     "metadata": {},
     "output_type": "display_data"
    },
    {
     "name": "stdout",
     "output_type": "stream",
     "text": [
      "\n",
      "\n",
      "\n",
      "\n",
      "Power Sense\n"
     ]
    },
    {
     "data": {
      "text/plain": [
       "False    664\n",
       "True       3\n",
       "Name: Power Sense, dtype: int64"
      ]
     },
     "metadata": {},
     "output_type": "display_data"
    },
    {
     "name": "stdout",
     "output_type": "stream",
     "text": [
      "\n",
      "\n",
      "\n",
      "\n",
      "Shapeshifting\n"
     ]
    },
    {
     "data": {
      "text/plain": [
       "False    601\n",
       "True      66\n",
       "Name: Shapeshifting, dtype: int64"
      ]
     },
     "metadata": {},
     "output_type": "display_data"
    },
    {
     "name": "stdout",
     "output_type": "stream",
     "text": [
      "\n",
      "\n",
      "\n",
      "\n",
      "Peak Human Condition\n"
     ]
    },
    {
     "data": {
      "text/plain": [
       "False    637\n",
       "True      30\n",
       "Name: Peak Human Condition, dtype: int64"
      ]
     },
     "metadata": {},
     "output_type": "display_data"
    },
    {
     "name": "stdout",
     "output_type": "stream",
     "text": [
      "\n",
      "\n",
      "\n",
      "\n",
      "Immortality\n"
     ]
    },
    {
     "data": {
      "text/plain": [
       "False    598\n",
       "True      69\n",
       "Name: Immortality, dtype: int64"
      ]
     },
     "metadata": {},
     "output_type": "display_data"
    },
    {
     "name": "stdout",
     "output_type": "stream",
     "text": [
      "\n",
      "\n",
      "\n",
      "\n",
      "Camouflage\n"
     ]
    },
    {
     "data": {
      "text/plain": [
       "False    646\n",
       "True      21\n",
       "Name: Camouflage, dtype: int64"
      ]
     },
     "metadata": {},
     "output_type": "display_data"
    },
    {
     "name": "stdout",
     "output_type": "stream",
     "text": [
      "\n",
      "\n",
      "\n",
      "\n",
      "Element Control\n"
     ]
    },
    {
     "data": {
      "text/plain": [
       "False    659\n",
       "True       8\n",
       "Name: Element Control, dtype: int64"
      ]
     },
     "metadata": {},
     "output_type": "display_data"
    },
    {
     "name": "stdout",
     "output_type": "stream",
     "text": [
      "\n",
      "\n",
      "\n",
      "\n",
      "Phasing\n"
     ]
    },
    {
     "data": {
      "text/plain": [
       "False    636\n",
       "True      31\n",
       "Name: Phasing, dtype: int64"
      ]
     },
     "metadata": {},
     "output_type": "display_data"
    },
    {
     "name": "stdout",
     "output_type": "stream",
     "text": [
      "\n",
      "\n",
      "\n",
      "\n",
      "Astral Projection\n"
     ]
    },
    {
     "data": {
      "text/plain": [
       "False    638\n",
       "True      29\n",
       "Name: Astral Projection, dtype: int64"
      ]
     },
     "metadata": {},
     "output_type": "display_data"
    },
    {
     "name": "stdout",
     "output_type": "stream",
     "text": [
      "\n",
      "\n",
      "\n",
      "\n",
      "Electrical Transport\n"
     ]
    },
    {
     "data": {
      "text/plain": [
       "False    666\n",
       "True       1\n",
       "Name: Electrical Transport, dtype: int64"
      ]
     },
     "metadata": {},
     "output_type": "display_data"
    },
    {
     "name": "stdout",
     "output_type": "stream",
     "text": [
      "\n",
      "\n",
      "\n",
      "\n",
      "Fire Control\n"
     ]
    },
    {
     "data": {
      "text/plain": [
       "False    635\n",
       "True      32\n",
       "Name: Fire Control, dtype: int64"
      ]
     },
     "metadata": {},
     "output_type": "display_data"
    },
    {
     "name": "stdout",
     "output_type": "stream",
     "text": [
      "\n",
      "\n",
      "\n",
      "\n",
      "Projection\n"
     ]
    },
    {
     "data": {
      "text/plain": [
       "False    665\n",
       "True       2\n",
       "Name: Projection, dtype: int64"
      ]
     },
     "metadata": {},
     "output_type": "display_data"
    },
    {
     "name": "stdout",
     "output_type": "stream",
     "text": [
      "\n",
      "\n",
      "\n",
      "\n",
      "Summoning\n"
     ]
    },
    {
     "data": {
      "text/plain": [
       "False    663\n",
       "True       4\n",
       "Name: Summoning, dtype: int64"
      ]
     },
     "metadata": {},
     "output_type": "display_data"
    },
    {
     "name": "stdout",
     "output_type": "stream",
     "text": [
      "\n",
      "\n",
      "\n",
      "\n",
      "Enhanced Memory\n"
     ]
    },
    {
     "data": {
      "text/plain": [
       "False    642\n",
       "True      25\n",
       "Name: Enhanced Memory, dtype: int64"
      ]
     },
     "metadata": {},
     "output_type": "display_data"
    },
    {
     "name": "stdout",
     "output_type": "stream",
     "text": [
      "\n",
      "\n",
      "\n",
      "\n",
      "Reflexes\n"
     ]
    },
    {
     "data": {
      "text/plain": [
       "False    503\n",
       "True     164\n",
       "Name: Reflexes, dtype: int64"
      ]
     },
     "metadata": {},
     "output_type": "display_data"
    },
    {
     "name": "stdout",
     "output_type": "stream",
     "text": [
      "\n",
      "\n",
      "\n",
      "\n",
      "Invulnerability\n"
     ]
    },
    {
     "data": {
      "text/plain": [
       "False    550\n",
       "True     117\n",
       "Name: Invulnerability, dtype: int64"
      ]
     },
     "metadata": {},
     "output_type": "display_data"
    },
    {
     "name": "stdout",
     "output_type": "stream",
     "text": [
      "\n",
      "\n",
      "\n",
      "\n",
      "Energy Constructs\n"
     ]
    },
    {
     "data": {
      "text/plain": [
       "False    629\n",
       "True      38\n",
       "Name: Energy Constructs, dtype: int64"
      ]
     },
     "metadata": {},
     "output_type": "display_data"
    },
    {
     "name": "stdout",
     "output_type": "stream",
     "text": [
      "\n",
      "\n",
      "\n",
      "\n",
      "Force Fields\n"
     ]
    },
    {
     "data": {
      "text/plain": [
       "False    581\n",
       "True      86\n",
       "Name: Force Fields, dtype: int64"
      ]
     },
     "metadata": {},
     "output_type": "display_data"
    },
    {
     "name": "stdout",
     "output_type": "stream",
     "text": [
      "\n",
      "\n",
      "\n",
      "\n",
      "Self-Sustenance\n"
     ]
    },
    {
     "data": {
      "text/plain": [
       "False    630\n",
       "True      37\n",
       "Name: Self-Sustenance, dtype: int64"
      ]
     },
     "metadata": {},
     "output_type": "display_data"
    },
    {
     "name": "stdout",
     "output_type": "stream",
     "text": [
      "\n",
      "\n",
      "\n",
      "\n",
      "Anti-Gravity\n"
     ]
    },
    {
     "data": {
      "text/plain": [
       "False    666\n",
       "True       1\n",
       "Name: Anti-Gravity, dtype: int64"
      ]
     },
     "metadata": {},
     "output_type": "display_data"
    },
    {
     "name": "stdout",
     "output_type": "stream",
     "text": [
      "\n",
      "\n",
      "\n",
      "\n",
      "Empathy\n"
     ]
    },
    {
     "data": {
      "text/plain": [
       "False    648\n",
       "True      19\n",
       "Name: Empathy, dtype: int64"
      ]
     },
     "metadata": {},
     "output_type": "display_data"
    },
    {
     "name": "stdout",
     "output_type": "stream",
     "text": [
      "\n",
      "\n",
      "\n",
      "\n",
      "Power Nullifier\n"
     ]
    },
    {
     "data": {
      "text/plain": [
       "False    663\n",
       "True       4\n",
       "Name: Power Nullifier, dtype: int64"
      ]
     },
     "metadata": {},
     "output_type": "display_data"
    },
    {
     "name": "stdout",
     "output_type": "stream",
     "text": [
      "\n",
      "\n",
      "\n",
      "\n",
      "Radiation Control\n"
     ]
    },
    {
     "data": {
      "text/plain": [
       "False    660\n",
       "True       7\n",
       "Name: Radiation Control, dtype: int64"
      ]
     },
     "metadata": {},
     "output_type": "display_data"
    },
    {
     "name": "stdout",
     "output_type": "stream",
     "text": [
      "\n",
      "\n",
      "\n",
      "\n",
      "Psionic Powers\n"
     ]
    },
    {
     "data": {
      "text/plain": [
       "False    618\n",
       "True      49\n",
       "Name: Psionic Powers, dtype: int64"
      ]
     },
     "metadata": {},
     "output_type": "display_data"
    },
    {
     "name": "stdout",
     "output_type": "stream",
     "text": [
      "\n",
      "\n",
      "\n",
      "\n",
      "Elasticity\n"
     ]
    },
    {
     "data": {
      "text/plain": [
       "False    656\n",
       "True      11\n",
       "Name: Elasticity, dtype: int64"
      ]
     },
     "metadata": {},
     "output_type": "display_data"
    },
    {
     "name": "stdout",
     "output_type": "stream",
     "text": [
      "\n",
      "\n",
      "\n",
      "\n",
      "Substance Secretion\n"
     ]
    },
    {
     "data": {
      "text/plain": [
       "False    650\n",
       "True      17\n",
       "Name: Substance Secretion, dtype: int64"
      ]
     },
     "metadata": {},
     "output_type": "display_data"
    },
    {
     "name": "stdout",
     "output_type": "stream",
     "text": [
      "\n",
      "\n",
      "\n",
      "\n",
      "Elemental Transmogrification\n"
     ]
    },
    {
     "data": {
      "text/plain": [
       "False    661\n",
       "True       6\n",
       "Name: Elemental Transmogrification, dtype: int64"
      ]
     },
     "metadata": {},
     "output_type": "display_data"
    },
    {
     "name": "stdout",
     "output_type": "stream",
     "text": [
      "\n",
      "\n",
      "\n",
      "\n",
      "Technopath/Cyberpath\n"
     ]
    },
    {
     "data": {
      "text/plain": [
       "False    644\n",
       "True      23\n",
       "Name: Technopath/Cyberpath, dtype: int64"
      ]
     },
     "metadata": {},
     "output_type": "display_data"
    },
    {
     "name": "stdout",
     "output_type": "stream",
     "text": [
      "\n",
      "\n",
      "\n",
      "\n",
      "Photographic Reflexes\n"
     ]
    },
    {
     "data": {
      "text/plain": [
       "False    664\n",
       "True       3\n",
       "Name: Photographic Reflexes, dtype: int64"
      ]
     },
     "metadata": {},
     "output_type": "display_data"
    },
    {
     "name": "stdout",
     "output_type": "stream",
     "text": [
      "\n",
      "\n",
      "\n",
      "\n",
      "Seismic Power\n"
     ]
    },
    {
     "data": {
      "text/plain": [
       "False    664\n",
       "True       3\n",
       "Name: Seismic Power, dtype: int64"
      ]
     },
     "metadata": {},
     "output_type": "display_data"
    },
    {
     "name": "stdout",
     "output_type": "stream",
     "text": [
      "\n",
      "\n",
      "\n",
      "\n",
      "Animation\n"
     ]
    },
    {
     "data": {
      "text/plain": [
       "False    662\n",
       "True       5\n",
       "Name: Animation, dtype: int64"
      ]
     },
     "metadata": {},
     "output_type": "display_data"
    },
    {
     "name": "stdout",
     "output_type": "stream",
     "text": [
      "\n",
      "\n",
      "\n",
      "\n",
      "Precognition\n"
     ]
    },
    {
     "data": {
      "text/plain": [
       "False    645\n",
       "True      22\n",
       "Name: Precognition, dtype: int64"
      ]
     },
     "metadata": {},
     "output_type": "display_data"
    },
    {
     "name": "stdout",
     "output_type": "stream",
     "text": [
      "\n",
      "\n",
      "\n",
      "\n",
      "Mind Control\n"
     ]
    },
    {
     "data": {
      "text/plain": [
       "False    645\n",
       "True      22\n",
       "Name: Mind Control, dtype: int64"
      ]
     },
     "metadata": {},
     "output_type": "display_data"
    },
    {
     "name": "stdout",
     "output_type": "stream",
     "text": [
      "\n",
      "\n",
      "\n",
      "\n",
      "Fire Resistance\n"
     ]
    },
    {
     "data": {
      "text/plain": [
       "False    649\n",
       "True      18\n",
       "Name: Fire Resistance, dtype: int64"
      ]
     },
     "metadata": {},
     "output_type": "display_data"
    },
    {
     "name": "stdout",
     "output_type": "stream",
     "text": [
      "\n",
      "\n",
      "\n",
      "\n",
      "Power Absorption\n"
     ]
    },
    {
     "data": {
      "text/plain": [
       "False    655\n",
       "True      12\n",
       "Name: Power Absorption, dtype: int64"
      ]
     },
     "metadata": {},
     "output_type": "display_data"
    },
    {
     "name": "stdout",
     "output_type": "stream",
     "text": [
      "\n",
      "\n",
      "\n",
      "\n",
      "Enhanced Hearing\n"
     ]
    },
    {
     "data": {
      "text/plain": [
       "False    595\n",
       "True      72\n",
       "Name: Enhanced Hearing, dtype: int64"
      ]
     },
     "metadata": {},
     "output_type": "display_data"
    },
    {
     "name": "stdout",
     "output_type": "stream",
     "text": [
      "\n",
      "\n",
      "\n",
      "\n",
      "Nova Force\n"
     ]
    },
    {
     "data": {
      "text/plain": [
       "False    665\n",
       "True       2\n",
       "Name: Nova Force, dtype: int64"
      ]
     },
     "metadata": {},
     "output_type": "display_data"
    },
    {
     "name": "stdout",
     "output_type": "stream",
     "text": [
      "\n",
      "\n",
      "\n",
      "\n",
      "Insanity\n"
     ]
    },
    {
     "data": {
      "text/plain": [
       "False    662\n",
       "True       5\n",
       "Name: Insanity, dtype: int64"
      ]
     },
     "metadata": {},
     "output_type": "display_data"
    },
    {
     "name": "stdout",
     "output_type": "stream",
     "text": [
      "\n",
      "\n",
      "\n",
      "\n",
      "Hypnokinesis\n"
     ]
    },
    {
     "data": {
      "text/plain": [
       "False    644\n",
       "True      23\n",
       "Name: Hypnokinesis, dtype: int64"
      ]
     },
     "metadata": {},
     "output_type": "display_data"
    },
    {
     "name": "stdout",
     "output_type": "stream",
     "text": [
      "\n",
      "\n",
      "\n",
      "\n",
      "Animal Control\n"
     ]
    },
    {
     "data": {
      "text/plain": [
       "False    658\n",
       "True       9\n",
       "Name: Animal Control, dtype: int64"
      ]
     },
     "metadata": {},
     "output_type": "display_data"
    },
    {
     "name": "stdout",
     "output_type": "stream",
     "text": [
      "\n",
      "\n",
      "\n",
      "\n",
      "Natural Armor\n"
     ]
    },
    {
     "data": {
      "text/plain": [
       "False    631\n",
       "True      36\n",
       "Name: Natural Armor, dtype: int64"
      ]
     },
     "metadata": {},
     "output_type": "display_data"
    },
    {
     "name": "stdout",
     "output_type": "stream",
     "text": [
      "\n",
      "\n",
      "\n",
      "\n",
      "Intangibility\n"
     ]
    },
    {
     "data": {
      "text/plain": [
       "False    647\n",
       "True      20\n",
       "Name: Intangibility, dtype: int64"
      ]
     },
     "metadata": {},
     "output_type": "display_data"
    },
    {
     "name": "stdout",
     "output_type": "stream",
     "text": [
      "\n",
      "\n",
      "\n",
      "\n",
      "Enhanced Sight\n"
     ]
    },
    {
     "data": {
      "text/plain": [
       "False    642\n",
       "True      25\n",
       "Name: Enhanced Sight, dtype: int64"
      ]
     },
     "metadata": {},
     "output_type": "display_data"
    },
    {
     "name": "stdout",
     "output_type": "stream",
     "text": [
      "\n",
      "\n",
      "\n",
      "\n",
      "Molecular Manipulation\n"
     ]
    },
    {
     "data": {
      "text/plain": [
       "False    625\n",
       "True      42\n",
       "Name: Molecular Manipulation, dtype: int64"
      ]
     },
     "metadata": {},
     "output_type": "display_data"
    },
    {
     "name": "stdout",
     "output_type": "stream",
     "text": [
      "\n",
      "\n",
      "\n",
      "\n",
      "Heat Generation\n"
     ]
    },
    {
     "data": {
      "text/plain": [
       "False    643\n",
       "True      24\n",
       "Name: Heat Generation, dtype: int64"
      ]
     },
     "metadata": {},
     "output_type": "display_data"
    },
    {
     "name": "stdout",
     "output_type": "stream",
     "text": [
      "\n",
      "\n",
      "\n",
      "\n",
      "Adaptation\n"
     ]
    },
    {
     "data": {
      "text/plain": [
       "False    662\n",
       "True       5\n",
       "Name: Adaptation, dtype: int64"
      ]
     },
     "metadata": {},
     "output_type": "display_data"
    },
    {
     "name": "stdout",
     "output_type": "stream",
     "text": [
      "\n",
      "\n",
      "\n",
      "\n",
      "Gliding\n"
     ]
    },
    {
     "data": {
      "text/plain": [
       "False    657\n",
       "True      10\n",
       "Name: Gliding, dtype: int64"
      ]
     },
     "metadata": {},
     "output_type": "display_data"
    },
    {
     "name": "stdout",
     "output_type": "stream",
     "text": [
      "\n",
      "\n",
      "\n",
      "\n",
      "Power Suit\n"
     ]
    },
    {
     "data": {
      "text/plain": [
       "False    634\n",
       "True      33\n",
       "Name: Power Suit, dtype: int64"
      ]
     },
     "metadata": {},
     "output_type": "display_data"
    },
    {
     "name": "stdout",
     "output_type": "stream",
     "text": [
      "\n",
      "\n",
      "\n",
      "\n",
      "Mind Blast\n"
     ]
    },
    {
     "data": {
      "text/plain": [
       "False    655\n",
       "True      12\n",
       "Name: Mind Blast, dtype: int64"
      ]
     },
     "metadata": {},
     "output_type": "display_data"
    },
    {
     "name": "stdout",
     "output_type": "stream",
     "text": [
      "\n",
      "\n",
      "\n",
      "\n",
      "Probability Manipulation\n"
     ]
    },
    {
     "data": {
      "text/plain": [
       "False    658\n",
       "True       9\n",
       "Name: Probability Manipulation, dtype: int64"
      ]
     },
     "metadata": {},
     "output_type": "display_data"
    },
    {
     "name": "stdout",
     "output_type": "stream",
     "text": [
      "\n",
      "\n",
      "\n",
      "\n",
      "Gravity Control\n"
     ]
    },
    {
     "data": {
      "text/plain": [
       "False    651\n",
       "True      16\n",
       "Name: Gravity Control, dtype: int64"
      ]
     },
     "metadata": {},
     "output_type": "display_data"
    },
    {
     "name": "stdout",
     "output_type": "stream",
     "text": [
      "\n",
      "\n",
      "\n",
      "\n",
      "Regeneration\n"
     ]
    },
    {
     "data": {
      "text/plain": [
       "False    639\n",
       "True      28\n",
       "Name: Regeneration, dtype: int64"
      ]
     },
     "metadata": {},
     "output_type": "display_data"
    },
    {
     "name": "stdout",
     "output_type": "stream",
     "text": [
      "\n",
      "\n",
      "\n",
      "\n",
      "Light Control\n"
     ]
    },
    {
     "data": {
      "text/plain": [
       "False    652\n",
       "True      15\n",
       "Name: Light Control, dtype: int64"
      ]
     },
     "metadata": {},
     "output_type": "display_data"
    },
    {
     "name": "stdout",
     "output_type": "stream",
     "text": [
      "\n",
      "\n",
      "\n",
      "\n",
      "Echolocation\n"
     ]
    },
    {
     "data": {
      "text/plain": [
       "False    665\n",
       "True       2\n",
       "Name: Echolocation, dtype: int64"
      ]
     },
     "metadata": {},
     "output_type": "display_data"
    },
    {
     "name": "stdout",
     "output_type": "stream",
     "text": [
      "\n",
      "\n",
      "\n",
      "\n",
      "Levitation\n"
     ]
    },
    {
     "data": {
      "text/plain": [
       "False    641\n",
       "True      26\n",
       "Name: Levitation, dtype: int64"
      ]
     },
     "metadata": {},
     "output_type": "display_data"
    },
    {
     "name": "stdout",
     "output_type": "stream",
     "text": [
      "\n",
      "\n",
      "\n",
      "\n",
      "Toxin and Disease Control\n"
     ]
    },
    {
     "data": {
      "text/plain": [
       "False    657\n",
       "True      10\n",
       "Name: Toxin and Disease Control, dtype: int64"
      ]
     },
     "metadata": {},
     "output_type": "display_data"
    },
    {
     "name": "stdout",
     "output_type": "stream",
     "text": [
      "\n",
      "\n",
      "\n",
      "\n",
      "Banish\n"
     ]
    },
    {
     "data": {
      "text/plain": [
       "False    666\n",
       "True       1\n",
       "Name: Banish, dtype: int64"
      ]
     },
     "metadata": {},
     "output_type": "display_data"
    },
    {
     "name": "stdout",
     "output_type": "stream",
     "text": [
      "\n",
      "\n",
      "\n",
      "\n",
      "Energy Manipulation\n"
     ]
    },
    {
     "data": {
      "text/plain": [
       "False    615\n",
       "True      52\n",
       "Name: Energy Manipulation, dtype: int64"
      ]
     },
     "metadata": {},
     "output_type": "display_data"
    },
    {
     "name": "stdout",
     "output_type": "stream",
     "text": [
      "\n",
      "\n",
      "\n",
      "\n",
      "Heat Resistance\n"
     ]
    },
    {
     "data": {
      "text/plain": [
       "False    624\n",
       "True      43\n",
       "Name: Heat Resistance, dtype: int64"
      ]
     },
     "metadata": {},
     "output_type": "display_data"
    },
    {
     "name": "stdout",
     "output_type": "stream",
     "text": [
      "\n",
      "\n",
      "\n",
      "\n",
      "Natural Weapons\n"
     ]
    },
    {
     "data": {
      "text/plain": [
       "False    609\n",
       "True      58\n",
       "Name: Natural Weapons, dtype: int64"
      ]
     },
     "metadata": {},
     "output_type": "display_data"
    },
    {
     "name": "stdout",
     "output_type": "stream",
     "text": [
      "\n",
      "\n",
      "\n",
      "\n",
      "Time Travel\n"
     ]
    },
    {
     "data": {
      "text/plain": [
       "False    634\n",
       "True      33\n",
       "Name: Time Travel, dtype: int64"
      ]
     },
     "metadata": {},
     "output_type": "display_data"
    },
    {
     "name": "stdout",
     "output_type": "stream",
     "text": [
      "\n",
      "\n",
      "\n",
      "\n",
      "Enhanced Smell\n"
     ]
    },
    {
     "data": {
      "text/plain": [
       "False    635\n",
       "True      32\n",
       "Name: Enhanced Smell, dtype: int64"
      ]
     },
     "metadata": {},
     "output_type": "display_data"
    },
    {
     "name": "stdout",
     "output_type": "stream",
     "text": [
      "\n",
      "\n",
      "\n",
      "\n",
      "Illusions\n"
     ]
    },
    {
     "data": {
      "text/plain": [
       "False    629\n",
       "True      38\n",
       "Name: Illusions, dtype: int64"
      ]
     },
     "metadata": {},
     "output_type": "display_data"
    },
    {
     "name": "stdout",
     "output_type": "stream",
     "text": [
      "\n",
      "\n",
      "\n",
      "\n",
      "Thirstokinesis\n"
     ]
    },
    {
     "data": {
      "text/plain": [
       "False    666\n",
       "True       1\n",
       "Name: Thirstokinesis, dtype: int64"
      ]
     },
     "metadata": {},
     "output_type": "display_data"
    },
    {
     "name": "stdout",
     "output_type": "stream",
     "text": [
      "\n",
      "\n",
      "\n",
      "\n",
      "Hair Manipulation\n"
     ]
    },
    {
     "data": {
      "text/plain": [
       "False    666\n",
       "True       1\n",
       "Name: Hair Manipulation, dtype: int64"
      ]
     },
     "metadata": {},
     "output_type": "display_data"
    },
    {
     "name": "stdout",
     "output_type": "stream",
     "text": [
      "\n",
      "\n",
      "\n",
      "\n",
      "Illumination\n"
     ]
    },
    {
     "data": {
      "text/plain": [
       "False    665\n",
       "True       2\n",
       "Name: Illumination, dtype: int64"
      ]
     },
     "metadata": {},
     "output_type": "display_data"
    },
    {
     "name": "stdout",
     "output_type": "stream",
     "text": [
      "\n",
      "\n",
      "\n",
      "\n",
      "Omnipotent\n"
     ]
    },
    {
     "data": {
      "text/plain": [
       "False    660\n",
       "True       7\n",
       "Name: Omnipotent, dtype: int64"
      ]
     },
     "metadata": {},
     "output_type": "display_data"
    },
    {
     "name": "stdout",
     "output_type": "stream",
     "text": [
      "\n",
      "\n",
      "\n",
      "\n",
      "Cloaking\n"
     ]
    },
    {
     "data": {
      "text/plain": [
       "False    660\n",
       "True       7\n",
       "Name: Cloaking, dtype: int64"
      ]
     },
     "metadata": {},
     "output_type": "display_data"
    },
    {
     "name": "stdout",
     "output_type": "stream",
     "text": [
      "\n",
      "\n",
      "\n",
      "\n",
      "Changing Armor\n"
     ]
    },
    {
     "data": {
      "text/plain": [
       "False    666\n",
       "True       1\n",
       "Name: Changing Armor, dtype: int64"
      ]
     },
     "metadata": {},
     "output_type": "display_data"
    },
    {
     "name": "stdout",
     "output_type": "stream",
     "text": [
      "\n",
      "\n",
      "\n",
      "\n",
      "Power Cosmic\n"
     ]
    },
    {
     "data": {
      "text/plain": [
       "False    660\n",
       "True       7\n",
       "Name: Power Cosmic, dtype: int64"
      ]
     },
     "metadata": {},
     "output_type": "display_data"
    },
    {
     "name": "stdout",
     "output_type": "stream",
     "text": [
      "\n",
      "\n",
      "\n",
      "\n",
      "Biokinesis\n"
     ]
    },
    {
     "data": {
      "text/plain": [
       "False    666\n",
       "True       1\n",
       "Name: Biokinesis, dtype: int64"
      ]
     },
     "metadata": {},
     "output_type": "display_data"
    },
    {
     "name": "stdout",
     "output_type": "stream",
     "text": [
      "\n",
      "\n",
      "\n",
      "\n",
      "Water Control\n"
     ]
    },
    {
     "data": {
      "text/plain": [
       "False    654\n",
       "True      13\n",
       "Name: Water Control, dtype: int64"
      ]
     },
     "metadata": {},
     "output_type": "display_data"
    },
    {
     "name": "stdout",
     "output_type": "stream",
     "text": [
      "\n",
      "\n",
      "\n",
      "\n",
      "Radiation Immunity\n"
     ]
    },
    {
     "data": {
      "text/plain": [
       "False    657\n",
       "True      10\n",
       "Name: Radiation Immunity, dtype: int64"
      ]
     },
     "metadata": {},
     "output_type": "display_data"
    },
    {
     "name": "stdout",
     "output_type": "stream",
     "text": [
      "\n",
      "\n",
      "\n",
      "\n",
      "Vision - Telescopic\n"
     ]
    },
    {
     "data": {
      "text/plain": [
       "False    624\n",
       "True      43\n",
       "Name: Vision - Telescopic, dtype: int64"
      ]
     },
     "metadata": {},
     "output_type": "display_data"
    },
    {
     "name": "stdout",
     "output_type": "stream",
     "text": [
      "\n",
      "\n",
      "\n",
      "\n",
      "Toxin and Disease Resistance\n"
     ]
    },
    {
     "data": {
      "text/plain": [
       "False    619\n",
       "True      48\n",
       "Name: Toxin and Disease Resistance, dtype: int64"
      ]
     },
     "metadata": {},
     "output_type": "display_data"
    },
    {
     "name": "stdout",
     "output_type": "stream",
     "text": [
      "\n",
      "\n",
      "\n",
      "\n",
      "Spatial Awareness\n"
     ]
    },
    {
     "data": {
      "text/plain": [
       "False    666\n",
       "True       1\n",
       "Name: Spatial Awareness, dtype: int64"
      ]
     },
     "metadata": {},
     "output_type": "display_data"
    },
    {
     "name": "stdout",
     "output_type": "stream",
     "text": [
      "\n",
      "\n",
      "\n",
      "\n",
      "Energy Resistance\n"
     ]
    },
    {
     "data": {
      "text/plain": [
       "False    660\n",
       "True       7\n",
       "Name: Energy Resistance, dtype: int64"
      ]
     },
     "metadata": {},
     "output_type": "display_data"
    },
    {
     "name": "stdout",
     "output_type": "stream",
     "text": [
      "\n",
      "\n",
      "\n",
      "\n",
      "Telepathy Resistance\n"
     ]
    },
    {
     "data": {
      "text/plain": [
       "False    634\n",
       "True      33\n",
       "Name: Telepathy Resistance, dtype: int64"
      ]
     },
     "metadata": {},
     "output_type": "display_data"
    },
    {
     "name": "stdout",
     "output_type": "stream",
     "text": [
      "\n",
      "\n",
      "\n",
      "\n",
      "Molecular Combustion\n"
     ]
    },
    {
     "data": {
      "text/plain": [
       "False    665\n",
       "True       2\n",
       "Name: Molecular Combustion, dtype: int64"
      ]
     },
     "metadata": {},
     "output_type": "display_data"
    },
    {
     "name": "stdout",
     "output_type": "stream",
     "text": [
      "\n",
      "\n",
      "\n",
      "\n",
      "Omnilingualism\n"
     ]
    },
    {
     "data": {
      "text/plain": [
       "False    646\n",
       "True      21\n",
       "Name: Omnilingualism, dtype: int64"
      ]
     },
     "metadata": {},
     "output_type": "display_data"
    },
    {
     "name": "stdout",
     "output_type": "stream",
     "text": [
      "\n",
      "\n",
      "\n",
      "\n",
      "Portal Creation\n"
     ]
    },
    {
     "data": {
      "text/plain": [
       "False    663\n",
       "True       4\n",
       "Name: Portal Creation, dtype: int64"
      ]
     },
     "metadata": {},
     "output_type": "display_data"
    },
    {
     "name": "stdout",
     "output_type": "stream",
     "text": [
      "\n",
      "\n",
      "\n",
      "\n",
      "Magnetism\n"
     ]
    },
    {
     "data": {
      "text/plain": [
       "False    656\n",
       "True      11\n",
       "Name: Magnetism, dtype: int64"
      ]
     },
     "metadata": {},
     "output_type": "display_data"
    },
    {
     "name": "stdout",
     "output_type": "stream",
     "text": [
      "\n",
      "\n",
      "\n",
      "\n",
      "Mind Control Resistance\n"
     ]
    },
    {
     "data": {
      "text/plain": [
       "False    655\n",
       "True      12\n",
       "Name: Mind Control Resistance, dtype: int64"
      ]
     },
     "metadata": {},
     "output_type": "display_data"
    },
    {
     "name": "stdout",
     "output_type": "stream",
     "text": [
      "\n",
      "\n",
      "\n",
      "\n",
      "Plant Control\n"
     ]
    },
    {
     "data": {
      "text/plain": [
       "False    659\n",
       "True       8\n",
       "Name: Plant Control, dtype: int64"
      ]
     },
     "metadata": {},
     "output_type": "display_data"
    },
    {
     "name": "stdout",
     "output_type": "stream",
     "text": [
      "\n",
      "\n",
      "\n",
      "\n",
      "Sonar\n"
     ]
    },
    {
     "data": {
      "text/plain": [
       "False    663\n",
       "True       4\n",
       "Name: Sonar, dtype: int64"
      ]
     },
     "metadata": {},
     "output_type": "display_data"
    },
    {
     "name": "stdout",
     "output_type": "stream",
     "text": [
      "\n",
      "\n",
      "\n",
      "\n",
      "Sonic Scream\n"
     ]
    },
    {
     "data": {
      "text/plain": [
       "False    661\n",
       "True       6\n",
       "Name: Sonic Scream, dtype: int64"
      ]
     },
     "metadata": {},
     "output_type": "display_data"
    },
    {
     "name": "stdout",
     "output_type": "stream",
     "text": [
      "\n",
      "\n",
      "\n",
      "\n",
      "Time Manipulation\n"
     ]
    },
    {
     "data": {
      "text/plain": [
       "False    647\n",
       "True      20\n",
       "Name: Time Manipulation, dtype: int64"
      ]
     },
     "metadata": {},
     "output_type": "display_data"
    },
    {
     "name": "stdout",
     "output_type": "stream",
     "text": [
      "\n",
      "\n",
      "\n",
      "\n",
      "Enhanced Touch\n"
     ]
    },
    {
     "data": {
      "text/plain": [
       "False    660\n",
       "True       7\n",
       "Name: Enhanced Touch, dtype: int64"
      ]
     },
     "metadata": {},
     "output_type": "display_data"
    },
    {
     "name": "stdout",
     "output_type": "stream",
     "text": [
      "\n",
      "\n",
      "\n",
      "\n",
      "Magic Resistance\n"
     ]
    },
    {
     "data": {
      "text/plain": [
       "False    661\n",
       "True       6\n",
       "Name: Magic Resistance, dtype: int64"
      ]
     },
     "metadata": {},
     "output_type": "display_data"
    },
    {
     "name": "stdout",
     "output_type": "stream",
     "text": [
      "\n",
      "\n",
      "\n",
      "\n",
      "Invisibility\n"
     ]
    },
    {
     "data": {
      "text/plain": [
       "False    645\n",
       "True      22\n",
       "Name: Invisibility, dtype: int64"
      ]
     },
     "metadata": {},
     "output_type": "display_data"
    },
    {
     "name": "stdout",
     "output_type": "stream",
     "text": [
      "\n",
      "\n",
      "\n",
      "\n",
      "Sub-Mariner\n"
     ]
    },
    {
     "data": {
      "text/plain": [
       "False    647\n",
       "True      20\n",
       "Name: Sub-Mariner, dtype: int64"
      ]
     },
     "metadata": {},
     "output_type": "display_data"
    },
    {
     "name": "stdout",
     "output_type": "stream",
     "text": [
      "\n",
      "\n",
      "\n",
      "\n",
      "Radiation Absorption\n"
     ]
    },
    {
     "data": {
      "text/plain": [
       "False    660\n",
       "True       7\n",
       "Name: Radiation Absorption, dtype: int64"
      ]
     },
     "metadata": {},
     "output_type": "display_data"
    },
    {
     "name": "stdout",
     "output_type": "stream",
     "text": [
      "\n",
      "\n",
      "\n",
      "\n",
      "Intuitive aptitude\n"
     ]
    },
    {
     "data": {
      "text/plain": [
       "False    666\n",
       "True       1\n",
       "Name: Intuitive aptitude, dtype: int64"
      ]
     },
     "metadata": {},
     "output_type": "display_data"
    },
    {
     "name": "stdout",
     "output_type": "stream",
     "text": [
      "\n",
      "\n",
      "\n",
      "\n",
      "Vision - Microscopic\n"
     ]
    },
    {
     "data": {
      "text/plain": [
       "False    648\n",
       "True      19\n",
       "Name: Vision - Microscopic, dtype: int64"
      ]
     },
     "metadata": {},
     "output_type": "display_data"
    },
    {
     "name": "stdout",
     "output_type": "stream",
     "text": [
      "\n",
      "\n",
      "\n",
      "\n",
      "Melting\n"
     ]
    },
    {
     "data": {
      "text/plain": [
       "False    665\n",
       "True       2\n",
       "Name: Melting, dtype: int64"
      ]
     },
     "metadata": {},
     "output_type": "display_data"
    },
    {
     "name": "stdout",
     "output_type": "stream",
     "text": [
      "\n",
      "\n",
      "\n",
      "\n",
      "Wind Control\n"
     ]
    },
    {
     "data": {
      "text/plain": [
       "False    664\n",
       "True       3\n",
       "Name: Wind Control, dtype: int64"
      ]
     },
     "metadata": {},
     "output_type": "display_data"
    },
    {
     "name": "stdout",
     "output_type": "stream",
     "text": [
      "\n",
      "\n",
      "\n",
      "\n",
      "Super Breath\n"
     ]
    },
    {
     "data": {
      "text/plain": [
       "False    644\n",
       "True      23\n",
       "Name: Super Breath, dtype: int64"
      ]
     },
     "metadata": {},
     "output_type": "display_data"
    },
    {
     "name": "stdout",
     "output_type": "stream",
     "text": [
      "\n",
      "\n",
      "\n",
      "\n",
      "Wallcrawling\n"
     ]
    },
    {
     "data": {
      "text/plain": [
       "False    633\n",
       "True      34\n",
       "Name: Wallcrawling, dtype: int64"
      ]
     },
     "metadata": {},
     "output_type": "display_data"
    },
    {
     "name": "stdout",
     "output_type": "stream",
     "text": [
      "\n",
      "\n",
      "\n",
      "\n",
      "Vision - Night\n"
     ]
    },
    {
     "data": {
      "text/plain": [
       "False    633\n",
       "True      34\n",
       "Name: Vision - Night, dtype: int64"
      ]
     },
     "metadata": {},
     "output_type": "display_data"
    },
    {
     "name": "stdout",
     "output_type": "stream",
     "text": [
      "\n",
      "\n",
      "\n",
      "\n",
      "Vision - Infrared\n"
     ]
    },
    {
     "data": {
      "text/plain": [
       "False    645\n",
       "True      22\n",
       "Name: Vision - Infrared, dtype: int64"
      ]
     },
     "metadata": {},
     "output_type": "display_data"
    },
    {
     "name": "stdout",
     "output_type": "stream",
     "text": [
      "\n",
      "\n",
      "\n",
      "\n",
      "Grim Reaping\n"
     ]
    },
    {
     "data": {
      "text/plain": [
       "False    664\n",
       "True       3\n",
       "Name: Grim Reaping, dtype: int64"
      ]
     },
     "metadata": {},
     "output_type": "display_data"
    },
    {
     "name": "stdout",
     "output_type": "stream",
     "text": [
      "\n",
      "\n",
      "\n",
      "\n",
      "Matter Absorption\n"
     ]
    },
    {
     "data": {
      "text/plain": [
       "False    656\n",
       "True      11\n",
       "Name: Matter Absorption, dtype: int64"
      ]
     },
     "metadata": {},
     "output_type": "display_data"
    },
    {
     "name": "stdout",
     "output_type": "stream",
     "text": [
      "\n",
      "\n",
      "\n",
      "\n",
      "The Force\n"
     ]
    },
    {
     "data": {
      "text/plain": [
       "False    661\n",
       "True       6\n",
       "Name: The Force, dtype: int64"
      ]
     },
     "metadata": {},
     "output_type": "display_data"
    },
    {
     "name": "stdout",
     "output_type": "stream",
     "text": [
      "\n",
      "\n",
      "\n",
      "\n",
      "Resurrection\n"
     ]
    },
    {
     "data": {
      "text/plain": [
       "False    652\n",
       "True      15\n",
       "Name: Resurrection, dtype: int64"
      ]
     },
     "metadata": {},
     "output_type": "display_data"
    },
    {
     "name": "stdout",
     "output_type": "stream",
     "text": [
      "\n",
      "\n",
      "\n",
      "\n",
      "Terrakinesis\n"
     ]
    },
    {
     "data": {
      "text/plain": [
       "False    665\n",
       "True       2\n",
       "Name: Terrakinesis, dtype: int64"
      ]
     },
     "metadata": {},
     "output_type": "display_data"
    },
    {
     "name": "stdout",
     "output_type": "stream",
     "text": [
      "\n",
      "\n",
      "\n",
      "\n",
      "Vision - Heat\n"
     ]
    },
    {
     "data": {
      "text/plain": [
       "False    648\n",
       "True      19\n",
       "Name: Vision - Heat, dtype: int64"
      ]
     },
     "metadata": {},
     "output_type": "display_data"
    },
    {
     "name": "stdout",
     "output_type": "stream",
     "text": [
      "\n",
      "\n",
      "\n",
      "\n",
      "Vitakinesis\n"
     ]
    },
    {
     "data": {
      "text/plain": [
       "False    665\n",
       "True       2\n",
       "Name: Vitakinesis, dtype: int64"
      ]
     },
     "metadata": {},
     "output_type": "display_data"
    },
    {
     "name": "stdout",
     "output_type": "stream",
     "text": [
      "\n",
      "\n",
      "\n",
      "\n",
      "Radar Sense\n"
     ]
    },
    {
     "data": {
      "text/plain": [
       "False    661\n",
       "True       6\n",
       "Name: Radar Sense, dtype: int64"
      ]
     },
     "metadata": {},
     "output_type": "display_data"
    },
    {
     "name": "stdout",
     "output_type": "stream",
     "text": [
      "\n",
      "\n",
      "\n",
      "\n",
      "Qwardian Power Ring\n"
     ]
    },
    {
     "data": {
      "text/plain": [
       "False    665\n",
       "True       2\n",
       "Name: Qwardian Power Ring, dtype: int64"
      ]
     },
     "metadata": {},
     "output_type": "display_data"
    },
    {
     "name": "stdout",
     "output_type": "stream",
     "text": [
      "\n",
      "\n",
      "\n",
      "\n",
      "Weather Control\n"
     ]
    },
    {
     "data": {
      "text/plain": [
       "False    659\n",
       "True       8\n",
       "Name: Weather Control, dtype: int64"
      ]
     },
     "metadata": {},
     "output_type": "display_data"
    },
    {
     "name": "stdout",
     "output_type": "stream",
     "text": [
      "\n",
      "\n",
      "\n",
      "\n",
      "Vision - X-Ray\n"
     ]
    },
    {
     "data": {
      "text/plain": [
       "False    644\n",
       "True      23\n",
       "Name: Vision - X-Ray, dtype: int64"
      ]
     },
     "metadata": {},
     "output_type": "display_data"
    },
    {
     "name": "stdout",
     "output_type": "stream",
     "text": [
      "\n",
      "\n",
      "\n",
      "\n",
      "Vision - Thermal\n"
     ]
    },
    {
     "data": {
      "text/plain": [
       "False    644\n",
       "True      23\n",
       "Name: Vision - Thermal, dtype: int64"
      ]
     },
     "metadata": {},
     "output_type": "display_data"
    },
    {
     "name": "stdout",
     "output_type": "stream",
     "text": [
      "\n",
      "\n",
      "\n",
      "\n",
      "Web Creation\n"
     ]
    },
    {
     "data": {
      "text/plain": [
       "False    653\n",
       "True      14\n",
       "Name: Web Creation, dtype: int64"
      ]
     },
     "metadata": {},
     "output_type": "display_data"
    },
    {
     "name": "stdout",
     "output_type": "stream",
     "text": [
      "\n",
      "\n",
      "\n",
      "\n",
      "Reality Warping\n"
     ]
    },
    {
     "data": {
      "text/plain": [
       "False    651\n",
       "True      16\n",
       "Name: Reality Warping, dtype: int64"
      ]
     },
     "metadata": {},
     "output_type": "display_data"
    },
    {
     "name": "stdout",
     "output_type": "stream",
     "text": [
      "\n",
      "\n",
      "\n",
      "\n",
      "Odin Force\n"
     ]
    },
    {
     "data": {
      "text/plain": [
       "False    665\n",
       "True       2\n",
       "Name: Odin Force, dtype: int64"
      ]
     },
     "metadata": {},
     "output_type": "display_data"
    },
    {
     "name": "stdout",
     "output_type": "stream",
     "text": [
      "\n",
      "\n",
      "\n",
      "\n",
      "Symbiote Costume\n"
     ]
    },
    {
     "data": {
      "text/plain": [
       "False    658\n",
       "True       9\n",
       "Name: Symbiote Costume, dtype: int64"
      ]
     },
     "metadata": {},
     "output_type": "display_data"
    },
    {
     "name": "stdout",
     "output_type": "stream",
     "text": [
      "\n",
      "\n",
      "\n",
      "\n",
      "Speed Force\n"
     ]
    },
    {
     "data": {
      "text/plain": [
       "False    666\n",
       "True       1\n",
       "Name: Speed Force, dtype: int64"
      ]
     },
     "metadata": {},
     "output_type": "display_data"
    },
    {
     "name": "stdout",
     "output_type": "stream",
     "text": [
      "\n",
      "\n",
      "\n",
      "\n",
      "Phoenix Force\n"
     ]
    },
    {
     "data": {
      "text/plain": [
       "False    666\n",
       "True       1\n",
       "Name: Phoenix Force, dtype: int64"
      ]
     },
     "metadata": {},
     "output_type": "display_data"
    },
    {
     "name": "stdout",
     "output_type": "stream",
     "text": [
      "\n",
      "\n",
      "\n",
      "\n",
      "Molecular Dissipation\n"
     ]
    },
    {
     "data": {
      "text/plain": [
       "False    666\n",
       "True       1\n",
       "Name: Molecular Dissipation, dtype: int64"
      ]
     },
     "metadata": {},
     "output_type": "display_data"
    },
    {
     "name": "stdout",
     "output_type": "stream",
     "text": [
      "\n",
      "\n",
      "\n",
      "\n",
      "Vision - Cryo\n"
     ]
    },
    {
     "data": {
      "text/plain": [
       "False    665\n",
       "True       2\n",
       "Name: Vision - Cryo, dtype: int64"
      ]
     },
     "metadata": {},
     "output_type": "display_data"
    },
    {
     "name": "stdout",
     "output_type": "stream",
     "text": [
      "\n",
      "\n",
      "\n",
      "\n",
      "Omnipresent\n"
     ]
    },
    {
     "data": {
      "text/plain": [
       "False    665\n",
       "True       2\n",
       "Name: Omnipresent, dtype: int64"
      ]
     },
     "metadata": {},
     "output_type": "display_data"
    },
    {
     "name": "stdout",
     "output_type": "stream",
     "text": [
      "\n",
      "\n",
      "\n",
      "\n",
      "Omniscient\n"
     ]
    },
    {
     "data": {
      "text/plain": [
       "False    665\n",
       "True       2\n",
       "Name: Omniscient, dtype: int64"
      ]
     },
     "metadata": {},
     "output_type": "display_data"
    },
    {
     "name": "stdout",
     "output_type": "stream",
     "text": [
      "\n",
      "\n",
      "\n",
      "\n"
     ]
    }
   ],
   "source": [
    "# Also, want to check value counts in all columns for placeholder values\n",
    "for column in powers_df.columns:\n",
    "    print(column)\n",
    "    display(powers_df[column].value_counts())\n",
    "    print('\\n\\n\\n')"
   ]
  },
  {
   "cell_type": "markdown",
   "metadata": {},
   "source": [
    "### No null/placeholder values present in powers_df, so we will proceed!"
   ]
  },
  {
   "cell_type": "markdown",
   "metadata": {},
   "source": [
    "## Joining, Grouping, and Aggregating\n",
    "\n",
    "In the cell below, join the two DataFrames.  Think about which sort of join you should use, as well as which columns you should join on.  Rename columns and manipulate as needed.  \n",
    "\n",
    "**_HINT:_** Consider the possibility that the columns you choose to join on contain duplicate entries. If that is the case, devise a strategy to deal with the duplicates.\n",
    "\n",
    "**_HINT:_** If the join throws an error message, consider setting the column you want to join on as the index for each DataFrame.  "
   ]
  },
  {
   "cell_type": "code",
   "execution_count": 20,
   "metadata": {},
   "outputs": [
    {
     "data": {
      "text/plain": [
       "The Comedian         1\n",
       "Crystal              1\n",
       "Agent 13             1\n",
       "Wonder Girl          1\n",
       "Alex Mercer          1\n",
       "Predator             1\n",
       "Blackout             1\n",
       "Goblin Queen         1\n",
       "Huntress             1\n",
       "Maya Herrera         1\n",
       "One-Above-All        1\n",
       "Walrus               1\n",
       "Elektra              1\n",
       "Scorpia              1\n",
       "Angela               1\n",
       "Vagabond             1\n",
       "Brainiac             1\n",
       "Joker                1\n",
       "Spider-Girl          1\n",
       "Beast                1\n",
       "Aztar                1\n",
       "Gambit               1\n",
       "Silk Spectre         1\n",
       "Boom-Boom            1\n",
       "Deadpool             1\n",
       "Sentry               1\n",
       "Silk                 1\n",
       "Scarlet Spider II    1\n",
       "Toad                 1\n",
       "Red Arrow            1\n",
       "                    ..\n",
       "Aqualad              1\n",
       "Blue Beetle II       1\n",
       "Raven                1\n",
       "Ardina               1\n",
       "Wondra               1\n",
       "Penance              1\n",
       "Black Adam           1\n",
       "Lightning Lad        1\n",
       "Plantman             1\n",
       "Katniss Everdeen     1\n",
       "Gravity              1\n",
       "Ben 10               1\n",
       "Space Ghost          1\n",
       "Batman II            1\n",
       "Ghost Rider          1\n",
       "Yellowjacket         1\n",
       "Agent Zero           1\n",
       "Doc Samson           1\n",
       "Domino               1\n",
       "Nightcrawler         1\n",
       "Bird-Man II          1\n",
       "Hybrid               1\n",
       "Batgirl IV           1\n",
       "Genesis              1\n",
       "Battlestar           1\n",
       "Luke Cage            1\n",
       "Captain Epic         1\n",
       "Venompool            1\n",
       "Trickster            1\n",
       "Shadowcat            1\n",
       "Name: name, Length: 715, dtype: int64"
      ]
     },
     "execution_count": 20,
     "metadata": {},
     "output_type": "execute_result"
    }
   ],
   "source": [
    "# Removing duplicate rows from the heroes_df by name\n",
    "heroes_df.drop_duplicates(subset='name', inplace=True)\n",
    "heroes_df.name.value_counts()"
   ]
  },
  {
   "cell_type": "code",
   "execution_count": 29,
   "metadata": {},
   "outputs": [
    {
     "data": {
      "text/html": [
       "<div>\n",
       "<style scoped>\n",
       "    .dataframe tbody tr th:only-of-type {\n",
       "        vertical-align: middle;\n",
       "    }\n",
       "\n",
       "    .dataframe tbody tr th {\n",
       "        vertical-align: top;\n",
       "    }\n",
       "\n",
       "    .dataframe thead th {\n",
       "        text-align: right;\n",
       "    }\n",
       "</style>\n",
       "<table border=\"1\" class=\"dataframe\">\n",
       "  <thead>\n",
       "    <tr style=\"text-align: right;\">\n",
       "      <th></th>\n",
       "      <th>Gender</th>\n",
       "      <th>Eye color</th>\n",
       "      <th>Race</th>\n",
       "      <th>Hair color</th>\n",
       "      <th>Height</th>\n",
       "      <th>Publisher</th>\n",
       "      <th>Skin color</th>\n",
       "      <th>Alignment</th>\n",
       "      <th>Weight</th>\n",
       "    </tr>\n",
       "    <tr>\n",
       "      <th>name</th>\n",
       "      <th></th>\n",
       "      <th></th>\n",
       "      <th></th>\n",
       "      <th></th>\n",
       "      <th></th>\n",
       "      <th></th>\n",
       "      <th></th>\n",
       "      <th></th>\n",
       "      <th></th>\n",
       "    </tr>\n",
       "  </thead>\n",
       "  <tbody>\n",
       "    <tr>\n",
       "      <th>A-Bomb</th>\n",
       "      <td>Male</td>\n",
       "      <td>yellow</td>\n",
       "      <td>Human</td>\n",
       "      <td>No Hair</td>\n",
       "      <td>203.0</td>\n",
       "      <td>Marvel Comics</td>\n",
       "      <td>Unknown</td>\n",
       "      <td>good</td>\n",
       "      <td>441.0</td>\n",
       "    </tr>\n",
       "    <tr>\n",
       "      <th>Abe Sapien</th>\n",
       "      <td>Male</td>\n",
       "      <td>blue</td>\n",
       "      <td>Icthyo Sapien</td>\n",
       "      <td>No Hair</td>\n",
       "      <td>191.0</td>\n",
       "      <td>Dark Horse Comics</td>\n",
       "      <td>blue</td>\n",
       "      <td>good</td>\n",
       "      <td>65.0</td>\n",
       "    </tr>\n",
       "    <tr>\n",
       "      <th>Abin Sur</th>\n",
       "      <td>Male</td>\n",
       "      <td>blue</td>\n",
       "      <td>Ungaran</td>\n",
       "      <td>No Hair</td>\n",
       "      <td>185.0</td>\n",
       "      <td>DC Comics</td>\n",
       "      <td>red</td>\n",
       "      <td>good</td>\n",
       "      <td>90.0</td>\n",
       "    </tr>\n",
       "    <tr>\n",
       "      <th>Abomination</th>\n",
       "      <td>Male</td>\n",
       "      <td>green</td>\n",
       "      <td>Human / Radiation</td>\n",
       "      <td>No Hair</td>\n",
       "      <td>203.0</td>\n",
       "      <td>Marvel Comics</td>\n",
       "      <td>Unknown</td>\n",
       "      <td>bad</td>\n",
       "      <td>441.0</td>\n",
       "    </tr>\n",
       "    <tr>\n",
       "      <th>Abraxas</th>\n",
       "      <td>Male</td>\n",
       "      <td>blue</td>\n",
       "      <td>Cosmic Entity</td>\n",
       "      <td>Black</td>\n",
       "      <td>NaN</td>\n",
       "      <td>Marvel Comics</td>\n",
       "      <td>Unknown</td>\n",
       "      <td>bad</td>\n",
       "      <td>NaN</td>\n",
       "    </tr>\n",
       "    <tr>\n",
       "      <th>Absorbing Man</th>\n",
       "      <td>Male</td>\n",
       "      <td>blue</td>\n",
       "      <td>Human</td>\n",
       "      <td>No Hair</td>\n",
       "      <td>193.0</td>\n",
       "      <td>Marvel Comics</td>\n",
       "      <td>Unknown</td>\n",
       "      <td>bad</td>\n",
       "      <td>122.0</td>\n",
       "    </tr>\n",
       "    <tr>\n",
       "      <th>Adam Monroe</th>\n",
       "      <td>Male</td>\n",
       "      <td>blue</td>\n",
       "      <td>Unknown</td>\n",
       "      <td>Blond</td>\n",
       "      <td>NaN</td>\n",
       "      <td>NBC - Heroes</td>\n",
       "      <td>Unknown</td>\n",
       "      <td>good</td>\n",
       "      <td>NaN</td>\n",
       "    </tr>\n",
       "    <tr>\n",
       "      <th>Adam Strange</th>\n",
       "      <td>Male</td>\n",
       "      <td>blue</td>\n",
       "      <td>Human</td>\n",
       "      <td>Blond</td>\n",
       "      <td>185.0</td>\n",
       "      <td>DC Comics</td>\n",
       "      <td>Unknown</td>\n",
       "      <td>good</td>\n",
       "      <td>88.0</td>\n",
       "    </tr>\n",
       "    <tr>\n",
       "      <th>Agent 13</th>\n",
       "      <td>Female</td>\n",
       "      <td>blue</td>\n",
       "      <td>Unknown</td>\n",
       "      <td>Blond</td>\n",
       "      <td>173.0</td>\n",
       "      <td>Marvel Comics</td>\n",
       "      <td>Unknown</td>\n",
       "      <td>good</td>\n",
       "      <td>61.0</td>\n",
       "    </tr>\n",
       "    <tr>\n",
       "      <th>Agent Bob</th>\n",
       "      <td>Male</td>\n",
       "      <td>brown</td>\n",
       "      <td>Human</td>\n",
       "      <td>Brown</td>\n",
       "      <td>178.0</td>\n",
       "      <td>Marvel Comics</td>\n",
       "      <td>Unknown</td>\n",
       "      <td>good</td>\n",
       "      <td>81.0</td>\n",
       "    </tr>\n",
       "    <tr>\n",
       "      <th>Agent Zero</th>\n",
       "      <td>Male</td>\n",
       "      <td>Unknown</td>\n",
       "      <td>Unknown</td>\n",
       "      <td>Unknown</td>\n",
       "      <td>191.0</td>\n",
       "      <td>Marvel Comics</td>\n",
       "      <td>Unknown</td>\n",
       "      <td>good</td>\n",
       "      <td>104.0</td>\n",
       "    </tr>\n",
       "    <tr>\n",
       "      <th>Air-Walker</th>\n",
       "      <td>Male</td>\n",
       "      <td>blue</td>\n",
       "      <td>Unknown</td>\n",
       "      <td>White</td>\n",
       "      <td>188.0</td>\n",
       "      <td>Marvel Comics</td>\n",
       "      <td>Unknown</td>\n",
       "      <td>bad</td>\n",
       "      <td>108.0</td>\n",
       "    </tr>\n",
       "    <tr>\n",
       "      <th>Ajax</th>\n",
       "      <td>Male</td>\n",
       "      <td>brown</td>\n",
       "      <td>Cyborg</td>\n",
       "      <td>Black</td>\n",
       "      <td>193.0</td>\n",
       "      <td>Marvel Comics</td>\n",
       "      <td>Unknown</td>\n",
       "      <td>bad</td>\n",
       "      <td>90.0</td>\n",
       "    </tr>\n",
       "    <tr>\n",
       "      <th>Alan Scott</th>\n",
       "      <td>Male</td>\n",
       "      <td>blue</td>\n",
       "      <td>Unknown</td>\n",
       "      <td>Blond</td>\n",
       "      <td>180.0</td>\n",
       "      <td>DC Comics</td>\n",
       "      <td>Unknown</td>\n",
       "      <td>good</td>\n",
       "      <td>90.0</td>\n",
       "    </tr>\n",
       "    <tr>\n",
       "      <th>Alex Mercer</th>\n",
       "      <td>Male</td>\n",
       "      <td>Unknown</td>\n",
       "      <td>Human</td>\n",
       "      <td>Unknown</td>\n",
       "      <td>NaN</td>\n",
       "      <td>Wildstorm</td>\n",
       "      <td>Unknown</td>\n",
       "      <td>bad</td>\n",
       "      <td>NaN</td>\n",
       "    </tr>\n",
       "    <tr>\n",
       "      <th>Alex Woolsly</th>\n",
       "      <td>Male</td>\n",
       "      <td>Unknown</td>\n",
       "      <td>Unknown</td>\n",
       "      <td>Unknown</td>\n",
       "      <td>NaN</td>\n",
       "      <td>NBC - Heroes</td>\n",
       "      <td>Unknown</td>\n",
       "      <td>good</td>\n",
       "      <td>NaN</td>\n",
       "    </tr>\n",
       "    <tr>\n",
       "      <th>Alfred Pennyworth</th>\n",
       "      <td>Male</td>\n",
       "      <td>blue</td>\n",
       "      <td>Human</td>\n",
       "      <td>Black</td>\n",
       "      <td>178.0</td>\n",
       "      <td>DC Comics</td>\n",
       "      <td>Unknown</td>\n",
       "      <td>good</td>\n",
       "      <td>72.0</td>\n",
       "    </tr>\n",
       "    <tr>\n",
       "      <th>Alien</th>\n",
       "      <td>Male</td>\n",
       "      <td>Unknown</td>\n",
       "      <td>Xenomorph XX121</td>\n",
       "      <td>No Hair</td>\n",
       "      <td>244.0</td>\n",
       "      <td>Dark Horse Comics</td>\n",
       "      <td>black</td>\n",
       "      <td>bad</td>\n",
       "      <td>169.0</td>\n",
       "    </tr>\n",
       "    <tr>\n",
       "      <th>Allan Quatermain</th>\n",
       "      <td>Male</td>\n",
       "      <td>Unknown</td>\n",
       "      <td>Unknown</td>\n",
       "      <td>Unknown</td>\n",
       "      <td>NaN</td>\n",
       "      <td>Wildstorm</td>\n",
       "      <td>Unknown</td>\n",
       "      <td>good</td>\n",
       "      <td>NaN</td>\n",
       "    </tr>\n",
       "    <tr>\n",
       "      <th>Amazo</th>\n",
       "      <td>Male</td>\n",
       "      <td>red</td>\n",
       "      <td>Android</td>\n",
       "      <td>Unknown</td>\n",
       "      <td>257.0</td>\n",
       "      <td>DC Comics</td>\n",
       "      <td>Unknown</td>\n",
       "      <td>bad</td>\n",
       "      <td>173.0</td>\n",
       "    </tr>\n",
       "    <tr>\n",
       "      <th>Ammo</th>\n",
       "      <td>Male</td>\n",
       "      <td>brown</td>\n",
       "      <td>Human</td>\n",
       "      <td>Black</td>\n",
       "      <td>188.0</td>\n",
       "      <td>Marvel Comics</td>\n",
       "      <td>Unknown</td>\n",
       "      <td>bad</td>\n",
       "      <td>101.0</td>\n",
       "    </tr>\n",
       "    <tr>\n",
       "      <th>Ando Masahashi</th>\n",
       "      <td>Male</td>\n",
       "      <td>Unknown</td>\n",
       "      <td>Unknown</td>\n",
       "      <td>Unknown</td>\n",
       "      <td>NaN</td>\n",
       "      <td>NBC - Heroes</td>\n",
       "      <td>Unknown</td>\n",
       "      <td>good</td>\n",
       "      <td>NaN</td>\n",
       "    </tr>\n",
       "    <tr>\n",
       "      <th>Angel</th>\n",
       "      <td>Male</td>\n",
       "      <td>blue</td>\n",
       "      <td>Unknown</td>\n",
       "      <td>Blond</td>\n",
       "      <td>183.0</td>\n",
       "      <td>Marvel Comics</td>\n",
       "      <td>Unknown</td>\n",
       "      <td>good</td>\n",
       "      <td>68.0</td>\n",
       "    </tr>\n",
       "    <tr>\n",
       "      <th>Angel Dust</th>\n",
       "      <td>Female</td>\n",
       "      <td>yellow</td>\n",
       "      <td>Mutant</td>\n",
       "      <td>Black</td>\n",
       "      <td>165.0</td>\n",
       "      <td>Marvel Comics</td>\n",
       "      <td>Unknown</td>\n",
       "      <td>good</td>\n",
       "      <td>57.0</td>\n",
       "    </tr>\n",
       "    <tr>\n",
       "      <th>Angel Salvadore</th>\n",
       "      <td>Female</td>\n",
       "      <td>brown</td>\n",
       "      <td>Unknown</td>\n",
       "      <td>Black</td>\n",
       "      <td>163.0</td>\n",
       "      <td>Marvel Comics</td>\n",
       "      <td>Unknown</td>\n",
       "      <td>good</td>\n",
       "      <td>54.0</td>\n",
       "    </tr>\n",
       "    <tr>\n",
       "      <th>Angela</th>\n",
       "      <td>Female</td>\n",
       "      <td>Unknown</td>\n",
       "      <td>Unknown</td>\n",
       "      <td>Unknown</td>\n",
       "      <td>NaN</td>\n",
       "      <td>Image Comics</td>\n",
       "      <td>Unknown</td>\n",
       "      <td>bad</td>\n",
       "      <td>NaN</td>\n",
       "    </tr>\n",
       "    <tr>\n",
       "      <th>Animal Man</th>\n",
       "      <td>Male</td>\n",
       "      <td>blue</td>\n",
       "      <td>Human</td>\n",
       "      <td>Blond</td>\n",
       "      <td>183.0</td>\n",
       "      <td>DC Comics</td>\n",
       "      <td>Unknown</td>\n",
       "      <td>good</td>\n",
       "      <td>83.0</td>\n",
       "    </tr>\n",
       "    <tr>\n",
       "      <th>Annihilus</th>\n",
       "      <td>Male</td>\n",
       "      <td>green</td>\n",
       "      <td>Unknown</td>\n",
       "      <td>No Hair</td>\n",
       "      <td>180.0</td>\n",
       "      <td>Marvel Comics</td>\n",
       "      <td>Unknown</td>\n",
       "      <td>bad</td>\n",
       "      <td>90.0</td>\n",
       "    </tr>\n",
       "    <tr>\n",
       "      <th>Ant-Man</th>\n",
       "      <td>Male</td>\n",
       "      <td>blue</td>\n",
       "      <td>Human</td>\n",
       "      <td>Blond</td>\n",
       "      <td>211.0</td>\n",
       "      <td>Marvel Comics</td>\n",
       "      <td>Unknown</td>\n",
       "      <td>good</td>\n",
       "      <td>122.0</td>\n",
       "    </tr>\n",
       "    <tr>\n",
       "      <th>Ant-Man II</th>\n",
       "      <td>Male</td>\n",
       "      <td>blue</td>\n",
       "      <td>Human</td>\n",
       "      <td>Blond</td>\n",
       "      <td>183.0</td>\n",
       "      <td>Marvel Comics</td>\n",
       "      <td>Unknown</td>\n",
       "      <td>good</td>\n",
       "      <td>86.0</td>\n",
       "    </tr>\n",
       "    <tr>\n",
       "      <th>...</th>\n",
       "      <td>...</td>\n",
       "      <td>...</td>\n",
       "      <td>...</td>\n",
       "      <td>...</td>\n",
       "      <td>...</td>\n",
       "      <td>...</td>\n",
       "      <td>...</td>\n",
       "      <td>...</td>\n",
       "      <td>...</td>\n",
       "    </tr>\n",
       "    <tr>\n",
       "      <th>Walrus</th>\n",
       "      <td>Male</td>\n",
       "      <td>blue</td>\n",
       "      <td>Human</td>\n",
       "      <td>Black</td>\n",
       "      <td>183.0</td>\n",
       "      <td>Marvel Comics</td>\n",
       "      <td>Unknown</td>\n",
       "      <td>bad</td>\n",
       "      <td>162.0</td>\n",
       "    </tr>\n",
       "    <tr>\n",
       "      <th>War Machine</th>\n",
       "      <td>Male</td>\n",
       "      <td>brown</td>\n",
       "      <td>Human</td>\n",
       "      <td>Brown</td>\n",
       "      <td>185.0</td>\n",
       "      <td>Marvel Comics</td>\n",
       "      <td>Unknown</td>\n",
       "      <td>good</td>\n",
       "      <td>95.0</td>\n",
       "    </tr>\n",
       "    <tr>\n",
       "      <th>Warbird</th>\n",
       "      <td>Female</td>\n",
       "      <td>blue</td>\n",
       "      <td>Unknown</td>\n",
       "      <td>Blond</td>\n",
       "      <td>180.0</td>\n",
       "      <td>Marvel Comics</td>\n",
       "      <td>Unknown</td>\n",
       "      <td>good</td>\n",
       "      <td>54.0</td>\n",
       "    </tr>\n",
       "    <tr>\n",
       "      <th>Warlock</th>\n",
       "      <td>Male</td>\n",
       "      <td>red</td>\n",
       "      <td>Unknown</td>\n",
       "      <td>Blond</td>\n",
       "      <td>188.0</td>\n",
       "      <td>Marvel Comics</td>\n",
       "      <td>Unknown</td>\n",
       "      <td>good</td>\n",
       "      <td>108.0</td>\n",
       "    </tr>\n",
       "    <tr>\n",
       "      <th>Warp</th>\n",
       "      <td>Male</td>\n",
       "      <td>brown</td>\n",
       "      <td>Unknown</td>\n",
       "      <td>Black</td>\n",
       "      <td>173.0</td>\n",
       "      <td>DC Comics</td>\n",
       "      <td>Unknown</td>\n",
       "      <td>bad</td>\n",
       "      <td>67.0</td>\n",
       "    </tr>\n",
       "    <tr>\n",
       "      <th>Warpath</th>\n",
       "      <td>Male</td>\n",
       "      <td>brown</td>\n",
       "      <td>Mutant</td>\n",
       "      <td>Black</td>\n",
       "      <td>218.0</td>\n",
       "      <td>Marvel Comics</td>\n",
       "      <td>Unknown</td>\n",
       "      <td>good</td>\n",
       "      <td>158.0</td>\n",
       "    </tr>\n",
       "    <tr>\n",
       "      <th>Wasp</th>\n",
       "      <td>Female</td>\n",
       "      <td>blue</td>\n",
       "      <td>Human</td>\n",
       "      <td>Auburn</td>\n",
       "      <td>163.0</td>\n",
       "      <td>Marvel Comics</td>\n",
       "      <td>Unknown</td>\n",
       "      <td>good</td>\n",
       "      <td>50.0</td>\n",
       "    </tr>\n",
       "    <tr>\n",
       "      <th>Watcher</th>\n",
       "      <td>Male</td>\n",
       "      <td>Unknown</td>\n",
       "      <td>Unknown</td>\n",
       "      <td>Unknown</td>\n",
       "      <td>NaN</td>\n",
       "      <td>Marvel Comics</td>\n",
       "      <td>Unknown</td>\n",
       "      <td>good</td>\n",
       "      <td>NaN</td>\n",
       "    </tr>\n",
       "    <tr>\n",
       "      <th>Weapon XI</th>\n",
       "      <td>Male</td>\n",
       "      <td>Unknown</td>\n",
       "      <td>Unknown</td>\n",
       "      <td>Unknown</td>\n",
       "      <td>NaN</td>\n",
       "      <td>Marvel Comics</td>\n",
       "      <td>Unknown</td>\n",
       "      <td>bad</td>\n",
       "      <td>NaN</td>\n",
       "    </tr>\n",
       "    <tr>\n",
       "      <th>White Canary</th>\n",
       "      <td>Female</td>\n",
       "      <td>brown</td>\n",
       "      <td>Human</td>\n",
       "      <td>Black</td>\n",
       "      <td>NaN</td>\n",
       "      <td>DC Comics</td>\n",
       "      <td>Unknown</td>\n",
       "      <td>bad</td>\n",
       "      <td>NaN</td>\n",
       "    </tr>\n",
       "    <tr>\n",
       "      <th>White Queen</th>\n",
       "      <td>Female</td>\n",
       "      <td>blue</td>\n",
       "      <td>Unknown</td>\n",
       "      <td>Blond</td>\n",
       "      <td>178.0</td>\n",
       "      <td>Marvel Comics</td>\n",
       "      <td>Unknown</td>\n",
       "      <td>good</td>\n",
       "      <td>65.0</td>\n",
       "    </tr>\n",
       "    <tr>\n",
       "      <th>Wildfire</th>\n",
       "      <td>Male</td>\n",
       "      <td>Unknown</td>\n",
       "      <td>Unknown</td>\n",
       "      <td>Unknown</td>\n",
       "      <td>NaN</td>\n",
       "      <td>DC Comics</td>\n",
       "      <td>Unknown</td>\n",
       "      <td>good</td>\n",
       "      <td>NaN</td>\n",
       "    </tr>\n",
       "    <tr>\n",
       "      <th>Winter Soldier</th>\n",
       "      <td>Male</td>\n",
       "      <td>brown</td>\n",
       "      <td>Human</td>\n",
       "      <td>Brown</td>\n",
       "      <td>175.0</td>\n",
       "      <td>Marvel Comics</td>\n",
       "      <td>Unknown</td>\n",
       "      <td>good</td>\n",
       "      <td>117.0</td>\n",
       "    </tr>\n",
       "    <tr>\n",
       "      <th>Wiz Kid</th>\n",
       "      <td>Unknown</td>\n",
       "      <td>brown</td>\n",
       "      <td>Unknown</td>\n",
       "      <td>Black</td>\n",
       "      <td>140.0</td>\n",
       "      <td>Marvel Comics</td>\n",
       "      <td>Unknown</td>\n",
       "      <td>good</td>\n",
       "      <td>39.0</td>\n",
       "    </tr>\n",
       "    <tr>\n",
       "      <th>Wolfsbane</th>\n",
       "      <td>Female</td>\n",
       "      <td>green</td>\n",
       "      <td>Unknown</td>\n",
       "      <td>Auburn</td>\n",
       "      <td>366.0</td>\n",
       "      <td>Marvel Comics</td>\n",
       "      <td>Unknown</td>\n",
       "      <td>good</td>\n",
       "      <td>473.0</td>\n",
       "    </tr>\n",
       "    <tr>\n",
       "      <th>Wolverine</th>\n",
       "      <td>Male</td>\n",
       "      <td>blue</td>\n",
       "      <td>Mutant</td>\n",
       "      <td>Black</td>\n",
       "      <td>160.0</td>\n",
       "      <td>Marvel Comics</td>\n",
       "      <td>Unknown</td>\n",
       "      <td>good</td>\n",
       "      <td>135.0</td>\n",
       "    </tr>\n",
       "    <tr>\n",
       "      <th>Wonder Girl</th>\n",
       "      <td>Female</td>\n",
       "      <td>blue</td>\n",
       "      <td>Demi-God</td>\n",
       "      <td>Blond</td>\n",
       "      <td>165.0</td>\n",
       "      <td>DC Comics</td>\n",
       "      <td>Unknown</td>\n",
       "      <td>good</td>\n",
       "      <td>51.0</td>\n",
       "    </tr>\n",
       "    <tr>\n",
       "      <th>Wonder Man</th>\n",
       "      <td>Male</td>\n",
       "      <td>red</td>\n",
       "      <td>Unknown</td>\n",
       "      <td>Black</td>\n",
       "      <td>188.0</td>\n",
       "      <td>Marvel Comics</td>\n",
       "      <td>Unknown</td>\n",
       "      <td>good</td>\n",
       "      <td>171.0</td>\n",
       "    </tr>\n",
       "    <tr>\n",
       "      <th>Wonder Woman</th>\n",
       "      <td>Female</td>\n",
       "      <td>blue</td>\n",
       "      <td>Amazon</td>\n",
       "      <td>Black</td>\n",
       "      <td>183.0</td>\n",
       "      <td>DC Comics</td>\n",
       "      <td>Unknown</td>\n",
       "      <td>good</td>\n",
       "      <td>74.0</td>\n",
       "    </tr>\n",
       "    <tr>\n",
       "      <th>Wondra</th>\n",
       "      <td>Female</td>\n",
       "      <td>Unknown</td>\n",
       "      <td>Unknown</td>\n",
       "      <td>Unknown</td>\n",
       "      <td>NaN</td>\n",
       "      <td>Marvel Comics</td>\n",
       "      <td>Unknown</td>\n",
       "      <td>good</td>\n",
       "      <td>NaN</td>\n",
       "    </tr>\n",
       "    <tr>\n",
       "      <th>Wyatt Wingfoot</th>\n",
       "      <td>Male</td>\n",
       "      <td>brown</td>\n",
       "      <td>Unknown</td>\n",
       "      <td>Black</td>\n",
       "      <td>196.0</td>\n",
       "      <td>Marvel Comics</td>\n",
       "      <td>Unknown</td>\n",
       "      <td>good</td>\n",
       "      <td>117.0</td>\n",
       "    </tr>\n",
       "    <tr>\n",
       "      <th>X-23</th>\n",
       "      <td>Female</td>\n",
       "      <td>green</td>\n",
       "      <td>Mutant / Clone</td>\n",
       "      <td>Black</td>\n",
       "      <td>155.0</td>\n",
       "      <td>Marvel Comics</td>\n",
       "      <td>Unknown</td>\n",
       "      <td>good</td>\n",
       "      <td>50.0</td>\n",
       "    </tr>\n",
       "    <tr>\n",
       "      <th>X-Man</th>\n",
       "      <td>Male</td>\n",
       "      <td>blue</td>\n",
       "      <td>Unknown</td>\n",
       "      <td>Brown</td>\n",
       "      <td>175.0</td>\n",
       "      <td>Marvel Comics</td>\n",
       "      <td>Unknown</td>\n",
       "      <td>good</td>\n",
       "      <td>61.0</td>\n",
       "    </tr>\n",
       "    <tr>\n",
       "      <th>Yellow Claw</th>\n",
       "      <td>Male</td>\n",
       "      <td>blue</td>\n",
       "      <td>Unknown</td>\n",
       "      <td>No Hair</td>\n",
       "      <td>188.0</td>\n",
       "      <td>Marvel Comics</td>\n",
       "      <td>Unknown</td>\n",
       "      <td>bad</td>\n",
       "      <td>95.0</td>\n",
       "    </tr>\n",
       "    <tr>\n",
       "      <th>Yellowjacket</th>\n",
       "      <td>Male</td>\n",
       "      <td>blue</td>\n",
       "      <td>Human</td>\n",
       "      <td>Blond</td>\n",
       "      <td>183.0</td>\n",
       "      <td>Marvel Comics</td>\n",
       "      <td>Unknown</td>\n",
       "      <td>good</td>\n",
       "      <td>83.0</td>\n",
       "    </tr>\n",
       "    <tr>\n",
       "      <th>Yellowjacket II</th>\n",
       "      <td>Female</td>\n",
       "      <td>blue</td>\n",
       "      <td>Human</td>\n",
       "      <td>Strawberry Blond</td>\n",
       "      <td>165.0</td>\n",
       "      <td>Marvel Comics</td>\n",
       "      <td>Unknown</td>\n",
       "      <td>good</td>\n",
       "      <td>52.0</td>\n",
       "    </tr>\n",
       "    <tr>\n",
       "      <th>Ymir</th>\n",
       "      <td>Male</td>\n",
       "      <td>white</td>\n",
       "      <td>Frost Giant</td>\n",
       "      <td>No Hair</td>\n",
       "      <td>304.8</td>\n",
       "      <td>Marvel Comics</td>\n",
       "      <td>white</td>\n",
       "      <td>good</td>\n",
       "      <td>NaN</td>\n",
       "    </tr>\n",
       "    <tr>\n",
       "      <th>Yoda</th>\n",
       "      <td>Male</td>\n",
       "      <td>brown</td>\n",
       "      <td>Yoda's species</td>\n",
       "      <td>White</td>\n",
       "      <td>66.0</td>\n",
       "      <td>George Lucas</td>\n",
       "      <td>green</td>\n",
       "      <td>good</td>\n",
       "      <td>17.0</td>\n",
       "    </tr>\n",
       "    <tr>\n",
       "      <th>Zatanna</th>\n",
       "      <td>Female</td>\n",
       "      <td>blue</td>\n",
       "      <td>Human</td>\n",
       "      <td>Black</td>\n",
       "      <td>170.0</td>\n",
       "      <td>DC Comics</td>\n",
       "      <td>Unknown</td>\n",
       "      <td>good</td>\n",
       "      <td>57.0</td>\n",
       "    </tr>\n",
       "    <tr>\n",
       "      <th>Zoom</th>\n",
       "      <td>Male</td>\n",
       "      <td>red</td>\n",
       "      <td>Unknown</td>\n",
       "      <td>Brown</td>\n",
       "      <td>185.0</td>\n",
       "      <td>DC Comics</td>\n",
       "      <td>Unknown</td>\n",
       "      <td>bad</td>\n",
       "      <td>81.0</td>\n",
       "    </tr>\n",
       "  </tbody>\n",
       "</table>\n",
       "<p>715 rows × 9 columns</p>\n",
       "</div>"
      ],
      "text/plain": [
       "                    Gender Eye color               Race        Hair color  \\\n",
       "name                                                                        \n",
       "A-Bomb                Male    yellow              Human           No Hair   \n",
       "Abe Sapien            Male      blue      Icthyo Sapien           No Hair   \n",
       "Abin Sur              Male      blue            Ungaran           No Hair   \n",
       "Abomination           Male     green  Human / Radiation           No Hair   \n",
       "Abraxas               Male      blue      Cosmic Entity             Black   \n",
       "Absorbing Man         Male      blue              Human           No Hair   \n",
       "Adam Monroe           Male      blue            Unknown             Blond   \n",
       "Adam Strange          Male      blue              Human             Blond   \n",
       "Agent 13            Female      blue            Unknown             Blond   \n",
       "Agent Bob             Male     brown              Human             Brown   \n",
       "Agent Zero            Male   Unknown            Unknown           Unknown   \n",
       "Air-Walker            Male      blue            Unknown             White   \n",
       "Ajax                  Male     brown             Cyborg             Black   \n",
       "Alan Scott            Male      blue            Unknown             Blond   \n",
       "Alex Mercer           Male   Unknown              Human           Unknown   \n",
       "Alex Woolsly          Male   Unknown            Unknown           Unknown   \n",
       "Alfred Pennyworth     Male      blue              Human             Black   \n",
       "Alien                 Male   Unknown    Xenomorph XX121           No Hair   \n",
       "Allan Quatermain      Male   Unknown            Unknown           Unknown   \n",
       "Amazo                 Male       red            Android           Unknown   \n",
       "Ammo                  Male     brown              Human             Black   \n",
       "Ando Masahashi        Male   Unknown            Unknown           Unknown   \n",
       "Angel                 Male      blue            Unknown             Blond   \n",
       "Angel Dust          Female    yellow             Mutant             Black   \n",
       "Angel Salvadore     Female     brown            Unknown             Black   \n",
       "Angela              Female   Unknown            Unknown           Unknown   \n",
       "Animal Man            Male      blue              Human             Blond   \n",
       "Annihilus             Male     green            Unknown           No Hair   \n",
       "Ant-Man               Male      blue              Human             Blond   \n",
       "Ant-Man II            Male      blue              Human             Blond   \n",
       "...                    ...       ...                ...               ...   \n",
       "Walrus                Male      blue              Human             Black   \n",
       "War Machine           Male     brown              Human             Brown   \n",
       "Warbird             Female      blue            Unknown             Blond   \n",
       "Warlock               Male       red            Unknown             Blond   \n",
       "Warp                  Male     brown            Unknown             Black   \n",
       "Warpath               Male     brown             Mutant             Black   \n",
       "Wasp                Female      blue              Human            Auburn   \n",
       "Watcher               Male   Unknown            Unknown           Unknown   \n",
       "Weapon XI             Male   Unknown            Unknown           Unknown   \n",
       "White Canary        Female     brown              Human             Black   \n",
       "White Queen         Female      blue            Unknown             Blond   \n",
       "Wildfire              Male   Unknown            Unknown           Unknown   \n",
       "Winter Soldier        Male     brown              Human             Brown   \n",
       "Wiz Kid            Unknown     brown            Unknown             Black   \n",
       "Wolfsbane           Female     green            Unknown            Auburn   \n",
       "Wolverine             Male      blue             Mutant             Black   \n",
       "Wonder Girl         Female      blue           Demi-God             Blond   \n",
       "Wonder Man            Male       red            Unknown             Black   \n",
       "Wonder Woman        Female      blue             Amazon             Black   \n",
       "Wondra              Female   Unknown            Unknown           Unknown   \n",
       "Wyatt Wingfoot        Male     brown            Unknown             Black   \n",
       "X-23                Female     green     Mutant / Clone             Black   \n",
       "X-Man                 Male      blue            Unknown             Brown   \n",
       "Yellow Claw           Male      blue            Unknown           No Hair   \n",
       "Yellowjacket          Male      blue              Human             Blond   \n",
       "Yellowjacket II     Female      blue              Human  Strawberry Blond   \n",
       "Ymir                  Male     white        Frost Giant           No Hair   \n",
       "Yoda                  Male     brown     Yoda's species             White   \n",
       "Zatanna             Female      blue              Human             Black   \n",
       "Zoom                  Male       red            Unknown             Brown   \n",
       "\n",
       "                   Height          Publisher Skin color Alignment  Weight  \n",
       "name                                                                       \n",
       "A-Bomb              203.0      Marvel Comics    Unknown      good   441.0  \n",
       "Abe Sapien          191.0  Dark Horse Comics       blue      good    65.0  \n",
       "Abin Sur            185.0          DC Comics        red      good    90.0  \n",
       "Abomination         203.0      Marvel Comics    Unknown       bad   441.0  \n",
       "Abraxas               NaN      Marvel Comics    Unknown       bad     NaN  \n",
       "Absorbing Man       193.0      Marvel Comics    Unknown       bad   122.0  \n",
       "Adam Monroe           NaN       NBC - Heroes    Unknown      good     NaN  \n",
       "Adam Strange        185.0          DC Comics    Unknown      good    88.0  \n",
       "Agent 13            173.0      Marvel Comics    Unknown      good    61.0  \n",
       "Agent Bob           178.0      Marvel Comics    Unknown      good    81.0  \n",
       "Agent Zero          191.0      Marvel Comics    Unknown      good   104.0  \n",
       "Air-Walker          188.0      Marvel Comics    Unknown       bad   108.0  \n",
       "Ajax                193.0      Marvel Comics    Unknown       bad    90.0  \n",
       "Alan Scott          180.0          DC Comics    Unknown      good    90.0  \n",
       "Alex Mercer           NaN          Wildstorm    Unknown       bad     NaN  \n",
       "Alex Woolsly          NaN       NBC - Heroes    Unknown      good     NaN  \n",
       "Alfred Pennyworth   178.0          DC Comics    Unknown      good    72.0  \n",
       "Alien               244.0  Dark Horse Comics      black       bad   169.0  \n",
       "Allan Quatermain      NaN          Wildstorm    Unknown      good     NaN  \n",
       "Amazo               257.0          DC Comics    Unknown       bad   173.0  \n",
       "Ammo                188.0      Marvel Comics    Unknown       bad   101.0  \n",
       "Ando Masahashi        NaN       NBC - Heroes    Unknown      good     NaN  \n",
       "Angel               183.0      Marvel Comics    Unknown      good    68.0  \n",
       "Angel Dust          165.0      Marvel Comics    Unknown      good    57.0  \n",
       "Angel Salvadore     163.0      Marvel Comics    Unknown      good    54.0  \n",
       "Angela                NaN       Image Comics    Unknown       bad     NaN  \n",
       "Animal Man          183.0          DC Comics    Unknown      good    83.0  \n",
       "Annihilus           180.0      Marvel Comics    Unknown       bad    90.0  \n",
       "Ant-Man             211.0      Marvel Comics    Unknown      good   122.0  \n",
       "Ant-Man II          183.0      Marvel Comics    Unknown      good    86.0  \n",
       "...                   ...                ...        ...       ...     ...  \n",
       "Walrus              183.0      Marvel Comics    Unknown       bad   162.0  \n",
       "War Machine         185.0      Marvel Comics    Unknown      good    95.0  \n",
       "Warbird             180.0      Marvel Comics    Unknown      good    54.0  \n",
       "Warlock             188.0      Marvel Comics    Unknown      good   108.0  \n",
       "Warp                173.0          DC Comics    Unknown       bad    67.0  \n",
       "Warpath             218.0      Marvel Comics    Unknown      good   158.0  \n",
       "Wasp                163.0      Marvel Comics    Unknown      good    50.0  \n",
       "Watcher               NaN      Marvel Comics    Unknown      good     NaN  \n",
       "Weapon XI             NaN      Marvel Comics    Unknown       bad     NaN  \n",
       "White Canary          NaN          DC Comics    Unknown       bad     NaN  \n",
       "White Queen         178.0      Marvel Comics    Unknown      good    65.0  \n",
       "Wildfire              NaN          DC Comics    Unknown      good     NaN  \n",
       "Winter Soldier      175.0      Marvel Comics    Unknown      good   117.0  \n",
       "Wiz Kid             140.0      Marvel Comics    Unknown      good    39.0  \n",
       "Wolfsbane           366.0      Marvel Comics    Unknown      good   473.0  \n",
       "Wolverine           160.0      Marvel Comics    Unknown      good   135.0  \n",
       "Wonder Girl         165.0          DC Comics    Unknown      good    51.0  \n",
       "Wonder Man          188.0      Marvel Comics    Unknown      good   171.0  \n",
       "Wonder Woman        183.0          DC Comics    Unknown      good    74.0  \n",
       "Wondra                NaN      Marvel Comics    Unknown      good     NaN  \n",
       "Wyatt Wingfoot      196.0      Marvel Comics    Unknown      good   117.0  \n",
       "X-23                155.0      Marvel Comics    Unknown      good    50.0  \n",
       "X-Man               175.0      Marvel Comics    Unknown      good    61.0  \n",
       "Yellow Claw         188.0      Marvel Comics    Unknown       bad    95.0  \n",
       "Yellowjacket        183.0      Marvel Comics    Unknown      good    83.0  \n",
       "Yellowjacket II     165.0      Marvel Comics    Unknown      good    52.0  \n",
       "Ymir                304.8      Marvel Comics      white      good     NaN  \n",
       "Yoda                 66.0       George Lucas      green      good    17.0  \n",
       "Zatanna             170.0          DC Comics    Unknown      good    57.0  \n",
       "Zoom                185.0          DC Comics    Unknown       bad    81.0  \n",
       "\n",
       "[715 rows x 9 columns]"
      ]
     },
     "execution_count": 29,
     "metadata": {},
     "output_type": "execute_result"
    }
   ],
   "source": [
    "# Here we want to reset the index of each df to the names column for heroes_df\n",
    "heroes_df.set_index(heroes_df['name']).drop('name',axis=1)"
   ]
  },
  {
   "cell_type": "code",
   "execution_count": 30,
   "metadata": {},
   "outputs": [
    {
     "data": {
      "text/html": [
       "<div>\n",
       "<style scoped>\n",
       "    .dataframe tbody tr th:only-of-type {\n",
       "        vertical-align: middle;\n",
       "    }\n",
       "\n",
       "    .dataframe tbody tr th {\n",
       "        vertical-align: top;\n",
       "    }\n",
       "\n",
       "    .dataframe thead th {\n",
       "        text-align: right;\n",
       "    }\n",
       "</style>\n",
       "<table border=\"1\" class=\"dataframe\">\n",
       "  <thead>\n",
       "    <tr style=\"text-align: right;\">\n",
       "      <th></th>\n",
       "      <th>Agility</th>\n",
       "      <th>Accelerated Healing</th>\n",
       "      <th>Lantern Power Ring</th>\n",
       "      <th>Dimensional Awareness</th>\n",
       "      <th>Cold Resistance</th>\n",
       "      <th>Durability</th>\n",
       "      <th>Stealth</th>\n",
       "      <th>Energy Absorption</th>\n",
       "      <th>Flight</th>\n",
       "      <th>Danger Sense</th>\n",
       "      <th>...</th>\n",
       "      <th>Web Creation</th>\n",
       "      <th>Reality Warping</th>\n",
       "      <th>Odin Force</th>\n",
       "      <th>Symbiote Costume</th>\n",
       "      <th>Speed Force</th>\n",
       "      <th>Phoenix Force</th>\n",
       "      <th>Molecular Dissipation</th>\n",
       "      <th>Vision - Cryo</th>\n",
       "      <th>Omnipresent</th>\n",
       "      <th>Omniscient</th>\n",
       "    </tr>\n",
       "    <tr>\n",
       "      <th>hero_names</th>\n",
       "      <th></th>\n",
       "      <th></th>\n",
       "      <th></th>\n",
       "      <th></th>\n",
       "      <th></th>\n",
       "      <th></th>\n",
       "      <th></th>\n",
       "      <th></th>\n",
       "      <th></th>\n",
       "      <th></th>\n",
       "      <th></th>\n",
       "      <th></th>\n",
       "      <th></th>\n",
       "      <th></th>\n",
       "      <th></th>\n",
       "      <th></th>\n",
       "      <th></th>\n",
       "      <th></th>\n",
       "      <th></th>\n",
       "      <th></th>\n",
       "      <th></th>\n",
       "    </tr>\n",
       "  </thead>\n",
       "  <tbody>\n",
       "    <tr>\n",
       "      <th>3-D Man</th>\n",
       "      <td>True</td>\n",
       "      <td>False</td>\n",
       "      <td>False</td>\n",
       "      <td>False</td>\n",
       "      <td>False</td>\n",
       "      <td>False</td>\n",
       "      <td>False</td>\n",
       "      <td>False</td>\n",
       "      <td>False</td>\n",
       "      <td>False</td>\n",
       "      <td>...</td>\n",
       "      <td>False</td>\n",
       "      <td>False</td>\n",
       "      <td>False</td>\n",
       "      <td>False</td>\n",
       "      <td>False</td>\n",
       "      <td>False</td>\n",
       "      <td>False</td>\n",
       "      <td>False</td>\n",
       "      <td>False</td>\n",
       "      <td>False</td>\n",
       "    </tr>\n",
       "    <tr>\n",
       "      <th>A-Bomb</th>\n",
       "      <td>False</td>\n",
       "      <td>True</td>\n",
       "      <td>False</td>\n",
       "      <td>False</td>\n",
       "      <td>False</td>\n",
       "      <td>True</td>\n",
       "      <td>False</td>\n",
       "      <td>False</td>\n",
       "      <td>False</td>\n",
       "      <td>False</td>\n",
       "      <td>...</td>\n",
       "      <td>False</td>\n",
       "      <td>False</td>\n",
       "      <td>False</td>\n",
       "      <td>False</td>\n",
       "      <td>False</td>\n",
       "      <td>False</td>\n",
       "      <td>False</td>\n",
       "      <td>False</td>\n",
       "      <td>False</td>\n",
       "      <td>False</td>\n",
       "    </tr>\n",
       "    <tr>\n",
       "      <th>Abe Sapien</th>\n",
       "      <td>True</td>\n",
       "      <td>True</td>\n",
       "      <td>False</td>\n",
       "      <td>False</td>\n",
       "      <td>True</td>\n",
       "      <td>True</td>\n",
       "      <td>False</td>\n",
       "      <td>False</td>\n",
       "      <td>False</td>\n",
       "      <td>False</td>\n",
       "      <td>...</td>\n",
       "      <td>False</td>\n",
       "      <td>False</td>\n",
       "      <td>False</td>\n",
       "      <td>False</td>\n",
       "      <td>False</td>\n",
       "      <td>False</td>\n",
       "      <td>False</td>\n",
       "      <td>False</td>\n",
       "      <td>False</td>\n",
       "      <td>False</td>\n",
       "    </tr>\n",
       "    <tr>\n",
       "      <th>Abin Sur</th>\n",
       "      <td>False</td>\n",
       "      <td>False</td>\n",
       "      <td>True</td>\n",
       "      <td>False</td>\n",
       "      <td>False</td>\n",
       "      <td>False</td>\n",
       "      <td>False</td>\n",
       "      <td>False</td>\n",
       "      <td>False</td>\n",
       "      <td>False</td>\n",
       "      <td>...</td>\n",
       "      <td>False</td>\n",
       "      <td>False</td>\n",
       "      <td>False</td>\n",
       "      <td>False</td>\n",
       "      <td>False</td>\n",
       "      <td>False</td>\n",
       "      <td>False</td>\n",
       "      <td>False</td>\n",
       "      <td>False</td>\n",
       "      <td>False</td>\n",
       "    </tr>\n",
       "    <tr>\n",
       "      <th>Abomination</th>\n",
       "      <td>False</td>\n",
       "      <td>True</td>\n",
       "      <td>False</td>\n",
       "      <td>False</td>\n",
       "      <td>False</td>\n",
       "      <td>False</td>\n",
       "      <td>False</td>\n",
       "      <td>False</td>\n",
       "      <td>False</td>\n",
       "      <td>False</td>\n",
       "      <td>...</td>\n",
       "      <td>False</td>\n",
       "      <td>False</td>\n",
       "      <td>False</td>\n",
       "      <td>False</td>\n",
       "      <td>False</td>\n",
       "      <td>False</td>\n",
       "      <td>False</td>\n",
       "      <td>False</td>\n",
       "      <td>False</td>\n",
       "      <td>False</td>\n",
       "    </tr>\n",
       "    <tr>\n",
       "      <th>Abraxas</th>\n",
       "      <td>False</td>\n",
       "      <td>False</td>\n",
       "      <td>False</td>\n",
       "      <td>True</td>\n",
       "      <td>False</td>\n",
       "      <td>False</td>\n",
       "      <td>False</td>\n",
       "      <td>False</td>\n",
       "      <td>True</td>\n",
       "      <td>False</td>\n",
       "      <td>...</td>\n",
       "      <td>False</td>\n",
       "      <td>False</td>\n",
       "      <td>False</td>\n",
       "      <td>False</td>\n",
       "      <td>False</td>\n",
       "      <td>False</td>\n",
       "      <td>False</td>\n",
       "      <td>False</td>\n",
       "      <td>False</td>\n",
       "      <td>False</td>\n",
       "    </tr>\n",
       "    <tr>\n",
       "      <th>Absorbing Man</th>\n",
       "      <td>False</td>\n",
       "      <td>False</td>\n",
       "      <td>False</td>\n",
       "      <td>False</td>\n",
       "      <td>True</td>\n",
       "      <td>True</td>\n",
       "      <td>False</td>\n",
       "      <td>True</td>\n",
       "      <td>False</td>\n",
       "      <td>False</td>\n",
       "      <td>...</td>\n",
       "      <td>False</td>\n",
       "      <td>False</td>\n",
       "      <td>False</td>\n",
       "      <td>False</td>\n",
       "      <td>False</td>\n",
       "      <td>False</td>\n",
       "      <td>False</td>\n",
       "      <td>False</td>\n",
       "      <td>False</td>\n",
       "      <td>False</td>\n",
       "    </tr>\n",
       "    <tr>\n",
       "      <th>Adam Monroe</th>\n",
       "      <td>False</td>\n",
       "      <td>True</td>\n",
       "      <td>False</td>\n",
       "      <td>False</td>\n",
       "      <td>False</td>\n",
       "      <td>False</td>\n",
       "      <td>False</td>\n",
       "      <td>False</td>\n",
       "      <td>False</td>\n",
       "      <td>False</td>\n",
       "      <td>...</td>\n",
       "      <td>False</td>\n",
       "      <td>False</td>\n",
       "      <td>False</td>\n",
       "      <td>False</td>\n",
       "      <td>False</td>\n",
       "      <td>False</td>\n",
       "      <td>False</td>\n",
       "      <td>False</td>\n",
       "      <td>False</td>\n",
       "      <td>False</td>\n",
       "    </tr>\n",
       "    <tr>\n",
       "      <th>Adam Strange</th>\n",
       "      <td>False</td>\n",
       "      <td>False</td>\n",
       "      <td>False</td>\n",
       "      <td>False</td>\n",
       "      <td>False</td>\n",
       "      <td>True</td>\n",
       "      <td>True</td>\n",
       "      <td>False</td>\n",
       "      <td>True</td>\n",
       "      <td>False</td>\n",
       "      <td>...</td>\n",
       "      <td>False</td>\n",
       "      <td>False</td>\n",
       "      <td>False</td>\n",
       "      <td>False</td>\n",
       "      <td>False</td>\n",
       "      <td>False</td>\n",
       "      <td>False</td>\n",
       "      <td>False</td>\n",
       "      <td>False</td>\n",
       "      <td>False</td>\n",
       "    </tr>\n",
       "    <tr>\n",
       "      <th>Agent Bob</th>\n",
       "      <td>False</td>\n",
       "      <td>False</td>\n",
       "      <td>False</td>\n",
       "      <td>False</td>\n",
       "      <td>False</td>\n",
       "      <td>False</td>\n",
       "      <td>True</td>\n",
       "      <td>False</td>\n",
       "      <td>False</td>\n",
       "      <td>False</td>\n",
       "      <td>...</td>\n",
       "      <td>False</td>\n",
       "      <td>False</td>\n",
       "      <td>False</td>\n",
       "      <td>False</td>\n",
       "      <td>False</td>\n",
       "      <td>False</td>\n",
       "      <td>False</td>\n",
       "      <td>False</td>\n",
       "      <td>False</td>\n",
       "      <td>False</td>\n",
       "    </tr>\n",
       "    <tr>\n",
       "      <th>Agent Zero</th>\n",
       "      <td>False</td>\n",
       "      <td>False</td>\n",
       "      <td>False</td>\n",
       "      <td>False</td>\n",
       "      <td>False</td>\n",
       "      <td>False</td>\n",
       "      <td>False</td>\n",
       "      <td>True</td>\n",
       "      <td>False</td>\n",
       "      <td>False</td>\n",
       "      <td>...</td>\n",
       "      <td>False</td>\n",
       "      <td>False</td>\n",
       "      <td>False</td>\n",
       "      <td>False</td>\n",
       "      <td>False</td>\n",
       "      <td>False</td>\n",
       "      <td>False</td>\n",
       "      <td>False</td>\n",
       "      <td>False</td>\n",
       "      <td>False</td>\n",
       "    </tr>\n",
       "    <tr>\n",
       "      <th>Air-Walker</th>\n",
       "      <td>False</td>\n",
       "      <td>False</td>\n",
       "      <td>False</td>\n",
       "      <td>False</td>\n",
       "      <td>False</td>\n",
       "      <td>False</td>\n",
       "      <td>False</td>\n",
       "      <td>False</td>\n",
       "      <td>True</td>\n",
       "      <td>False</td>\n",
       "      <td>...</td>\n",
       "      <td>False</td>\n",
       "      <td>False</td>\n",
       "      <td>False</td>\n",
       "      <td>False</td>\n",
       "      <td>False</td>\n",
       "      <td>False</td>\n",
       "      <td>False</td>\n",
       "      <td>False</td>\n",
       "      <td>False</td>\n",
       "      <td>False</td>\n",
       "    </tr>\n",
       "    <tr>\n",
       "      <th>Ajax</th>\n",
       "      <td>True</td>\n",
       "      <td>False</td>\n",
       "      <td>False</td>\n",
       "      <td>False</td>\n",
       "      <td>False</td>\n",
       "      <td>False</td>\n",
       "      <td>False</td>\n",
       "      <td>False</td>\n",
       "      <td>False</td>\n",
       "      <td>False</td>\n",
       "      <td>...</td>\n",
       "      <td>False</td>\n",
       "      <td>False</td>\n",
       "      <td>False</td>\n",
       "      <td>False</td>\n",
       "      <td>False</td>\n",
       "      <td>False</td>\n",
       "      <td>False</td>\n",
       "      <td>False</td>\n",
       "      <td>False</td>\n",
       "      <td>False</td>\n",
       "    </tr>\n",
       "    <tr>\n",
       "      <th>Alan Scott</th>\n",
       "      <td>False</td>\n",
       "      <td>False</td>\n",
       "      <td>False</td>\n",
       "      <td>False</td>\n",
       "      <td>False</td>\n",
       "      <td>False</td>\n",
       "      <td>False</td>\n",
       "      <td>False</td>\n",
       "      <td>True</td>\n",
       "      <td>True</td>\n",
       "      <td>...</td>\n",
       "      <td>False</td>\n",
       "      <td>False</td>\n",
       "      <td>False</td>\n",
       "      <td>False</td>\n",
       "      <td>False</td>\n",
       "      <td>False</td>\n",
       "      <td>False</td>\n",
       "      <td>False</td>\n",
       "      <td>False</td>\n",
       "      <td>False</td>\n",
       "    </tr>\n",
       "    <tr>\n",
       "      <th>Alex Mercer</th>\n",
       "      <td>True</td>\n",
       "      <td>True</td>\n",
       "      <td>False</td>\n",
       "      <td>False</td>\n",
       "      <td>False</td>\n",
       "      <td>False</td>\n",
       "      <td>True</td>\n",
       "      <td>True</td>\n",
       "      <td>False</td>\n",
       "      <td>True</td>\n",
       "      <td>...</td>\n",
       "      <td>False</td>\n",
       "      <td>False</td>\n",
       "      <td>False</td>\n",
       "      <td>False</td>\n",
       "      <td>False</td>\n",
       "      <td>False</td>\n",
       "      <td>False</td>\n",
       "      <td>False</td>\n",
       "      <td>False</td>\n",
       "      <td>False</td>\n",
       "    </tr>\n",
       "    <tr>\n",
       "      <th>Alex Woolsly</th>\n",
       "      <td>False</td>\n",
       "      <td>False</td>\n",
       "      <td>False</td>\n",
       "      <td>False</td>\n",
       "      <td>False</td>\n",
       "      <td>False</td>\n",
       "      <td>False</td>\n",
       "      <td>False</td>\n",
       "      <td>False</td>\n",
       "      <td>False</td>\n",
       "      <td>...</td>\n",
       "      <td>False</td>\n",
       "      <td>False</td>\n",
       "      <td>False</td>\n",
       "      <td>False</td>\n",
       "      <td>False</td>\n",
       "      <td>False</td>\n",
       "      <td>False</td>\n",
       "      <td>False</td>\n",
       "      <td>False</td>\n",
       "      <td>False</td>\n",
       "    </tr>\n",
       "    <tr>\n",
       "      <th>Alien</th>\n",
       "      <td>True</td>\n",
       "      <td>False</td>\n",
       "      <td>False</td>\n",
       "      <td>False</td>\n",
       "      <td>True</td>\n",
       "      <td>True</td>\n",
       "      <td>True</td>\n",
       "      <td>False</td>\n",
       "      <td>False</td>\n",
       "      <td>False</td>\n",
       "      <td>...</td>\n",
       "      <td>False</td>\n",
       "      <td>False</td>\n",
       "      <td>False</td>\n",
       "      <td>False</td>\n",
       "      <td>False</td>\n",
       "      <td>False</td>\n",
       "      <td>False</td>\n",
       "      <td>False</td>\n",
       "      <td>False</td>\n",
       "      <td>False</td>\n",
       "    </tr>\n",
       "    <tr>\n",
       "      <th>Allan Quatermain</th>\n",
       "      <td>False</td>\n",
       "      <td>False</td>\n",
       "      <td>False</td>\n",
       "      <td>False</td>\n",
       "      <td>False</td>\n",
       "      <td>False</td>\n",
       "      <td>False</td>\n",
       "      <td>False</td>\n",
       "      <td>False</td>\n",
       "      <td>False</td>\n",
       "      <td>...</td>\n",
       "      <td>False</td>\n",
       "      <td>False</td>\n",
       "      <td>False</td>\n",
       "      <td>False</td>\n",
       "      <td>False</td>\n",
       "      <td>False</td>\n",
       "      <td>False</td>\n",
       "      <td>False</td>\n",
       "      <td>False</td>\n",
       "      <td>False</td>\n",
       "    </tr>\n",
       "    <tr>\n",
       "      <th>Amazo</th>\n",
       "      <td>True</td>\n",
       "      <td>False</td>\n",
       "      <td>True</td>\n",
       "      <td>False</td>\n",
       "      <td>False</td>\n",
       "      <td>True</td>\n",
       "      <td>False</td>\n",
       "      <td>False</td>\n",
       "      <td>True</td>\n",
       "      <td>False</td>\n",
       "      <td>...</td>\n",
       "      <td>False</td>\n",
       "      <td>False</td>\n",
       "      <td>False</td>\n",
       "      <td>False</td>\n",
       "      <td>False</td>\n",
       "      <td>False</td>\n",
       "      <td>False</td>\n",
       "      <td>False</td>\n",
       "      <td>False</td>\n",
       "      <td>False</td>\n",
       "    </tr>\n",
       "    <tr>\n",
       "      <th>Ammo</th>\n",
       "      <td>False</td>\n",
       "      <td>False</td>\n",
       "      <td>False</td>\n",
       "      <td>False</td>\n",
       "      <td>False</td>\n",
       "      <td>False</td>\n",
       "      <td>False</td>\n",
       "      <td>False</td>\n",
       "      <td>False</td>\n",
       "      <td>False</td>\n",
       "      <td>...</td>\n",
       "      <td>False</td>\n",
       "      <td>False</td>\n",
       "      <td>False</td>\n",
       "      <td>False</td>\n",
       "      <td>False</td>\n",
       "      <td>False</td>\n",
       "      <td>False</td>\n",
       "      <td>False</td>\n",
       "      <td>False</td>\n",
       "      <td>False</td>\n",
       "    </tr>\n",
       "    <tr>\n",
       "      <th>Ando Masahashi</th>\n",
       "      <td>False</td>\n",
       "      <td>False</td>\n",
       "      <td>False</td>\n",
       "      <td>False</td>\n",
       "      <td>False</td>\n",
       "      <td>False</td>\n",
       "      <td>False</td>\n",
       "      <td>False</td>\n",
       "      <td>False</td>\n",
       "      <td>False</td>\n",
       "      <td>...</td>\n",
       "      <td>False</td>\n",
       "      <td>False</td>\n",
       "      <td>False</td>\n",
       "      <td>False</td>\n",
       "      <td>False</td>\n",
       "      <td>False</td>\n",
       "      <td>False</td>\n",
       "      <td>False</td>\n",
       "      <td>False</td>\n",
       "      <td>False</td>\n",
       "    </tr>\n",
       "    <tr>\n",
       "      <th>Angel</th>\n",
       "      <td>True</td>\n",
       "      <td>True</td>\n",
       "      <td>False</td>\n",
       "      <td>False</td>\n",
       "      <td>False</td>\n",
       "      <td>True</td>\n",
       "      <td>True</td>\n",
       "      <td>False</td>\n",
       "      <td>True</td>\n",
       "      <td>False</td>\n",
       "      <td>...</td>\n",
       "      <td>False</td>\n",
       "      <td>False</td>\n",
       "      <td>False</td>\n",
       "      <td>False</td>\n",
       "      <td>False</td>\n",
       "      <td>False</td>\n",
       "      <td>False</td>\n",
       "      <td>False</td>\n",
       "      <td>False</td>\n",
       "      <td>False</td>\n",
       "    </tr>\n",
       "    <tr>\n",
       "      <th>Angel Dust</th>\n",
       "      <td>True</td>\n",
       "      <td>False</td>\n",
       "      <td>False</td>\n",
       "      <td>False</td>\n",
       "      <td>False</td>\n",
       "      <td>False</td>\n",
       "      <td>False</td>\n",
       "      <td>False</td>\n",
       "      <td>False</td>\n",
       "      <td>False</td>\n",
       "      <td>...</td>\n",
       "      <td>False</td>\n",
       "      <td>False</td>\n",
       "      <td>False</td>\n",
       "      <td>False</td>\n",
       "      <td>False</td>\n",
       "      <td>False</td>\n",
       "      <td>False</td>\n",
       "      <td>False</td>\n",
       "      <td>False</td>\n",
       "      <td>False</td>\n",
       "    </tr>\n",
       "    <tr>\n",
       "      <th>Angel Salvadore</th>\n",
       "      <td>False</td>\n",
       "      <td>False</td>\n",
       "      <td>False</td>\n",
       "      <td>False</td>\n",
       "      <td>False</td>\n",
       "      <td>False</td>\n",
       "      <td>False</td>\n",
       "      <td>False</td>\n",
       "      <td>True</td>\n",
       "      <td>False</td>\n",
       "      <td>...</td>\n",
       "      <td>False</td>\n",
       "      <td>False</td>\n",
       "      <td>False</td>\n",
       "      <td>False</td>\n",
       "      <td>False</td>\n",
       "      <td>False</td>\n",
       "      <td>False</td>\n",
       "      <td>False</td>\n",
       "      <td>False</td>\n",
       "      <td>False</td>\n",
       "    </tr>\n",
       "    <tr>\n",
       "      <th>Angela</th>\n",
       "      <td>False</td>\n",
       "      <td>False</td>\n",
       "      <td>False</td>\n",
       "      <td>False</td>\n",
       "      <td>False</td>\n",
       "      <td>False</td>\n",
       "      <td>False</td>\n",
       "      <td>False</td>\n",
       "      <td>False</td>\n",
       "      <td>False</td>\n",
       "      <td>...</td>\n",
       "      <td>False</td>\n",
       "      <td>False</td>\n",
       "      <td>False</td>\n",
       "      <td>False</td>\n",
       "      <td>False</td>\n",
       "      <td>False</td>\n",
       "      <td>False</td>\n",
       "      <td>False</td>\n",
       "      <td>False</td>\n",
       "      <td>False</td>\n",
       "    </tr>\n",
       "    <tr>\n",
       "      <th>Animal Man</th>\n",
       "      <td>False</td>\n",
       "      <td>False</td>\n",
       "      <td>False</td>\n",
       "      <td>False</td>\n",
       "      <td>False</td>\n",
       "      <td>False</td>\n",
       "      <td>False</td>\n",
       "      <td>False</td>\n",
       "      <td>False</td>\n",
       "      <td>False</td>\n",
       "      <td>...</td>\n",
       "      <td>False</td>\n",
       "      <td>False</td>\n",
       "      <td>False</td>\n",
       "      <td>False</td>\n",
       "      <td>False</td>\n",
       "      <td>False</td>\n",
       "      <td>False</td>\n",
       "      <td>False</td>\n",
       "      <td>False</td>\n",
       "      <td>False</td>\n",
       "    </tr>\n",
       "    <tr>\n",
       "      <th>Annihilus</th>\n",
       "      <td>True</td>\n",
       "      <td>False</td>\n",
       "      <td>False</td>\n",
       "      <td>False</td>\n",
       "      <td>False</td>\n",
       "      <td>True</td>\n",
       "      <td>False</td>\n",
       "      <td>False</td>\n",
       "      <td>True</td>\n",
       "      <td>False</td>\n",
       "      <td>...</td>\n",
       "      <td>False</td>\n",
       "      <td>False</td>\n",
       "      <td>False</td>\n",
       "      <td>False</td>\n",
       "      <td>False</td>\n",
       "      <td>False</td>\n",
       "      <td>False</td>\n",
       "      <td>False</td>\n",
       "      <td>False</td>\n",
       "      <td>False</td>\n",
       "    </tr>\n",
       "    <tr>\n",
       "      <th>Ant-Man</th>\n",
       "      <td>False</td>\n",
       "      <td>False</td>\n",
       "      <td>False</td>\n",
       "      <td>False</td>\n",
       "      <td>False</td>\n",
       "      <td>False</td>\n",
       "      <td>False</td>\n",
       "      <td>False</td>\n",
       "      <td>False</td>\n",
       "      <td>False</td>\n",
       "      <td>...</td>\n",
       "      <td>False</td>\n",
       "      <td>False</td>\n",
       "      <td>False</td>\n",
       "      <td>False</td>\n",
       "      <td>False</td>\n",
       "      <td>False</td>\n",
       "      <td>False</td>\n",
       "      <td>False</td>\n",
       "      <td>False</td>\n",
       "      <td>False</td>\n",
       "    </tr>\n",
       "    <tr>\n",
       "      <th>Ant-Man II</th>\n",
       "      <td>True</td>\n",
       "      <td>False</td>\n",
       "      <td>False</td>\n",
       "      <td>False</td>\n",
       "      <td>False</td>\n",
       "      <td>False</td>\n",
       "      <td>True</td>\n",
       "      <td>False</td>\n",
       "      <td>False</td>\n",
       "      <td>False</td>\n",
       "      <td>...</td>\n",
       "      <td>False</td>\n",
       "      <td>False</td>\n",
       "      <td>False</td>\n",
       "      <td>False</td>\n",
       "      <td>False</td>\n",
       "      <td>False</td>\n",
       "      <td>False</td>\n",
       "      <td>False</td>\n",
       "      <td>False</td>\n",
       "      <td>False</td>\n",
       "    </tr>\n",
       "    <tr>\n",
       "      <th>Anti-Monitor</th>\n",
       "      <td>False</td>\n",
       "      <td>True</td>\n",
       "      <td>False</td>\n",
       "      <td>True</td>\n",
       "      <td>False</td>\n",
       "      <td>True</td>\n",
       "      <td>False</td>\n",
       "      <td>True</td>\n",
       "      <td>True</td>\n",
       "      <td>False</td>\n",
       "      <td>...</td>\n",
       "      <td>False</td>\n",
       "      <td>True</td>\n",
       "      <td>False</td>\n",
       "      <td>False</td>\n",
       "      <td>False</td>\n",
       "      <td>False</td>\n",
       "      <td>False</td>\n",
       "      <td>False</td>\n",
       "      <td>False</td>\n",
       "      <td>False</td>\n",
       "    </tr>\n",
       "    <tr>\n",
       "      <th>...</th>\n",
       "      <td>...</td>\n",
       "      <td>...</td>\n",
       "      <td>...</td>\n",
       "      <td>...</td>\n",
       "      <td>...</td>\n",
       "      <td>...</td>\n",
       "      <td>...</td>\n",
       "      <td>...</td>\n",
       "      <td>...</td>\n",
       "      <td>...</td>\n",
       "      <td>...</td>\n",
       "      <td>...</td>\n",
       "      <td>...</td>\n",
       "      <td>...</td>\n",
       "      <td>...</td>\n",
       "      <td>...</td>\n",
       "      <td>...</td>\n",
       "      <td>...</td>\n",
       "      <td>...</td>\n",
       "      <td>...</td>\n",
       "      <td>...</td>\n",
       "    </tr>\n",
       "    <tr>\n",
       "      <th>Vindicator</th>\n",
       "      <td>False</td>\n",
       "      <td>False</td>\n",
       "      <td>False</td>\n",
       "      <td>False</td>\n",
       "      <td>False</td>\n",
       "      <td>True</td>\n",
       "      <td>False</td>\n",
       "      <td>False</td>\n",
       "      <td>True</td>\n",
       "      <td>False</td>\n",
       "      <td>...</td>\n",
       "      <td>False</td>\n",
       "      <td>False</td>\n",
       "      <td>False</td>\n",
       "      <td>False</td>\n",
       "      <td>False</td>\n",
       "      <td>False</td>\n",
       "      <td>False</td>\n",
       "      <td>False</td>\n",
       "      <td>False</td>\n",
       "      <td>False</td>\n",
       "    </tr>\n",
       "    <tr>\n",
       "      <th>Violator</th>\n",
       "      <td>False</td>\n",
       "      <td>False</td>\n",
       "      <td>False</td>\n",
       "      <td>False</td>\n",
       "      <td>False</td>\n",
       "      <td>True</td>\n",
       "      <td>False</td>\n",
       "      <td>False</td>\n",
       "      <td>False</td>\n",
       "      <td>False</td>\n",
       "      <td>...</td>\n",
       "      <td>False</td>\n",
       "      <td>False</td>\n",
       "      <td>False</td>\n",
       "      <td>False</td>\n",
       "      <td>False</td>\n",
       "      <td>False</td>\n",
       "      <td>False</td>\n",
       "      <td>False</td>\n",
       "      <td>False</td>\n",
       "      <td>False</td>\n",
       "    </tr>\n",
       "    <tr>\n",
       "      <th>Violet Parr</th>\n",
       "      <td>False</td>\n",
       "      <td>False</td>\n",
       "      <td>False</td>\n",
       "      <td>False</td>\n",
       "      <td>False</td>\n",
       "      <td>False</td>\n",
       "      <td>True</td>\n",
       "      <td>False</td>\n",
       "      <td>False</td>\n",
       "      <td>False</td>\n",
       "      <td>...</td>\n",
       "      <td>False</td>\n",
       "      <td>False</td>\n",
       "      <td>False</td>\n",
       "      <td>False</td>\n",
       "      <td>False</td>\n",
       "      <td>False</td>\n",
       "      <td>False</td>\n",
       "      <td>False</td>\n",
       "      <td>False</td>\n",
       "      <td>False</td>\n",
       "    </tr>\n",
       "    <tr>\n",
       "      <th>Vision</th>\n",
       "      <td>False</td>\n",
       "      <td>False</td>\n",
       "      <td>False</td>\n",
       "      <td>False</td>\n",
       "      <td>False</td>\n",
       "      <td>True</td>\n",
       "      <td>True</td>\n",
       "      <td>True</td>\n",
       "      <td>True</td>\n",
       "      <td>False</td>\n",
       "      <td>...</td>\n",
       "      <td>False</td>\n",
       "      <td>False</td>\n",
       "      <td>False</td>\n",
       "      <td>False</td>\n",
       "      <td>False</td>\n",
       "      <td>False</td>\n",
       "      <td>False</td>\n",
       "      <td>False</td>\n",
       "      <td>False</td>\n",
       "      <td>False</td>\n",
       "    </tr>\n",
       "    <tr>\n",
       "      <th>Vixen</th>\n",
       "      <td>True</td>\n",
       "      <td>True</td>\n",
       "      <td>False</td>\n",
       "      <td>False</td>\n",
       "      <td>False</td>\n",
       "      <td>False</td>\n",
       "      <td>True</td>\n",
       "      <td>False</td>\n",
       "      <td>True</td>\n",
       "      <td>True</td>\n",
       "      <td>...</td>\n",
       "      <td>False</td>\n",
       "      <td>False</td>\n",
       "      <td>False</td>\n",
       "      <td>False</td>\n",
       "      <td>False</td>\n",
       "      <td>False</td>\n",
       "      <td>False</td>\n",
       "      <td>False</td>\n",
       "      <td>False</td>\n",
       "      <td>False</td>\n",
       "    </tr>\n",
       "    <tr>\n",
       "      <th>Vulture</th>\n",
       "      <td>True</td>\n",
       "      <td>False</td>\n",
       "      <td>False</td>\n",
       "      <td>False</td>\n",
       "      <td>False</td>\n",
       "      <td>False</td>\n",
       "      <td>False</td>\n",
       "      <td>False</td>\n",
       "      <td>True</td>\n",
       "      <td>False</td>\n",
       "      <td>...</td>\n",
       "      <td>False</td>\n",
       "      <td>False</td>\n",
       "      <td>False</td>\n",
       "      <td>False</td>\n",
       "      <td>False</td>\n",
       "      <td>False</td>\n",
       "      <td>False</td>\n",
       "      <td>False</td>\n",
       "      <td>False</td>\n",
       "      <td>False</td>\n",
       "    </tr>\n",
       "    <tr>\n",
       "      <th>Walrus</th>\n",
       "      <td>False</td>\n",
       "      <td>False</td>\n",
       "      <td>False</td>\n",
       "      <td>False</td>\n",
       "      <td>False</td>\n",
       "      <td>True</td>\n",
       "      <td>False</td>\n",
       "      <td>False</td>\n",
       "      <td>False</td>\n",
       "      <td>False</td>\n",
       "      <td>...</td>\n",
       "      <td>False</td>\n",
       "      <td>False</td>\n",
       "      <td>False</td>\n",
       "      <td>False</td>\n",
       "      <td>False</td>\n",
       "      <td>False</td>\n",
       "      <td>False</td>\n",
       "      <td>False</td>\n",
       "      <td>False</td>\n",
       "      <td>False</td>\n",
       "    </tr>\n",
       "    <tr>\n",
       "      <th>War Machine</th>\n",
       "      <td>False</td>\n",
       "      <td>False</td>\n",
       "      <td>False</td>\n",
       "      <td>False</td>\n",
       "      <td>False</td>\n",
       "      <td>True</td>\n",
       "      <td>False</td>\n",
       "      <td>True</td>\n",
       "      <td>True</td>\n",
       "      <td>False</td>\n",
       "      <td>...</td>\n",
       "      <td>False</td>\n",
       "      <td>False</td>\n",
       "      <td>False</td>\n",
       "      <td>False</td>\n",
       "      <td>False</td>\n",
       "      <td>False</td>\n",
       "      <td>False</td>\n",
       "      <td>False</td>\n",
       "      <td>False</td>\n",
       "      <td>False</td>\n",
       "    </tr>\n",
       "    <tr>\n",
       "      <th>Warlock</th>\n",
       "      <td>True</td>\n",
       "      <td>False</td>\n",
       "      <td>False</td>\n",
       "      <td>False</td>\n",
       "      <td>False</td>\n",
       "      <td>True</td>\n",
       "      <td>False</td>\n",
       "      <td>False</td>\n",
       "      <td>True</td>\n",
       "      <td>False</td>\n",
       "      <td>...</td>\n",
       "      <td>False</td>\n",
       "      <td>False</td>\n",
       "      <td>False</td>\n",
       "      <td>False</td>\n",
       "      <td>False</td>\n",
       "      <td>False</td>\n",
       "      <td>False</td>\n",
       "      <td>False</td>\n",
       "      <td>False</td>\n",
       "      <td>False</td>\n",
       "    </tr>\n",
       "    <tr>\n",
       "      <th>Warp</th>\n",
       "      <td>False</td>\n",
       "      <td>False</td>\n",
       "      <td>False</td>\n",
       "      <td>False</td>\n",
       "      <td>False</td>\n",
       "      <td>False</td>\n",
       "      <td>False</td>\n",
       "      <td>False</td>\n",
       "      <td>True</td>\n",
       "      <td>False</td>\n",
       "      <td>...</td>\n",
       "      <td>False</td>\n",
       "      <td>False</td>\n",
       "      <td>False</td>\n",
       "      <td>False</td>\n",
       "      <td>False</td>\n",
       "      <td>False</td>\n",
       "      <td>False</td>\n",
       "      <td>False</td>\n",
       "      <td>False</td>\n",
       "      <td>False</td>\n",
       "    </tr>\n",
       "    <tr>\n",
       "      <th>Warpath</th>\n",
       "      <td>True</td>\n",
       "      <td>False</td>\n",
       "      <td>False</td>\n",
       "      <td>False</td>\n",
       "      <td>True</td>\n",
       "      <td>True</td>\n",
       "      <td>False</td>\n",
       "      <td>False</td>\n",
       "      <td>False</td>\n",
       "      <td>False</td>\n",
       "      <td>...</td>\n",
       "      <td>False</td>\n",
       "      <td>False</td>\n",
       "      <td>False</td>\n",
       "      <td>False</td>\n",
       "      <td>False</td>\n",
       "      <td>False</td>\n",
       "      <td>False</td>\n",
       "      <td>False</td>\n",
       "      <td>False</td>\n",
       "      <td>False</td>\n",
       "    </tr>\n",
       "    <tr>\n",
       "      <th>Wasp</th>\n",
       "      <td>True</td>\n",
       "      <td>False</td>\n",
       "      <td>False</td>\n",
       "      <td>False</td>\n",
       "      <td>False</td>\n",
       "      <td>False</td>\n",
       "      <td>True</td>\n",
       "      <td>False</td>\n",
       "      <td>True</td>\n",
       "      <td>False</td>\n",
       "      <td>...</td>\n",
       "      <td>False</td>\n",
       "      <td>False</td>\n",
       "      <td>False</td>\n",
       "      <td>False</td>\n",
       "      <td>False</td>\n",
       "      <td>False</td>\n",
       "      <td>False</td>\n",
       "      <td>False</td>\n",
       "      <td>False</td>\n",
       "      <td>False</td>\n",
       "    </tr>\n",
       "    <tr>\n",
       "      <th>Watcher</th>\n",
       "      <td>False</td>\n",
       "      <td>False</td>\n",
       "      <td>False</td>\n",
       "      <td>True</td>\n",
       "      <td>False</td>\n",
       "      <td>False</td>\n",
       "      <td>False</td>\n",
       "      <td>False</td>\n",
       "      <td>True</td>\n",
       "      <td>False</td>\n",
       "      <td>...</td>\n",
       "      <td>False</td>\n",
       "      <td>False</td>\n",
       "      <td>False</td>\n",
       "      <td>False</td>\n",
       "      <td>False</td>\n",
       "      <td>False</td>\n",
       "      <td>False</td>\n",
       "      <td>False</td>\n",
       "      <td>False</td>\n",
       "      <td>False</td>\n",
       "    </tr>\n",
       "    <tr>\n",
       "      <th>Weapon XI</th>\n",
       "      <td>True</td>\n",
       "      <td>True</td>\n",
       "      <td>False</td>\n",
       "      <td>False</td>\n",
       "      <td>False</td>\n",
       "      <td>False</td>\n",
       "      <td>False</td>\n",
       "      <td>False</td>\n",
       "      <td>False</td>\n",
       "      <td>False</td>\n",
       "      <td>...</td>\n",
       "      <td>False</td>\n",
       "      <td>False</td>\n",
       "      <td>False</td>\n",
       "      <td>False</td>\n",
       "      <td>False</td>\n",
       "      <td>False</td>\n",
       "      <td>False</td>\n",
       "      <td>False</td>\n",
       "      <td>False</td>\n",
       "      <td>False</td>\n",
       "    </tr>\n",
       "    <tr>\n",
       "      <th>White Canary</th>\n",
       "      <td>True</td>\n",
       "      <td>False</td>\n",
       "      <td>False</td>\n",
       "      <td>False</td>\n",
       "      <td>False</td>\n",
       "      <td>False</td>\n",
       "      <td>True</td>\n",
       "      <td>False</td>\n",
       "      <td>False</td>\n",
       "      <td>False</td>\n",
       "      <td>...</td>\n",
       "      <td>False</td>\n",
       "      <td>False</td>\n",
       "      <td>False</td>\n",
       "      <td>False</td>\n",
       "      <td>False</td>\n",
       "      <td>False</td>\n",
       "      <td>False</td>\n",
       "      <td>False</td>\n",
       "      <td>False</td>\n",
       "      <td>False</td>\n",
       "    </tr>\n",
       "    <tr>\n",
       "      <th>Wildfire</th>\n",
       "      <td>False</td>\n",
       "      <td>False</td>\n",
       "      <td>False</td>\n",
       "      <td>False</td>\n",
       "      <td>False</td>\n",
       "      <td>False</td>\n",
       "      <td>False</td>\n",
       "      <td>True</td>\n",
       "      <td>True</td>\n",
       "      <td>False</td>\n",
       "      <td>...</td>\n",
       "      <td>False</td>\n",
       "      <td>False</td>\n",
       "      <td>False</td>\n",
       "      <td>False</td>\n",
       "      <td>False</td>\n",
       "      <td>False</td>\n",
       "      <td>False</td>\n",
       "      <td>False</td>\n",
       "      <td>False</td>\n",
       "      <td>False</td>\n",
       "    </tr>\n",
       "    <tr>\n",
       "      <th>Winter Soldier</th>\n",
       "      <td>False</td>\n",
       "      <td>False</td>\n",
       "      <td>False</td>\n",
       "      <td>False</td>\n",
       "      <td>False</td>\n",
       "      <td>False</td>\n",
       "      <td>False</td>\n",
       "      <td>False</td>\n",
       "      <td>False</td>\n",
       "      <td>False</td>\n",
       "      <td>...</td>\n",
       "      <td>False</td>\n",
       "      <td>False</td>\n",
       "      <td>False</td>\n",
       "      <td>False</td>\n",
       "      <td>False</td>\n",
       "      <td>False</td>\n",
       "      <td>False</td>\n",
       "      <td>False</td>\n",
       "      <td>False</td>\n",
       "      <td>False</td>\n",
       "    </tr>\n",
       "    <tr>\n",
       "      <th>Wolfsbane</th>\n",
       "      <td>False</td>\n",
       "      <td>False</td>\n",
       "      <td>False</td>\n",
       "      <td>False</td>\n",
       "      <td>False</td>\n",
       "      <td>False</td>\n",
       "      <td>False</td>\n",
       "      <td>False</td>\n",
       "      <td>False</td>\n",
       "      <td>False</td>\n",
       "      <td>...</td>\n",
       "      <td>False</td>\n",
       "      <td>False</td>\n",
       "      <td>False</td>\n",
       "      <td>False</td>\n",
       "      <td>False</td>\n",
       "      <td>False</td>\n",
       "      <td>False</td>\n",
       "      <td>False</td>\n",
       "      <td>False</td>\n",
       "      <td>False</td>\n",
       "    </tr>\n",
       "    <tr>\n",
       "      <th>Wolverine</th>\n",
       "      <td>True</td>\n",
       "      <td>True</td>\n",
       "      <td>False</td>\n",
       "      <td>False</td>\n",
       "      <td>True</td>\n",
       "      <td>True</td>\n",
       "      <td>True</td>\n",
       "      <td>False</td>\n",
       "      <td>False</td>\n",
       "      <td>False</td>\n",
       "      <td>...</td>\n",
       "      <td>False</td>\n",
       "      <td>False</td>\n",
       "      <td>False</td>\n",
       "      <td>False</td>\n",
       "      <td>False</td>\n",
       "      <td>False</td>\n",
       "      <td>False</td>\n",
       "      <td>False</td>\n",
       "      <td>False</td>\n",
       "      <td>False</td>\n",
       "    </tr>\n",
       "    <tr>\n",
       "      <th>Wonder Girl</th>\n",
       "      <td>True</td>\n",
       "      <td>False</td>\n",
       "      <td>False</td>\n",
       "      <td>False</td>\n",
       "      <td>False</td>\n",
       "      <td>True</td>\n",
       "      <td>False</td>\n",
       "      <td>False</td>\n",
       "      <td>True</td>\n",
       "      <td>False</td>\n",
       "      <td>...</td>\n",
       "      <td>False</td>\n",
       "      <td>False</td>\n",
       "      <td>False</td>\n",
       "      <td>False</td>\n",
       "      <td>False</td>\n",
       "      <td>False</td>\n",
       "      <td>False</td>\n",
       "      <td>False</td>\n",
       "      <td>False</td>\n",
       "      <td>False</td>\n",
       "    </tr>\n",
       "    <tr>\n",
       "      <th>Wonder Man</th>\n",
       "      <td>False</td>\n",
       "      <td>False</td>\n",
       "      <td>False</td>\n",
       "      <td>False</td>\n",
       "      <td>False</td>\n",
       "      <td>True</td>\n",
       "      <td>False</td>\n",
       "      <td>False</td>\n",
       "      <td>True</td>\n",
       "      <td>False</td>\n",
       "      <td>...</td>\n",
       "      <td>False</td>\n",
       "      <td>False</td>\n",
       "      <td>False</td>\n",
       "      <td>False</td>\n",
       "      <td>False</td>\n",
       "      <td>False</td>\n",
       "      <td>False</td>\n",
       "      <td>False</td>\n",
       "      <td>False</td>\n",
       "      <td>False</td>\n",
       "    </tr>\n",
       "    <tr>\n",
       "      <th>Wonder Woman</th>\n",
       "      <td>False</td>\n",
       "      <td>True</td>\n",
       "      <td>False</td>\n",
       "      <td>False</td>\n",
       "      <td>False</td>\n",
       "      <td>True</td>\n",
       "      <td>False</td>\n",
       "      <td>False</td>\n",
       "      <td>True</td>\n",
       "      <td>False</td>\n",
       "      <td>...</td>\n",
       "      <td>False</td>\n",
       "      <td>False</td>\n",
       "      <td>False</td>\n",
       "      <td>False</td>\n",
       "      <td>False</td>\n",
       "      <td>False</td>\n",
       "      <td>False</td>\n",
       "      <td>False</td>\n",
       "      <td>False</td>\n",
       "      <td>False</td>\n",
       "    </tr>\n",
       "    <tr>\n",
       "      <th>X-23</th>\n",
       "      <td>True</td>\n",
       "      <td>True</td>\n",
       "      <td>False</td>\n",
       "      <td>False</td>\n",
       "      <td>False</td>\n",
       "      <td>True</td>\n",
       "      <td>True</td>\n",
       "      <td>False</td>\n",
       "      <td>False</td>\n",
       "      <td>False</td>\n",
       "      <td>...</td>\n",
       "      <td>False</td>\n",
       "      <td>False</td>\n",
       "      <td>False</td>\n",
       "      <td>False</td>\n",
       "      <td>False</td>\n",
       "      <td>False</td>\n",
       "      <td>False</td>\n",
       "      <td>False</td>\n",
       "      <td>False</td>\n",
       "      <td>False</td>\n",
       "    </tr>\n",
       "    <tr>\n",
       "      <th>X-Man</th>\n",
       "      <td>False</td>\n",
       "      <td>False</td>\n",
       "      <td>False</td>\n",
       "      <td>False</td>\n",
       "      <td>False</td>\n",
       "      <td>False</td>\n",
       "      <td>False</td>\n",
       "      <td>False</td>\n",
       "      <td>True</td>\n",
       "      <td>False</td>\n",
       "      <td>...</td>\n",
       "      <td>False</td>\n",
       "      <td>False</td>\n",
       "      <td>False</td>\n",
       "      <td>False</td>\n",
       "      <td>False</td>\n",
       "      <td>False</td>\n",
       "      <td>False</td>\n",
       "      <td>False</td>\n",
       "      <td>False</td>\n",
       "      <td>False</td>\n",
       "    </tr>\n",
       "    <tr>\n",
       "      <th>Yellowjacket</th>\n",
       "      <td>False</td>\n",
       "      <td>False</td>\n",
       "      <td>False</td>\n",
       "      <td>False</td>\n",
       "      <td>False</td>\n",
       "      <td>False</td>\n",
       "      <td>False</td>\n",
       "      <td>False</td>\n",
       "      <td>False</td>\n",
       "      <td>False</td>\n",
       "      <td>...</td>\n",
       "      <td>False</td>\n",
       "      <td>False</td>\n",
       "      <td>False</td>\n",
       "      <td>False</td>\n",
       "      <td>False</td>\n",
       "      <td>False</td>\n",
       "      <td>False</td>\n",
       "      <td>False</td>\n",
       "      <td>False</td>\n",
       "      <td>False</td>\n",
       "    </tr>\n",
       "    <tr>\n",
       "      <th>Yellowjacket II</th>\n",
       "      <td>False</td>\n",
       "      <td>False</td>\n",
       "      <td>False</td>\n",
       "      <td>False</td>\n",
       "      <td>False</td>\n",
       "      <td>False</td>\n",
       "      <td>False</td>\n",
       "      <td>False</td>\n",
       "      <td>True</td>\n",
       "      <td>False</td>\n",
       "      <td>...</td>\n",
       "      <td>False</td>\n",
       "      <td>False</td>\n",
       "      <td>False</td>\n",
       "      <td>False</td>\n",
       "      <td>False</td>\n",
       "      <td>False</td>\n",
       "      <td>False</td>\n",
       "      <td>False</td>\n",
       "      <td>False</td>\n",
       "      <td>False</td>\n",
       "    </tr>\n",
       "    <tr>\n",
       "      <th>Ymir</th>\n",
       "      <td>False</td>\n",
       "      <td>False</td>\n",
       "      <td>False</td>\n",
       "      <td>False</td>\n",
       "      <td>True</td>\n",
       "      <td>True</td>\n",
       "      <td>False</td>\n",
       "      <td>False</td>\n",
       "      <td>False</td>\n",
       "      <td>False</td>\n",
       "      <td>...</td>\n",
       "      <td>False</td>\n",
       "      <td>False</td>\n",
       "      <td>False</td>\n",
       "      <td>False</td>\n",
       "      <td>False</td>\n",
       "      <td>False</td>\n",
       "      <td>False</td>\n",
       "      <td>False</td>\n",
       "      <td>False</td>\n",
       "      <td>False</td>\n",
       "    </tr>\n",
       "    <tr>\n",
       "      <th>Yoda</th>\n",
       "      <td>True</td>\n",
       "      <td>False</td>\n",
       "      <td>False</td>\n",
       "      <td>False</td>\n",
       "      <td>False</td>\n",
       "      <td>False</td>\n",
       "      <td>True</td>\n",
       "      <td>False</td>\n",
       "      <td>False</td>\n",
       "      <td>True</td>\n",
       "      <td>...</td>\n",
       "      <td>False</td>\n",
       "      <td>False</td>\n",
       "      <td>False</td>\n",
       "      <td>False</td>\n",
       "      <td>False</td>\n",
       "      <td>False</td>\n",
       "      <td>False</td>\n",
       "      <td>False</td>\n",
       "      <td>False</td>\n",
       "      <td>False</td>\n",
       "    </tr>\n",
       "    <tr>\n",
       "      <th>Zatanna</th>\n",
       "      <td>False</td>\n",
       "      <td>False</td>\n",
       "      <td>False</td>\n",
       "      <td>False</td>\n",
       "      <td>False</td>\n",
       "      <td>False</td>\n",
       "      <td>False</td>\n",
       "      <td>False</td>\n",
       "      <td>False</td>\n",
       "      <td>False</td>\n",
       "      <td>...</td>\n",
       "      <td>False</td>\n",
       "      <td>False</td>\n",
       "      <td>False</td>\n",
       "      <td>False</td>\n",
       "      <td>False</td>\n",
       "      <td>False</td>\n",
       "      <td>False</td>\n",
       "      <td>False</td>\n",
       "      <td>False</td>\n",
       "      <td>False</td>\n",
       "    </tr>\n",
       "    <tr>\n",
       "      <th>Zoom</th>\n",
       "      <td>False</td>\n",
       "      <td>False</td>\n",
       "      <td>False</td>\n",
       "      <td>False</td>\n",
       "      <td>False</td>\n",
       "      <td>False</td>\n",
       "      <td>False</td>\n",
       "      <td>False</td>\n",
       "      <td>False</td>\n",
       "      <td>False</td>\n",
       "      <td>...</td>\n",
       "      <td>False</td>\n",
       "      <td>False</td>\n",
       "      <td>False</td>\n",
       "      <td>False</td>\n",
       "      <td>False</td>\n",
       "      <td>False</td>\n",
       "      <td>False</td>\n",
       "      <td>False</td>\n",
       "      <td>False</td>\n",
       "      <td>False</td>\n",
       "    </tr>\n",
       "  </tbody>\n",
       "</table>\n",
       "<p>667 rows × 167 columns</p>\n",
       "</div>"
      ],
      "text/plain": [
       "                  Agility  Accelerated Healing  Lantern Power Ring  \\\n",
       "hero_names                                                           \n",
       "3-D Man              True                False               False   \n",
       "A-Bomb              False                 True               False   \n",
       "Abe Sapien           True                 True               False   \n",
       "Abin Sur            False                False                True   \n",
       "Abomination         False                 True               False   \n",
       "Abraxas             False                False               False   \n",
       "Absorbing Man       False                False               False   \n",
       "Adam Monroe         False                 True               False   \n",
       "Adam Strange        False                False               False   \n",
       "Agent Bob           False                False               False   \n",
       "Agent Zero          False                False               False   \n",
       "Air-Walker          False                False               False   \n",
       "Ajax                 True                False               False   \n",
       "Alan Scott          False                False               False   \n",
       "Alex Mercer          True                 True               False   \n",
       "Alex Woolsly        False                False               False   \n",
       "Alien                True                False               False   \n",
       "Allan Quatermain    False                False               False   \n",
       "Amazo                True                False                True   \n",
       "Ammo                False                False               False   \n",
       "Ando Masahashi      False                False               False   \n",
       "Angel                True                 True               False   \n",
       "Angel Dust           True                False               False   \n",
       "Angel Salvadore     False                False               False   \n",
       "Angela              False                False               False   \n",
       "Animal Man          False                False               False   \n",
       "Annihilus            True                False               False   \n",
       "Ant-Man             False                False               False   \n",
       "Ant-Man II           True                False               False   \n",
       "Anti-Monitor        False                 True               False   \n",
       "...                   ...                  ...                 ...   \n",
       "Vindicator          False                False               False   \n",
       "Violator            False                False               False   \n",
       "Violet Parr         False                False               False   \n",
       "Vision              False                False               False   \n",
       "Vixen                True                 True               False   \n",
       "Vulture              True                False               False   \n",
       "Walrus              False                False               False   \n",
       "War Machine         False                False               False   \n",
       "Warlock              True                False               False   \n",
       "Warp                False                False               False   \n",
       "Warpath              True                False               False   \n",
       "Wasp                 True                False               False   \n",
       "Watcher             False                False               False   \n",
       "Weapon XI            True                 True               False   \n",
       "White Canary         True                False               False   \n",
       "Wildfire            False                False               False   \n",
       "Winter Soldier      False                False               False   \n",
       "Wolfsbane           False                False               False   \n",
       "Wolverine            True                 True               False   \n",
       "Wonder Girl          True                False               False   \n",
       "Wonder Man          False                False               False   \n",
       "Wonder Woman        False                 True               False   \n",
       "X-23                 True                 True               False   \n",
       "X-Man               False                False               False   \n",
       "Yellowjacket        False                False               False   \n",
       "Yellowjacket II     False                False               False   \n",
       "Ymir                False                False               False   \n",
       "Yoda                 True                False               False   \n",
       "Zatanna             False                False               False   \n",
       "Zoom                False                False               False   \n",
       "\n",
       "                  Dimensional Awareness  Cold Resistance  Durability  Stealth  \\\n",
       "hero_names                                                                      \n",
       "3-D Man                           False            False       False    False   \n",
       "A-Bomb                            False            False        True    False   \n",
       "Abe Sapien                        False             True        True    False   \n",
       "Abin Sur                          False            False       False    False   \n",
       "Abomination                       False            False       False    False   \n",
       "Abraxas                            True            False       False    False   \n",
       "Absorbing Man                     False             True        True    False   \n",
       "Adam Monroe                       False            False       False    False   \n",
       "Adam Strange                      False            False        True     True   \n",
       "Agent Bob                         False            False       False     True   \n",
       "Agent Zero                        False            False       False    False   \n",
       "Air-Walker                        False            False       False    False   \n",
       "Ajax                              False            False       False    False   \n",
       "Alan Scott                        False            False       False    False   \n",
       "Alex Mercer                       False            False       False     True   \n",
       "Alex Woolsly                      False            False       False    False   \n",
       "Alien                             False             True        True     True   \n",
       "Allan Quatermain                  False            False       False    False   \n",
       "Amazo                             False            False        True    False   \n",
       "Ammo                              False            False       False    False   \n",
       "Ando Masahashi                    False            False       False    False   \n",
       "Angel                             False            False        True     True   \n",
       "Angel Dust                        False            False       False    False   \n",
       "Angel Salvadore                   False            False       False    False   \n",
       "Angela                            False            False       False    False   \n",
       "Animal Man                        False            False       False    False   \n",
       "Annihilus                         False            False        True    False   \n",
       "Ant-Man                           False            False       False    False   \n",
       "Ant-Man II                        False            False       False     True   \n",
       "Anti-Monitor                       True            False        True    False   \n",
       "...                                 ...              ...         ...      ...   \n",
       "Vindicator                        False            False        True    False   \n",
       "Violator                          False            False        True    False   \n",
       "Violet Parr                       False            False       False     True   \n",
       "Vision                            False            False        True     True   \n",
       "Vixen                             False            False       False     True   \n",
       "Vulture                           False            False       False    False   \n",
       "Walrus                            False            False        True    False   \n",
       "War Machine                       False            False        True    False   \n",
       "Warlock                           False            False        True    False   \n",
       "Warp                              False            False       False    False   \n",
       "Warpath                           False             True        True    False   \n",
       "Wasp                              False            False       False     True   \n",
       "Watcher                            True            False       False    False   \n",
       "Weapon XI                         False            False       False    False   \n",
       "White Canary                      False            False       False     True   \n",
       "Wildfire                          False            False       False    False   \n",
       "Winter Soldier                    False            False       False    False   \n",
       "Wolfsbane                         False            False       False    False   \n",
       "Wolverine                         False             True        True     True   \n",
       "Wonder Girl                       False            False        True    False   \n",
       "Wonder Man                        False            False        True    False   \n",
       "Wonder Woman                      False            False        True    False   \n",
       "X-23                              False            False        True     True   \n",
       "X-Man                             False            False       False    False   \n",
       "Yellowjacket                      False            False       False    False   \n",
       "Yellowjacket II                   False            False       False    False   \n",
       "Ymir                              False             True        True    False   \n",
       "Yoda                              False            False       False     True   \n",
       "Zatanna                           False            False       False    False   \n",
       "Zoom                              False            False       False    False   \n",
       "\n",
       "                  Energy Absorption  Flight  Danger Sense     ...      \\\n",
       "hero_names                                                    ...       \n",
       "3-D Man                       False   False         False     ...       \n",
       "A-Bomb                        False   False         False     ...       \n",
       "Abe Sapien                    False   False         False     ...       \n",
       "Abin Sur                      False   False         False     ...       \n",
       "Abomination                   False   False         False     ...       \n",
       "Abraxas                       False    True         False     ...       \n",
       "Absorbing Man                  True   False         False     ...       \n",
       "Adam Monroe                   False   False         False     ...       \n",
       "Adam Strange                  False    True         False     ...       \n",
       "Agent Bob                     False   False         False     ...       \n",
       "Agent Zero                     True   False         False     ...       \n",
       "Air-Walker                    False    True         False     ...       \n",
       "Ajax                          False   False         False     ...       \n",
       "Alan Scott                    False    True          True     ...       \n",
       "Alex Mercer                    True   False          True     ...       \n",
       "Alex Woolsly                  False   False         False     ...       \n",
       "Alien                         False   False         False     ...       \n",
       "Allan Quatermain              False   False         False     ...       \n",
       "Amazo                         False    True         False     ...       \n",
       "Ammo                          False   False         False     ...       \n",
       "Ando Masahashi                False   False         False     ...       \n",
       "Angel                         False    True         False     ...       \n",
       "Angel Dust                    False   False         False     ...       \n",
       "Angel Salvadore               False    True         False     ...       \n",
       "Angela                        False   False         False     ...       \n",
       "Animal Man                    False   False         False     ...       \n",
       "Annihilus                     False    True         False     ...       \n",
       "Ant-Man                       False   False         False     ...       \n",
       "Ant-Man II                    False   False         False     ...       \n",
       "Anti-Monitor                   True    True         False     ...       \n",
       "...                             ...     ...           ...     ...       \n",
       "Vindicator                    False    True         False     ...       \n",
       "Violator                      False   False         False     ...       \n",
       "Violet Parr                   False   False         False     ...       \n",
       "Vision                         True    True         False     ...       \n",
       "Vixen                         False    True          True     ...       \n",
       "Vulture                       False    True         False     ...       \n",
       "Walrus                        False   False         False     ...       \n",
       "War Machine                    True    True         False     ...       \n",
       "Warlock                       False    True         False     ...       \n",
       "Warp                          False    True         False     ...       \n",
       "Warpath                       False   False         False     ...       \n",
       "Wasp                          False    True         False     ...       \n",
       "Watcher                       False    True         False     ...       \n",
       "Weapon XI                     False   False         False     ...       \n",
       "White Canary                  False   False         False     ...       \n",
       "Wildfire                       True    True         False     ...       \n",
       "Winter Soldier                False   False         False     ...       \n",
       "Wolfsbane                     False   False         False     ...       \n",
       "Wolverine                     False   False         False     ...       \n",
       "Wonder Girl                   False    True         False     ...       \n",
       "Wonder Man                    False    True         False     ...       \n",
       "Wonder Woman                  False    True         False     ...       \n",
       "X-23                          False   False         False     ...       \n",
       "X-Man                         False    True         False     ...       \n",
       "Yellowjacket                  False   False         False     ...       \n",
       "Yellowjacket II               False    True         False     ...       \n",
       "Ymir                          False   False         False     ...       \n",
       "Yoda                          False   False          True     ...       \n",
       "Zatanna                       False   False         False     ...       \n",
       "Zoom                          False   False         False     ...       \n",
       "\n",
       "                  Web Creation  Reality Warping  Odin Force  Symbiote Costume  \\\n",
       "hero_names                                                                      \n",
       "3-D Man                  False            False       False             False   \n",
       "A-Bomb                   False            False       False             False   \n",
       "Abe Sapien               False            False       False             False   \n",
       "Abin Sur                 False            False       False             False   \n",
       "Abomination              False            False       False             False   \n",
       "Abraxas                  False            False       False             False   \n",
       "Absorbing Man            False            False       False             False   \n",
       "Adam Monroe              False            False       False             False   \n",
       "Adam Strange             False            False       False             False   \n",
       "Agent Bob                False            False       False             False   \n",
       "Agent Zero               False            False       False             False   \n",
       "Air-Walker               False            False       False             False   \n",
       "Ajax                     False            False       False             False   \n",
       "Alan Scott               False            False       False             False   \n",
       "Alex Mercer              False            False       False             False   \n",
       "Alex Woolsly             False            False       False             False   \n",
       "Alien                    False            False       False             False   \n",
       "Allan Quatermain         False            False       False             False   \n",
       "Amazo                    False            False       False             False   \n",
       "Ammo                     False            False       False             False   \n",
       "Ando Masahashi           False            False       False             False   \n",
       "Angel                    False            False       False             False   \n",
       "Angel Dust               False            False       False             False   \n",
       "Angel Salvadore          False            False       False             False   \n",
       "Angela                   False            False       False             False   \n",
       "Animal Man               False            False       False             False   \n",
       "Annihilus                False            False       False             False   \n",
       "Ant-Man                  False            False       False             False   \n",
       "Ant-Man II               False            False       False             False   \n",
       "Anti-Monitor             False             True       False             False   \n",
       "...                        ...              ...         ...               ...   \n",
       "Vindicator               False            False       False             False   \n",
       "Violator                 False            False       False             False   \n",
       "Violet Parr              False            False       False             False   \n",
       "Vision                   False            False       False             False   \n",
       "Vixen                    False            False       False             False   \n",
       "Vulture                  False            False       False             False   \n",
       "Walrus                   False            False       False             False   \n",
       "War Machine              False            False       False             False   \n",
       "Warlock                  False            False       False             False   \n",
       "Warp                     False            False       False             False   \n",
       "Warpath                  False            False       False             False   \n",
       "Wasp                     False            False       False             False   \n",
       "Watcher                  False            False       False             False   \n",
       "Weapon XI                False            False       False             False   \n",
       "White Canary             False            False       False             False   \n",
       "Wildfire                 False            False       False             False   \n",
       "Winter Soldier           False            False       False             False   \n",
       "Wolfsbane                False            False       False             False   \n",
       "Wolverine                False            False       False             False   \n",
       "Wonder Girl              False            False       False             False   \n",
       "Wonder Man               False            False       False             False   \n",
       "Wonder Woman             False            False       False             False   \n",
       "X-23                     False            False       False             False   \n",
       "X-Man                    False            False       False             False   \n",
       "Yellowjacket             False            False       False             False   \n",
       "Yellowjacket II          False            False       False             False   \n",
       "Ymir                     False            False       False             False   \n",
       "Yoda                     False            False       False             False   \n",
       "Zatanna                  False            False       False             False   \n",
       "Zoom                     False            False       False             False   \n",
       "\n",
       "                  Speed Force  Phoenix Force  Molecular Dissipation  \\\n",
       "hero_names                                                            \n",
       "3-D Man                 False          False                  False   \n",
       "A-Bomb                  False          False                  False   \n",
       "Abe Sapien              False          False                  False   \n",
       "Abin Sur                False          False                  False   \n",
       "Abomination             False          False                  False   \n",
       "Abraxas                 False          False                  False   \n",
       "Absorbing Man           False          False                  False   \n",
       "Adam Monroe             False          False                  False   \n",
       "Adam Strange            False          False                  False   \n",
       "Agent Bob               False          False                  False   \n",
       "Agent Zero              False          False                  False   \n",
       "Air-Walker              False          False                  False   \n",
       "Ajax                    False          False                  False   \n",
       "Alan Scott              False          False                  False   \n",
       "Alex Mercer             False          False                  False   \n",
       "Alex Woolsly            False          False                  False   \n",
       "Alien                   False          False                  False   \n",
       "Allan Quatermain        False          False                  False   \n",
       "Amazo                   False          False                  False   \n",
       "Ammo                    False          False                  False   \n",
       "Ando Masahashi          False          False                  False   \n",
       "Angel                   False          False                  False   \n",
       "Angel Dust              False          False                  False   \n",
       "Angel Salvadore         False          False                  False   \n",
       "Angela                  False          False                  False   \n",
       "Animal Man              False          False                  False   \n",
       "Annihilus               False          False                  False   \n",
       "Ant-Man                 False          False                  False   \n",
       "Ant-Man II              False          False                  False   \n",
       "Anti-Monitor            False          False                  False   \n",
       "...                       ...            ...                    ...   \n",
       "Vindicator              False          False                  False   \n",
       "Violator                False          False                  False   \n",
       "Violet Parr             False          False                  False   \n",
       "Vision                  False          False                  False   \n",
       "Vixen                   False          False                  False   \n",
       "Vulture                 False          False                  False   \n",
       "Walrus                  False          False                  False   \n",
       "War Machine             False          False                  False   \n",
       "Warlock                 False          False                  False   \n",
       "Warp                    False          False                  False   \n",
       "Warpath                 False          False                  False   \n",
       "Wasp                    False          False                  False   \n",
       "Watcher                 False          False                  False   \n",
       "Weapon XI               False          False                  False   \n",
       "White Canary            False          False                  False   \n",
       "Wildfire                False          False                  False   \n",
       "Winter Soldier          False          False                  False   \n",
       "Wolfsbane               False          False                  False   \n",
       "Wolverine               False          False                  False   \n",
       "Wonder Girl             False          False                  False   \n",
       "Wonder Man              False          False                  False   \n",
       "Wonder Woman            False          False                  False   \n",
       "X-23                    False          False                  False   \n",
       "X-Man                   False          False                  False   \n",
       "Yellowjacket            False          False                  False   \n",
       "Yellowjacket II         False          False                  False   \n",
       "Ymir                    False          False                  False   \n",
       "Yoda                    False          False                  False   \n",
       "Zatanna                 False          False                  False   \n",
       "Zoom                    False          False                  False   \n",
       "\n",
       "                  Vision - Cryo  Omnipresent  Omniscient  \n",
       "hero_names                                                \n",
       "3-D Man                   False        False       False  \n",
       "A-Bomb                    False        False       False  \n",
       "Abe Sapien                False        False       False  \n",
       "Abin Sur                  False        False       False  \n",
       "Abomination               False        False       False  \n",
       "Abraxas                   False        False       False  \n",
       "Absorbing Man             False        False       False  \n",
       "Adam Monroe               False        False       False  \n",
       "Adam Strange              False        False       False  \n",
       "Agent Bob                 False        False       False  \n",
       "Agent Zero                False        False       False  \n",
       "Air-Walker                False        False       False  \n",
       "Ajax                      False        False       False  \n",
       "Alan Scott                False        False       False  \n",
       "Alex Mercer               False        False       False  \n",
       "Alex Woolsly              False        False       False  \n",
       "Alien                     False        False       False  \n",
       "Allan Quatermain          False        False       False  \n",
       "Amazo                     False        False       False  \n",
       "Ammo                      False        False       False  \n",
       "Ando Masahashi            False        False       False  \n",
       "Angel                     False        False       False  \n",
       "Angel Dust                False        False       False  \n",
       "Angel Salvadore           False        False       False  \n",
       "Angela                    False        False       False  \n",
       "Animal Man                False        False       False  \n",
       "Annihilus                 False        False       False  \n",
       "Ant-Man                   False        False       False  \n",
       "Ant-Man II                False        False       False  \n",
       "Anti-Monitor              False        False       False  \n",
       "...                         ...          ...         ...  \n",
       "Vindicator                False        False       False  \n",
       "Violator                  False        False       False  \n",
       "Violet Parr               False        False       False  \n",
       "Vision                    False        False       False  \n",
       "Vixen                     False        False       False  \n",
       "Vulture                   False        False       False  \n",
       "Walrus                    False        False       False  \n",
       "War Machine               False        False       False  \n",
       "Warlock                   False        False       False  \n",
       "Warp                      False        False       False  \n",
       "Warpath                   False        False       False  \n",
       "Wasp                      False        False       False  \n",
       "Watcher                   False        False       False  \n",
       "Weapon XI                 False        False       False  \n",
       "White Canary              False        False       False  \n",
       "Wildfire                  False        False       False  \n",
       "Winter Soldier            False        False       False  \n",
       "Wolfsbane                 False        False       False  \n",
       "Wolverine                 False        False       False  \n",
       "Wonder Girl               False        False       False  \n",
       "Wonder Man                False        False       False  \n",
       "Wonder Woman              False        False       False  \n",
       "X-23                      False        False       False  \n",
       "X-Man                     False        False       False  \n",
       "Yellowjacket              False        False       False  \n",
       "Yellowjacket II           False        False       False  \n",
       "Ymir                      False        False       False  \n",
       "Yoda                      False        False       False  \n",
       "Zatanna                   False        False       False  \n",
       "Zoom                      False        False       False  \n",
       "\n",
       "[667 rows x 167 columns]"
      ]
     },
     "execution_count": 30,
     "metadata": {},
     "output_type": "execute_result"
    }
   ],
   "source": [
    "# Here we want to reset the index of each df to the names column for powers_df\n",
    "powers_df.set_index(powers_df['hero_names']).drop('hero_names',axis=1)"
   ]
  },
  {
   "cell_type": "markdown",
   "metadata": {},
   "source": [
    "In the cell below, subset male and female heroes into different dataframes.  Create a scatterplot of the height and weight of each hero, with weight as the y-axis.  Plot both the male and female heroes subset into each dataframe, and make the color for each point in the scatterplot correspond to the gender of the superhero."
   ]
  },
  {
   "cell_type": "code",
   "execution_count": 33,
   "metadata": {},
   "outputs": [
    {
     "name": "stdout",
     "output_type": "stream",
     "text": [
      "<class 'pandas.core.frame.DataFrame'>\n",
      "Int64Index: 650 entries, 0 to 666\n",
      "Columns: 178 entries, name to Omniscient\n",
      "dtypes: bool(167), float64(2), object(9)\n",
      "memory usage: 166.9+ KB\n"
     ]
    },
    {
     "data": {
      "text/html": [
       "<div>\n",
       "<style scoped>\n",
       "    .dataframe tbody tr th:only-of-type {\n",
       "        vertical-align: middle;\n",
       "    }\n",
       "\n",
       "    .dataframe tbody tr th {\n",
       "        vertical-align: top;\n",
       "    }\n",
       "\n",
       "    .dataframe thead th {\n",
       "        text-align: right;\n",
       "    }\n",
       "</style>\n",
       "<table border=\"1\" class=\"dataframe\">\n",
       "  <thead>\n",
       "    <tr style=\"text-align: right;\">\n",
       "      <th></th>\n",
       "      <th>name</th>\n",
       "      <th>Gender</th>\n",
       "      <th>Eye color</th>\n",
       "      <th>Race</th>\n",
       "      <th>Hair color</th>\n",
       "      <th>Height</th>\n",
       "      <th>Publisher</th>\n",
       "      <th>Skin color</th>\n",
       "      <th>Alignment</th>\n",
       "      <th>Weight</th>\n",
       "      <th>...</th>\n",
       "      <th>Web Creation</th>\n",
       "      <th>Reality Warping</th>\n",
       "      <th>Odin Force</th>\n",
       "      <th>Symbiote Costume</th>\n",
       "      <th>Speed Force</th>\n",
       "      <th>Phoenix Force</th>\n",
       "      <th>Molecular Dissipation</th>\n",
       "      <th>Vision - Cryo</th>\n",
       "      <th>Omnipresent</th>\n",
       "      <th>Omniscient</th>\n",
       "    </tr>\n",
       "  </thead>\n",
       "  <tbody>\n",
       "    <tr>\n",
       "      <th>0</th>\n",
       "      <td>A-Bomb</td>\n",
       "      <td>Male</td>\n",
       "      <td>yellow</td>\n",
       "      <td>Human</td>\n",
       "      <td>No Hair</td>\n",
       "      <td>203.0</td>\n",
       "      <td>Marvel Comics</td>\n",
       "      <td>Unknown</td>\n",
       "      <td>good</td>\n",
       "      <td>441.0</td>\n",
       "      <td>...</td>\n",
       "      <td>False</td>\n",
       "      <td>False</td>\n",
       "      <td>False</td>\n",
       "      <td>False</td>\n",
       "      <td>False</td>\n",
       "      <td>False</td>\n",
       "      <td>False</td>\n",
       "      <td>False</td>\n",
       "      <td>False</td>\n",
       "      <td>False</td>\n",
       "    </tr>\n",
       "    <tr>\n",
       "      <th>1</th>\n",
       "      <td>Abe Sapien</td>\n",
       "      <td>Male</td>\n",
       "      <td>blue</td>\n",
       "      <td>Icthyo Sapien</td>\n",
       "      <td>No Hair</td>\n",
       "      <td>191.0</td>\n",
       "      <td>Dark Horse Comics</td>\n",
       "      <td>blue</td>\n",
       "      <td>good</td>\n",
       "      <td>65.0</td>\n",
       "      <td>...</td>\n",
       "      <td>False</td>\n",
       "      <td>False</td>\n",
       "      <td>False</td>\n",
       "      <td>False</td>\n",
       "      <td>False</td>\n",
       "      <td>False</td>\n",
       "      <td>False</td>\n",
       "      <td>False</td>\n",
       "      <td>False</td>\n",
       "      <td>False</td>\n",
       "    </tr>\n",
       "    <tr>\n",
       "      <th>2</th>\n",
       "      <td>Abin Sur</td>\n",
       "      <td>Male</td>\n",
       "      <td>blue</td>\n",
       "      <td>Ungaran</td>\n",
       "      <td>No Hair</td>\n",
       "      <td>185.0</td>\n",
       "      <td>DC Comics</td>\n",
       "      <td>red</td>\n",
       "      <td>good</td>\n",
       "      <td>90.0</td>\n",
       "      <td>...</td>\n",
       "      <td>False</td>\n",
       "      <td>False</td>\n",
       "      <td>False</td>\n",
       "      <td>False</td>\n",
       "      <td>False</td>\n",
       "      <td>False</td>\n",
       "      <td>False</td>\n",
       "      <td>False</td>\n",
       "      <td>False</td>\n",
       "      <td>False</td>\n",
       "    </tr>\n",
       "    <tr>\n",
       "      <th>3</th>\n",
       "      <td>Abomination</td>\n",
       "      <td>Male</td>\n",
       "      <td>green</td>\n",
       "      <td>Human / Radiation</td>\n",
       "      <td>No Hair</td>\n",
       "      <td>203.0</td>\n",
       "      <td>Marvel Comics</td>\n",
       "      <td>Unknown</td>\n",
       "      <td>bad</td>\n",
       "      <td>441.0</td>\n",
       "      <td>...</td>\n",
       "      <td>False</td>\n",
       "      <td>False</td>\n",
       "      <td>False</td>\n",
       "      <td>False</td>\n",
       "      <td>False</td>\n",
       "      <td>False</td>\n",
       "      <td>False</td>\n",
       "      <td>False</td>\n",
       "      <td>False</td>\n",
       "      <td>False</td>\n",
       "    </tr>\n",
       "    <tr>\n",
       "      <th>4</th>\n",
       "      <td>Abraxas</td>\n",
       "      <td>Male</td>\n",
       "      <td>blue</td>\n",
       "      <td>Cosmic Entity</td>\n",
       "      <td>Black</td>\n",
       "      <td>NaN</td>\n",
       "      <td>Marvel Comics</td>\n",
       "      <td>Unknown</td>\n",
       "      <td>bad</td>\n",
       "      <td>NaN</td>\n",
       "      <td>...</td>\n",
       "      <td>False</td>\n",
       "      <td>False</td>\n",
       "      <td>False</td>\n",
       "      <td>False</td>\n",
       "      <td>False</td>\n",
       "      <td>False</td>\n",
       "      <td>False</td>\n",
       "      <td>False</td>\n",
       "      <td>False</td>\n",
       "      <td>False</td>\n",
       "    </tr>\n",
       "  </tbody>\n",
       "</table>\n",
       "<p>5 rows × 178 columns</p>\n",
       "</div>"
      ],
      "text/plain": [
       "          name Gender Eye color               Race Hair color  Height  \\\n",
       "0       A-Bomb   Male    yellow              Human    No Hair   203.0   \n",
       "1   Abe Sapien   Male      blue      Icthyo Sapien    No Hair   191.0   \n",
       "2     Abin Sur   Male      blue            Ungaran    No Hair   185.0   \n",
       "3  Abomination   Male     green  Human / Radiation    No Hair   203.0   \n",
       "4      Abraxas   Male      blue      Cosmic Entity      Black     NaN   \n",
       "\n",
       "           Publisher Skin color Alignment  Weight     ...     Web Creation  \\\n",
       "0      Marvel Comics    Unknown      good   441.0     ...            False   \n",
       "1  Dark Horse Comics       blue      good    65.0     ...            False   \n",
       "2          DC Comics        red      good    90.0     ...            False   \n",
       "3      Marvel Comics    Unknown       bad   441.0     ...            False   \n",
       "4      Marvel Comics    Unknown       bad     NaN     ...            False   \n",
       "\n",
       "   Reality Warping  Odin Force  Symbiote Costume  Speed Force  Phoenix Force  \\\n",
       "0            False       False             False        False          False   \n",
       "1            False       False             False        False          False   \n",
       "2            False       False             False        False          False   \n",
       "3            False       False             False        False          False   \n",
       "4            False       False             False        False          False   \n",
       "\n",
       "   Molecular Dissipation  Vision - Cryo  Omnipresent  Omniscient  \n",
       "0                  False          False        False       False  \n",
       "1                  False          False        False       False  \n",
       "2                  False          False        False       False  \n",
       "3                  False          False        False       False  \n",
       "4                  False          False        False       False  \n",
       "\n",
       "[5 rows x 178 columns]"
      ]
     },
     "execution_count": 33,
     "metadata": {},
     "output_type": "execute_result"
    }
   ],
   "source": [
    "# Combining heroes_df and powers_df by an 'inner' join, to avoid null values from either data set.\n",
    "# We have plenty of data to work with, so 'inner' should be fine.\n",
    "\n",
    "combined_df = heroes_df.join(powers_df, how='inner')\n",
    "combined_df.info()\n",
    "combined_df.head()"
   ]
  },
  {
   "cell_type": "markdown",
   "metadata": {},
   "source": [
    "## Some Initial Investigation\n",
    "\n",
    "Next, slice the DataFrame as needed and visualize the distribution of heights and weights by gender.  You should have 4 total plots.  \n",
    "\n",
    "In the cell below:\n",
    "\n",
    "* Slice the DataFrame into separate DataFrames by gender\n",
    "* Complete the `show_distplot` function.  This helper function should take in a DataFrame, a string containing the gender we want to visualize, and the column name we want to visualize by gender. The function should display a distplot visualization from seaborn of the column/gender combination.  \n",
    "\n",
    "Hint: Don't forget to check the [seaborn documentation for distplot](https://seaborn.pydata.org/generated/seaborn.distplot.html) if you have questions about how to use it correctly! "
   ]
  },
  {
   "cell_type": "code",
   "execution_count": 61,
   "metadata": {},
   "outputs": [
    {
     "name": "stderr",
     "output_type": "stream",
     "text": [
      "C:\\Users\\dougl\\Anaconda3\\envs\\learn-env\\lib\\site-packages\\ipykernel_launcher.py:6: SettingWithCopyWarning: \n",
      "A value is trying to be set on a copy of a slice from a DataFrame\n",
      "\n",
      "See the caveats in the documentation: http://pandas.pydata.org/pandas-docs/stable/indexing.html#indexing-view-versus-copy\n",
      "  \n",
      "C:\\Users\\dougl\\Anaconda3\\envs\\learn-env\\lib\\site-packages\\ipykernel_launcher.py:7: SettingWithCopyWarning: \n",
      "A value is trying to be set on a copy of a slice from a DataFrame\n",
      "\n",
      "See the caveats in the documentation: http://pandas.pydata.org/pandas-docs/stable/indexing.html#indexing-view-versus-copy\n",
      "  import sys\n"
     ]
    }
   ],
   "source": [
    "# Create dataframes separated by gender\n",
    "male_hero_hw_df = combined_df.loc[combined_df.Gender == 'Male']\n",
    "female_hero_hw_df = combined_df.loc[combined_df.Gender == 'Female']\n",
    "\n",
    "# Drop NaNs from each df, or else they will break the distplot\n",
    "male_hero_hw_df.dropna(axis=0, how='any', subset=['Height','Weight'], inplace=True)\n",
    "female_hero_hw_df.dropna(axis=0, how='any', subset=['Height','Weight'], inplace=True)\n",
    "\n",
    "# Create distplot helper function\n",
    "def show_distplot(dataframe, gender, column_name):\n",
    "    x = dataframe[column_name]\n",
    "    my_plot = sns.distplot(x, axlabel=f'{gender} {column_name}')\n",
    "    return my_plot"
   ]
  },
  {
   "cell_type": "code",
   "execution_count": 67,
   "metadata": {},
   "outputs": [
    {
     "name": "stderr",
     "output_type": "stream",
     "text": [
      "C:\\Users\\dougl\\Anaconda3\\envs\\learn-env\\lib\\site-packages\\scipy\\stats\\stats.py:1713: FutureWarning: Using a non-tuple sequence for multidimensional indexing is deprecated; use `arr[tuple(seq)]` instead of `arr[seq]`. In the future this will be interpreted as an array index, `arr[np.array(seq)]`, which will result either in an error or a different result.\n",
      "  return np.add.reduce(sorted[indexer] * weights, axis=axis) / sumval\n"
     ]
    },
    {
     "data": {
      "text/plain": [
       "count    297.000000\n",
       "mean     194.996633\n",
       "std       72.085980\n",
       "min       64.000000\n",
       "25%      180.000000\n",
       "50%      185.000000\n",
       "75%      193.000000\n",
       "max      975.000000\n",
       "Name: Height, dtype: float64"
      ]
     },
     "metadata": {},
     "output_type": "display_data"
    },
    {
     "data": {
      "image/png": "[encoded data removed]",
      "text/plain": [
       "<Figure size 432x288 with 1 Axes>"
      ]
     },
     "metadata": {
      "needs_background": "light"
     },
     "output_type": "display_data"
    }
   ],
   "source": [
    "# Male Height\n",
    "show_distplot(male_hero_hw_df, 'Male', 'Height')\n",
    "display(male_hero_hw_df.Height.describe())"
   ]
  },
  {
   "cell_type": "code",
   "execution_count": 68,
   "metadata": {},
   "outputs": [
    {
     "name": "stderr",
     "output_type": "stream",
     "text": [
      "C:\\Users\\dougl\\Anaconda3\\envs\\learn-env\\lib\\site-packages\\scipy\\stats\\stats.py:1713: FutureWarning: Using a non-tuple sequence for multidimensional indexing is deprecated; use `arr[tuple(seq)]` instead of `arr[seq]`. In the future this will be interpreted as an array index, `arr[np.array(seq)]`, which will result either in an error or a different result.\n",
      "  return np.add.reduce(sorted[indexer] * weights, axis=axis) / sumval\n"
     ]
    },
    {
     "data": {
      "text/plain": [
       "count    297.000000\n",
       "mean     127.794613\n",
       "std      115.644821\n",
       "min        4.000000\n",
       "25%       79.000000\n",
       "50%       90.000000\n",
       "75%      119.000000\n",
       "max      900.000000\n",
       "Name: Weight, dtype: float64"
      ]
     },
     "metadata": {},
     "output_type": "display_data"
    },
    {
     "data": {
      "image/png": "[encoded data removed]",
      "text/plain": [
       "<Figure size 432x288 with 1 Axes>"
      ]
     },
     "metadata": {
      "needs_background": "light"
     },
     "output_type": "display_data"
    }
   ],
   "source": [
    "# Male Weight\n",
    "show_distplot(male_hero_hw_df, 'Male', 'Weight')\n",
    "display(male_hero_hw_df.Weight.describe())"
   ]
  },
  {
   "cell_type": "code",
   "execution_count": 71,
   "metadata": {},
   "outputs": [
    {
     "name": "stderr",
     "output_type": "stream",
     "text": [
      "C:\\Users\\dougl\\Anaconda3\\envs\\learn-env\\lib\\site-packages\\scipy\\stats\\stats.py:1713: FutureWarning: Using a non-tuple sequence for multidimensional indexing is deprecated; use `arr[tuple(seq)]` instead of `arr[seq]`. In the future this will be interpreted as an array index, `arr[np.array(seq)]`, which will result either in an error or a different result.\n",
      "  return np.add.reduce(sorted[indexer] * weights, axis=axis) / sumval\n"
     ]
    },
    {
     "data": {
      "text/plain": [
       "count    118.000000\n",
       "mean     172.631356\n",
       "std       14.125571\n",
       "min       62.500000\n",
       "25%      168.000000\n",
       "50%      171.500000\n",
       "75%      178.000000\n",
       "max      218.000000\n",
       "Name: Height, dtype: float64"
      ]
     },
     "metadata": {},
     "output_type": "display_data"
    },
    {
     "data": {
      "image/png": "[encoded data removed]",
      "text/plain": [
       "<Figure size 432x288 with 1 Axes>"
      ]
     },
     "metadata": {
      "needs_background": "light"
     },
     "output_type": "display_data"
    }
   ],
   "source": [
    "# Female Height\n",
    "show_distplot(female_hero_hw_df, 'Female', 'Height')\n",
    "display(female_hero_hw_df.Height.describe())"
   ]
  },
  {
   "cell_type": "code",
   "execution_count": 72,
   "metadata": {},
   "outputs": [
    {
     "name": "stderr",
     "output_type": "stream",
     "text": [
      "C:\\Users\\dougl\\Anaconda3\\envs\\learn-env\\lib\\site-packages\\scipy\\stats\\stats.py:1713: FutureWarning: Using a non-tuple sequence for multidimensional indexing is deprecated; use `arr[tuple(seq)]` instead of `arr[seq]`. In the future this will be interpreted as an array index, `arr[np.array(seq)]`, which will result either in an error or a different result.\n",
      "  return np.add.reduce(sorted[indexer] * weights, axis=axis) / sumval\n"
     ]
    },
    {
     "data": {
      "text/plain": [
       "count    118.000000\n",
       "mean      76.338983\n",
       "std       73.898431\n",
       "min       48.000000\n",
       "25%       54.000000\n",
       "50%       58.000000\n",
       "75%       64.500000\n",
       "max      630.000000\n",
       "Name: Weight, dtype: float64"
      ]
     },
     "metadata": {},
     "output_type": "display_data"
    },
    {
     "data": {
      "image/png": "[encoded data removed]",
      "text/plain": [
       "<Figure size 432x288 with 1 Axes>"
      ]
     },
     "metadata": {
      "needs_background": "light"
     },
     "output_type": "display_data"
    }
   ],
   "source": [
    "# Female Weight\n",
    "show_distplot(female_hero_hw_df, 'Female', 'Weight')\n",
    "display(female_hero_hw_df.Weight.describe())"
   ]
  },
  {
   "cell_type": "markdown",
   "metadata": {},
   "source": [
    "Discuss your findings from the plots above, with respect to the distribution of height and weight by gender.  Your explanation should include a discussion of any relevant summary statistics, including mean, median, mode, and the overall shape of each distribution.  \n",
    "\n",
    "Write your answer below this line:\n",
    "_________________________________________________________________________________________________________________________\n",
    "\n",
    "#### Male height is a right-skewed distribution, with most observations near the median of 185. The right-skewed nature of the distribution pulls the mean (~195) above the 75% quantile (193) due to some very tall height outliers.\n",
    "\n",
    "#### Male weight, similar to male height, is a right-skewed distribution, with most observations near the median of 90. The right-skewed nature of the distribution pulls the mean (127.8) above the 75% quantile (119) due to some very heavy weight outliers.\n",
    "\n",
    "#### Female height is a more normal distribution, with a much lower standard deviation than either male height or male weight, meaning that the average observation is much closer to the mean (172.6) of the distribution. The median (171.5) is very close to the mean in this distribution. At least one extremely low outlier is present at 62.5.\n",
    "\n",
    "#### Female weight is a very right-skewed distribution, with most observations falling near the median of 58. The right-skewed nature of the distribution pulls the mean (76.3) above the 75% quantile (64.5) due to some very heavy outliers.\n"
   ]
  },
  {
   "cell_type": "markdown",
   "metadata": {},
   "source": [
    "### Sample Question: Most Common Powers\n",
    "\n",
    "The rest of this notebook will be left to you to investigate the dataset by formulating your own questions, and then seeking answers using pandas and numpy.  Every answer should include some sort of visualization, when appropriate. Before moving on to formulating your own questions, use the dataset to answer the following questions about superhero powers:\n",
    "\n",
    "* What are the 5 most common powers overall?\n",
    "* What are the 5 most common powers in the Marvel Universe?\n",
    "* What are the 5 most common powers in the DC Universe?"
   ]
  },
  {
   "cell_type": "code",
   "execution_count": null,
   "metadata": {},
   "outputs": [],
   "source": [
    "# Determining 5 most common powers overall in data set (using combined_df)\n"
   ]
  },
  {
   "cell_type": "code",
   "execution_count": null,
   "metadata": {},
   "outputs": [],
   "source": []
  },
  {
   "cell_type": "code",
   "execution_count": null,
   "metadata": {},
   "outputs": [],
   "source": []
  },
  {
   "cell_type": "code",
   "execution_count": null,
   "metadata": {},
   "outputs": [],
   "source": []
  },
  {
   "cell_type": "markdown",
   "metadata": {},
   "source": [
    "Analyze the results you found above to answer the following question:\n",
    "\n",
    "How do the top 5 powers in the Marvel and DC universes compare?  Are they similar, or are there significant differences? How do they compare to the overall trends in the entire Superheroes dataset?\n",
    "\n",
    "Write your answer below this line:\n",
    "____________________________________________________________________________________________________________________________\n",
    "\n",
    "\n",
    "### Your Own Investigation\n",
    "\n",
    "For the remainder of this lab, you'll be focusing on coming up with and answering your own question, just like we did above.  Your question should not be overly simple, and should require both descriptive statistics and data visualization to answer.  In case you're unsure of what questions to ask, some sample questions have been provided below.\n",
    "\n",
    "Pick one of the following questions to investigate and answer, or come up with one of your own!\n",
    "\n",
    "* Which powers have the highest chance of co-occurring in a hero (e.g. super strength and flight), and does this differ by gender?\n",
    "* Is there a relationship between a hero's height and weight and their powerset?\n",
    "* What is the distribution of skin colors amongst alien heroes?\n",
    "\n",
    "Explain your question below this line:\n",
    "____________________________________________________________________________________________________________________________\n",
    "\n",
    "\n",
    "\n",
    "Some sample cells have been provided to give you room to work. If you need to create more cells, you can do this easily by:\n",
    "\n",
    "1. Highlighting a cell and then pressing `esc` to enter command mode.\n",
    "1. Pressing `b` to add a cell below the currently highlighted cell, or `a` to add one above it.  \n",
    "\n",
    "Be sure to include thoughtful, well-labeled visualizations to back up your analysis!"
   ]
  },
  {
   "cell_type": "code",
   "execution_count": null,
   "metadata": {},
   "outputs": [],
   "source": []
  },
  {
   "cell_type": "code",
   "execution_count": null,
   "metadata": {},
   "outputs": [],
   "source": []
  },
  {
   "cell_type": "code",
   "execution_count": null,
   "metadata": {},
   "outputs": [],
   "source": []
  },
  {
   "cell_type": "code",
   "execution_count": null,
   "metadata": {},
   "outputs": [],
   "source": []
  },
  {
   "cell_type": "code",
   "execution_count": null,
   "metadata": {},
   "outputs": [],
   "source": []
  },
  {
   "cell_type": "code",
   "execution_count": null,
   "metadata": {},
   "outputs": [],
   "source": []
  },
  {
   "cell_type": "markdown",
   "metadata": {},
   "source": [
    "## Summary\n",
    "\n",
    "In this lab, we demonstrated our mastery of:\n",
    "* Using all of our Pandas knowledge to date to clean the dataset and deal with null values\n",
    "* Using Queries and aggregations to group the data into interesting subsets as needed\n",
    "* Using descriptive statistics and data visualization to find answers to questions we may have about the data"
   ]
  }
 ],
 "metadata": {
  "kernelspec": {
   "display_name": "learn-env",
   "language": "python",
   "name": "learn-env"
  },
  "language_info": {
   "codemirror_mode": {
    "name": "ipython",
    "version": 3
   },
   "file_extension": ".py",
   "mimetype": "text/x-python",
   "name": "python",
   "nbconvert_exporter": "python",
   "pygments_lexer": "ipython3",
   "version": "3.6.6"
  }
 },
 "nbformat": 4,
 "nbformat_minor": 2
}
